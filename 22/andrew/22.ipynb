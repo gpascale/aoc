{
 "cells": [
  {
   "cell_type": "code",
   "execution_count": 1,
   "id": "db7ef100-7b59-434c-bc7a-d665ce038a09",
   "metadata": {
    "tags": []
   },
   "outputs": [],
   "source": [
    "with open('input.txt') as fl:\n",
    "    bricks = [[[int(c) for c in brick.split(',')] for brick in ln.strip().split('~')  ] for i, ln in enumerate(fl.readlines())]\n",
    "bricks = {i:brick for i, brick in enumerate(sorted(bricks, key=lambda x: min(x[0][2], x[1][2])))}\n",
    "mx = max([max(b[0][0],b[1][0]) for b in bricks.values()])\n",
    "my = max([max(b[0][1],b[1][1]) for b in bricks.values()])\n",
    "mz = max([max(b[0][2],b[1][2]) for b in bricks.values()])"
   ]
  },
  {
   "cell_type": "code",
   "execution_count": 2,
   "id": "e24377bf-4f1d-499d-a117-f0a380e3a5b5",
   "metadata": {
    "tags": []
   },
   "outputs": [],
   "source": [
    "xylookup = {}\n",
    "missed = 0\n",
    "for x in range(mx+1):\n",
    "    for y in range(my+1):\n",
    "        xylookup[(x,y)] = {}\n",
    "        for b, ((bx1,by1,bz1), (bx2,by2,bz2)) in bricks.items():\n",
    "            if bx1==bx2 and by1==by2 and x==bx1 and y==by1:\n",
    "                # single point brick (vertical)\n",
    "                xylookup[(x,y)][b] = (min(bz1, bz2), max(bz1, bz2))\n",
    "            elif bz1==bz2 and by1==by2 and min(bx1,bx2)<=x<=max(bx1,bx2) and y==by1: \n",
    "                # brick in x dim\n",
    "                xylookup[(x,y)][b] = (bz1, bz1)\n",
    "            elif bz1==bz2 and bx1==bx2 and min(by1,by2)<=y<=max(by1,by2) and x==bx1:\n",
    "                # brick in y dim\n",
    "                xylookup[(x,y)][b] = (bz1, bz1)\n",
    "            else:\n",
    "                missed += 1\n",
    "        xylookup[(x,y)] = {p:z for p,z in sorted(xylookup[(x,y)].items(), key=lambda x: x[1][0])}"
   ]
  },
  {
   "cell_type": "code",
   "execution_count": 3,
   "id": "454f9194-49c8-4fc3-b864-6dbfe43d1c32",
   "metadata": {
    "tags": []
   },
   "outputs": [],
   "source": [
    "# go through each brick (which is defined to be in starting z order) and drop them\n",
    "# if they hit another, store the z network\n",
    "# don't forget to update the x,y lookup\n",
    "support_network = {}\n",
    "for b, ((bx1,by1,bz1), (bx2,by2,bz2)) in bricks.items():\n",
    "    bzb, bzt = min(bz1, bz2), max(bz1, bz2)\n",
    "    if min(bz1,bz2) == 1:\n",
    "        continue\n",
    "    # get bricks below\n",
    "    below = {}\n",
    "    for x in range(min(bx1,bx2), max(bx1,bx2)+1):\n",
    "        for y in range(min(by1,by2), max(by1,by2)+1):\n",
    "            for bb, (bbz1, bbz2) in xylookup[(x,y)].items():\n",
    "                bbzt = max(bbz1,bbz2)\n",
    "                if bzb > bbzt:\n",
    "                    below[bb] = bbzt\n",
    "    # drop the brick to the bottom\n",
    "    if len(below) > 0:\n",
    "        mzb = max(below.values())\n",
    "        below = [b for b, z in below.items() if z==mzb]\n",
    "        # now drop the brick and update the support network and lookups\n",
    "        nzb,nzt = mzb+1,mzb+1+bzt-bzb\n",
    "        support_network[b] = below\n",
    "    else:\n",
    "        nzb,nzt = 1,1+bzt-bzb\n",
    "    bricks[b] = [[bx1,by1,nzb],[bx2,by2,nzt]]\n",
    "        \n",
    "    # update the lookup table with new heights\n",
    "    for x in range(min(bx1,bx2), max(bx1,bx2)+1):\n",
    "        for y in range(min(by1,by2), max(by1,by2)+1):\n",
    "            if b in xylookup[(x,y)]:\n",
    "                xylookup[(x,y)][b] = (nzb, nzt)\n",
    "    "
   ]
  },
  {
   "cell_type": "code",
   "execution_count": 4,
   "id": "777eb125-fd1f-45fc-bd40-1e338d1c7a7d",
   "metadata": {
    "tags": []
   },
   "outputs": [
    {
     "data": {
      "text/plain": [
       "418"
      ]
     },
     "execution_count": 4,
     "metadata": {},
     "output_type": "execute_result"
    }
   ],
   "source": [
    "# part 1\n",
    "critical = set()\n",
    "for s in support_network.values():\n",
    "    if len(s) == 1:\n",
    "        critical.add(s[0])\n",
    "len(set(bricks.keys()) -  critical)"
   ]
  },
  {
   "cell_type": "code",
   "execution_count": 5,
   "id": "70c21544-915a-479f-9b03-526f69d1b844",
   "metadata": {
    "tags": []
   },
   "outputs": [
    {
     "data": {
      "text/plain": [
       "70702"
      ]
     },
     "execution_count": 5,
     "metadata": {},
     "output_type": "execute_result"
    }
   ],
   "source": [
    "# part 2\n",
    "def chain(start):\n",
    "    p_len = 0\n",
    "    gone = set([start])\n",
    "    while len(gone) != p_len:\n",
    "        p_len = len(gone)\n",
    "        for b, s in support_network.items():\n",
    "            if len(set(s) - gone) == 0:\n",
    "                gone.add(b)\n",
    "    gone.remove(start)\n",
    "    return gone\n",
    "sum([len(chain(s)) for s in bricks])"
   ]
  }
 ],
 "metadata": {
  "kernelspec": {
   "display_name": "Python 3 (ipykernel)",
   "language": "python",
   "name": "python3"
  },
  "language_info": {
   "codemirror_mode": {
    "name": "ipython",
    "version": 3
   },
   "file_extension": ".py",
   "mimetype": "text/x-python",
   "name": "python",
   "nbconvert_exporter": "python",
   "pygments_lexer": "ipython3",
   "version": "3.11.5"
  }
 },
 "nbformat": 4,
 "nbformat_minor": 5
}
