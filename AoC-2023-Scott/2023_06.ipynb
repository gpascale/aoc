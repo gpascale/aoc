{
 "cells": [
  {
   "cell_type": "code",
   "execution_count": 2,
   "metadata": {},
   "outputs": [
    {
     "name": "stdout",
     "output_type": "stream",
     "text": [
      "[34, 36, 10, 18]\n",
      "Part 1: 220320\n"
     ]
    }
   ],
   "source": [
    "times= [59, 79, 65, 75]\n",
    "dists = [597, 1234, 1032, 1328]\n",
    "\n",
    "numways = [0]*len(times)\n",
    "for ind in range(0, len(times)):\n",
    "    time = times[ind]\n",
    "    dist = dists[ind]\n",
    "    for hold in range(0,time+1):\n",
    "        travel = (time-hold)*hold\n",
    "        if travel >= dist:\n",
    "            numways[ind] += 1\n",
    "print(numways)\n",
    "# take the product of the number of ways to get to each city\n",
    "from numpy import prod\n",
    "print('Part 1:',prod(numways))\n",
    " "
   ]
  },
  {
   "cell_type": "code",
   "execution_count": 3,
   "metadata": {},
   "outputs": [
    {
     "name": "stdout",
     "output_type": "stream",
     "text": [
      "Part 2: 34454850\n"
     ]
    }
   ],
   "source": [
    "times= [59796575]\n",
    "dists = [597123410321328]\n",
    "\n",
    "numways = [0]*len(times)\n",
    "for ind in range(0, len(times)):\n",
    "    time = times[ind]\n",
    "    dist = dists[ind]\n",
    "    for hold in range(0,time+1):\n",
    "        travel = (time-hold)*hold\n",
    "        if travel >= dist:\n",
    "            numways[ind] += 1\n",
    "print('Part 2:',numways[0])\n",
    "\n",
    " "
   ]
  }
 ],
 "metadata": {
  "kernelspec": {
   "display_name": "Python 3",
   "language": "python",
   "name": "python3"
  },
  "language_info": {
   "codemirror_mode": {
    "name": "ipython",
    "version": 3
   },
   "file_extension": ".py",
   "mimetype": "text/x-python",
   "name": "python",
   "nbconvert_exporter": "python",
   "pygments_lexer": "ipython3",
   "version": "3.11.2"
  }
 },
 "nbformat": 4,
 "nbformat_minor": 2
}
