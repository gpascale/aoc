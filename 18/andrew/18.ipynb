{
 "cells": [
  {
   "cell_type": "code",
   "execution_count": 1,
   "id": "ee678171-8369-4b83-ae99-1969e3085a45",
   "metadata": {
    "tags": []
   },
   "outputs": [],
   "source": [
    "with open('input.txt') as fl:\n",
    "    lns = fl.readlines()"
   ]
  },
  {
   "cell_type": "code",
   "execution_count": 2,
   "id": "973c54ba-480d-4e74-a793-b885b96d8ebf",
   "metadata": {
    "tags": []
   },
   "outputs": [
    {
     "data": {
      "text/plain": [
       "52885384955882"
      ]
     },
     "execution_count": 2,
     "metadata": {},
     "output_type": "execute_result"
    }
   ],
   "source": [
    "# shoelace\n",
    "directions = {'R':(0,1),'L':(0,-1),'D':(1,0),'U':(-1,0)}\n",
    "d_map = ('R', 'D', 'L', 'U')\n",
    "corners = [(0,0)]\n",
    "part2 = True\n",
    "border = 0\n",
    "for ln in lns:\n",
    "    d, n, color = ln.strip().split(' ')\n",
    "    color = color.strip('(#)')\n",
    "    if part2:\n",
    "        n = int(color[:5], 16)\n",
    "        d = d_map[int(color[-1])]\n",
    "    n = int(n)\n",
    "    border += n\n",
    "    dx, dy = directions[d]\n",
    "    x, y = corners[-1]\n",
    "    corners.append((x+n*dx, y+n*dy))\n",
    "\n",
    "# adjust to be positive numbers\n",
    "n, m = min(p[0] for p in corners), min(p[1] for p in corners)\n",
    "corners = [(i-n,j-m) for i,j in corners]\n",
    "\n",
    "# shoelace formula\n",
    "total = 0\n",
    "for i, corner in enumerate(corners):\n",
    "    ind = lambda x: (x + len(corners)) % len(corners)\n",
    "    y_i, x_m1, x_p1 = corners[i][1], corners[ind(i-1)][0], corners[ind(i+1)][0]\n",
    "    total -= y_i * (x_m1 - x_p1)\n",
    "# plus edge\n",
    "total = total / 2 + border / 2 + 1\n",
    "int(total)"
   ]
  }
 ],
 "metadata": {
  "kernelspec": {
   "display_name": "Python 3 (ipykernel)",
   "language": "python",
   "name": "python3"
  },
  "language_info": {
   "codemirror_mode": {
    "name": "ipython",
    "version": 3
   },
   "file_extension": ".py",
   "mimetype": "text/x-python",
   "name": "python",
   "nbconvert_exporter": "python",
   "pygments_lexer": "ipython3",
   "version": "3.11.5"
  }
 },
 "nbformat": 4,
 "nbformat_minor": 5
}
