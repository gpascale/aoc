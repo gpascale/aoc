{
 "cells": [
  {
   "cell_type": "code",
   "execution_count": 1,
   "id": "89944b25-ae3d-4309-a1e1-8e90f66cb84f",
   "metadata": {
    "tags": []
   },
   "outputs": [],
   "source": [
    "keys = []\n",
    "locks = []\n",
    "with open('input.txt','r') as fl:\n",
    "    new_key = False\n",
    "    new_lock = False\n",
    "    for ln in fl:\n",
    "        ln = ln.strip()\n",
    "        if ln == '.....' and not new_lock and not new_key:\n",
    "            new_key = [ln]\n",
    "        elif ln == '#####' and not new_lock and not new_key:\n",
    "            new_lock = [ln]\n",
    "        elif ln == '':\n",
    "            if new_key:\n",
    "                keys.append(new_key)\n",
    "                new_key = False\n",
    "            elif new_lock:\n",
    "                locks.append(new_lock)\n",
    "                new_lock = False\n",
    "        elif new_key:\n",
    "            new_key.append(ln)\n",
    "        elif new_lock:\n",
    "            new_lock.append(ln)\n",
    "    if new_key:\n",
    "        keys.append(new_key)\n",
    "        new_key = False\n",
    "    elif new_lock:\n",
    "        locks.append(new_lock)\n",
    "        new_lock = False    \n",
    "        \n",
    "def code_lock(lock):\n",
    "    code = [None]*5\n",
    "    for i, row in enumerate(lock[1:]):\n",
    "        for j, val in enumerate(row):\n",
    "            if val == '.' and code[j] is None:\n",
    "                code[j] = i\n",
    "    return code\n",
    "\n",
    "def code_key(key):\n",
    "    return code_lock(list(reversed(key)))\n",
    "\n",
    "keys = list(map(code_key, keys))\n",
    "locks = list(map(code_lock, locks))"
   ]
  },
  {
   "cell_type": "code",
   "execution_count": 2,
   "id": "f9f48d82-1a4e-4d4c-abcb-b08fab7f66a2",
   "metadata": {
    "tags": []
   },
   "outputs": [],
   "source": [
    "def check_key_lock(key, lock):\n",
    "    for k, l in zip(key, lock):\n",
    "        if k+l > 5:\n",
    "            return False\n",
    "    return True"
   ]
  },
  {
   "cell_type": "code",
   "execution_count": 3,
   "id": "0e11ea0a-08c7-4762-b80f-6a7aa58904f8",
   "metadata": {
    "tags": []
   },
   "outputs": [],
   "source": [
    "from itertools import product"
   ]
  },
  {
   "cell_type": "code",
   "execution_count": 4,
   "id": "175a9b11-3b50-42a0-8326-7389efc7e818",
   "metadata": {
    "tags": []
   },
   "outputs": [
    {
     "data": {
      "text/plain": [
       "3223"
      ]
     },
     "execution_count": 4,
     "metadata": {},
     "output_type": "execute_result"
    }
   ],
   "source": [
    "sum(list(map(lambda comb: check_key_lock(*comb), product(keys, locks))))"
   ]
  }
 ],
 "metadata": {
  "kernelspec": {
   "display_name": "Python 3 (ipykernel)",
   "language": "python",
   "name": "python3"
  },
  "language_info": {
   "codemirror_mode": {
    "name": "ipython",
    "version": 3
   },
   "file_extension": ".py",
   "mimetype": "text/x-python",
   "name": "python",
   "nbconvert_exporter": "python",
   "pygments_lexer": "ipython3",
   "version": "3.11.5"
  }
 },
 "nbformat": 4,
 "nbformat_minor": 5
}
