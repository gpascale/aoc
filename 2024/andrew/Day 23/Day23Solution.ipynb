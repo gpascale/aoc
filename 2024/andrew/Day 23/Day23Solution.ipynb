{
 "cells": [
  {
   "cell_type": "code",
   "execution_count": 112,
   "id": "df730a7f-1c55-49d5-b992-1b897ad95607",
   "metadata": {
    "tags": []
   },
   "outputs": [],
   "source": [
    "from itertools import combinations"
   ]
  },
  {
   "cell_type": "code",
   "execution_count": 113,
   "id": "8fdab6aa-411b-4e35-af13-60c2701ba5a0",
   "metadata": {
    "tags": []
   },
   "outputs": [],
   "source": [
    "cons = {}\n",
    "with open('input.txt', 'r') as fl:\n",
    "    for ln in fl:\n",
    "        c1, c2 = ln.strip().split('-')\n",
    "        cons[c1] = cons[c1] + [c2] if c1 in cons else [c2]\n",
    "        cons[c2] = cons[c2] + [c1] if c2 in cons else [c1]\n",
    "nc = len(list(cons.values())[0])"
   ]
  },
  {
   "cell_type": "code",
   "execution_count": 114,
   "id": "0016ca74-25fd-4052-95cf-771105d20434",
   "metadata": {
    "tags": []
   },
   "outputs": [
    {
     "data": {
      "text/plain": [
       "1098"
      ]
     },
     "execution_count": 114,
     "metadata": {},
     "output_type": "execute_result"
    }
   ],
   "source": [
    "# part 1\n",
    "groups = []\n",
    "for c1 in cons:\n",
    "    for c2, c3 in combinations(cons[c1], r=2):\n",
    "        if c3 in cons[c2]:\n",
    "            groups.append(tuple(sorted([c1,c2,c3])))\n",
    "groups = set(groups)\n",
    "sub_groups = list(filter(lambda grp: any(c[0] == 't' in c for c in grp), groups))\n",
    "len(sub_groups)"
   ]
  },
  {
   "cell_type": "code",
   "execution_count": 115,
   "id": "17679531-ea99-4eee-840f-57919e84da5b",
   "metadata": {
    "tags": []
   },
   "outputs": [],
   "source": [
    "# part 2\n",
    "for r in range(2, nc):\n",
    "    groups = []\n",
    "    for c1 in cons:\n",
    "        for cc in combinations(cons[c1], r=r):\n",
    "            good_net = True\n",
    "            for i in range(len(cc)-1):\n",
    "                if any(cc[i] not in cons[cc[j]] for j in range(i+1, len(cc))):\n",
    "                    good_net = False\n",
    "                    break\n",
    "            if good_net:\n",
    "                group = sorted([c1] + list(cc))\n",
    "                groups.append(tuple(group))\n",
    "    groups = list(set(groups))\n",
    "    if len(groups) == 1:\n",
    "        lan_party = groups[0]\n",
    "        break"
   ]
  },
  {
   "cell_type": "code",
   "execution_count": 117,
   "id": "f42b61e8-a73a-4eab-846d-05dfcac32ded",
   "metadata": {
    "tags": []
   },
   "outputs": [
    {
     "data": {
      "text/plain": [
       "'ar,ep,ih,ju,jx,le,ol,pk,pm,pp,xf,yu,zg'"
      ]
     },
     "execution_count": 117,
     "metadata": {},
     "output_type": "execute_result"
    }
   ],
   "source": [
    "','.join(lan_party)"
   ]
  }
 ],
 "metadata": {
  "kernelspec": {
   "display_name": "Python 3 (ipykernel)",
   "language": "python",
   "name": "python3"
  },
  "language_info": {
   "codemirror_mode": {
    "name": "ipython",
    "version": 3
   },
   "file_extension": ".py",
   "mimetype": "text/x-python",
   "name": "python",
   "nbconvert_exporter": "python",
   "pygments_lexer": "ipython3",
   "version": "3.11.5"
  }
 },
 "nbformat": 4,
 "nbformat_minor": 5
}
