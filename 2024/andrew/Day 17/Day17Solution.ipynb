{
 "cells": [
  {
   "cell_type": "code",
   "execution_count": 1,
   "id": "9ca80a4e-5867-435b-ac0f-33afc4ea3b9f",
   "metadata": {
    "tags": []
   },
   "outputs": [],
   "source": [
    "with open('input.txt', 'r') as fl:\n",
    "    for ln in fl:\n",
    "        if ln.startswith('Register A:'):\n",
    "            A = int(ln.split(' ')[-1])\n",
    "        if ln.startswith('Register B:'):\n",
    "            B = int(ln.split(' ')[-1])\n",
    "        if ln.startswith('Register C:'):\n",
    "            C = int(ln.split(' ')[-1])            \n",
    "        if ln.startswith('Program:'):\n",
    "            program = list(map(int, ln.strip().split(' ')[-1].split(',')))\n"
   ]
  },
  {
   "cell_type": "code",
   "execution_count": 2,
   "id": "10dde55f-736c-46ba-9784-4bd3813a94a1",
   "metadata": {
    "tags": []
   },
   "outputs": [
    {
     "data": {
      "text/plain": [
       "(22571680, 0, 0, [2, 4, 1, 3, 7, 5, 0, 3, 4, 3, 1, 5, 5, 5, 3, 0], 16)"
      ]
     },
     "execution_count": 2,
     "metadata": {},
     "output_type": "execute_result"
    }
   ],
   "source": [
    "A,B,C, program, len(program)"
   ]
  },
  {
   "cell_type": "code",
   "execution_count": 3,
   "id": "5bfb71af-3d60-4953-b72a-8478efba34ba",
   "metadata": {
    "tags": []
   },
   "outputs": [
    {
     "name": "stdout",
     "output_type": "stream",
     "text": [
      "0 2 4 {'A': 22571680, 'B': 0, 'C': 0} []\n",
      "2 1 3 {'A': 22571680, 'B': 0, 'C': 0} []\n",
      "4 7 5 {'A': 22571680, 'B': 3, 'C': 0} []\n",
      "6 0 3 {'A': 22571680, 'B': 3, 'C': 2821460} []\n",
      "8 4 3 {'A': 2821460, 'B': 3, 'C': 2821460} []\n",
      "10 1 5 {'A': 2821460, 'B': 2821463, 'C': 2821460} []\n",
      "12 5 5 {'A': 2821460, 'B': 2821458, 'C': 2821460} []\n",
      "14 3 0 {'A': 2821460, 'B': 2821458, 'C': 2821460} [2]\n",
      "0 2 4 {'A': 2821460, 'B': 2821458, 'C': 2821460} [2]\n",
      "2 1 3 {'A': 2821460, 'B': 4, 'C': 2821460} [2]\n",
      "4 7 5 {'A': 2821460, 'B': 7, 'C': 2821460} [2]\n",
      "6 0 3 {'A': 2821460, 'B': 7, 'C': 22042} [2]\n",
      "8 4 3 {'A': 352682, 'B': 7, 'C': 22042} [2]\n",
      "10 1 5 {'A': 352682, 'B': 22045, 'C': 22042} [2]\n",
      "12 5 5 {'A': 352682, 'B': 22040, 'C': 22042} [2]\n",
      "14 3 0 {'A': 352682, 'B': 22040, 'C': 22042} [2, 0]\n",
      "0 2 4 {'A': 352682, 'B': 22040, 'C': 22042} [2, 0]\n",
      "2 1 3 {'A': 352682, 'B': 2, 'C': 22042} [2, 0]\n",
      "4 7 5 {'A': 352682, 'B': 1, 'C': 22042} [2, 0]\n",
      "6 0 3 {'A': 352682, 'B': 1, 'C': 176341} [2, 0]\n",
      "8 4 3 {'A': 44085, 'B': 1, 'C': 176341} [2, 0]\n",
      "10 1 5 {'A': 44085, 'B': 176340, 'C': 176341} [2, 0]\n",
      "12 5 5 {'A': 44085, 'B': 176337, 'C': 176341} [2, 0]\n",
      "14 3 0 {'A': 44085, 'B': 176337, 'C': 176341} [2, 0, 1]\n",
      "0 2 4 {'A': 44085, 'B': 176337, 'C': 176341} [2, 0, 1]\n",
      "2 1 3 {'A': 44085, 'B': 5, 'C': 176341} [2, 0, 1]\n",
      "4 7 5 {'A': 44085, 'B': 6, 'C': 176341} [2, 0, 1]\n",
      "6 0 3 {'A': 44085, 'B': 6, 'C': 688} [2, 0, 1]\n",
      "8 4 3 {'A': 5510, 'B': 6, 'C': 688} [2, 0, 1]\n",
      "10 1 5 {'A': 5510, 'B': 694, 'C': 688} [2, 0, 1]\n",
      "12 5 5 {'A': 5510, 'B': 691, 'C': 688} [2, 0, 1]\n",
      "14 3 0 {'A': 5510, 'B': 691, 'C': 688} [2, 0, 1, 3]\n",
      "0 2 4 {'A': 5510, 'B': 691, 'C': 688} [2, 0, 1, 3]\n",
      "2 1 3 {'A': 5510, 'B': 6, 'C': 688} [2, 0, 1, 3]\n",
      "4 7 5 {'A': 5510, 'B': 5, 'C': 688} [2, 0, 1, 3]\n",
      "6 0 3 {'A': 5510, 'B': 5, 'C': 172} [2, 0, 1, 3]\n",
      "8 4 3 {'A': 688, 'B': 5, 'C': 172} [2, 0, 1, 3]\n",
      "10 1 5 {'A': 688, 'B': 169, 'C': 172} [2, 0, 1, 3]\n",
      "12 5 5 {'A': 688, 'B': 172, 'C': 172} [2, 0, 1, 3]\n",
      "14 3 0 {'A': 688, 'B': 172, 'C': 172} [2, 0, 1, 3, 4]\n",
      "0 2 4 {'A': 688, 'B': 172, 'C': 172} [2, 0, 1, 3, 4]\n",
      "2 1 3 {'A': 688, 'B': 0, 'C': 172} [2, 0, 1, 3, 4]\n",
      "4 7 5 {'A': 688, 'B': 3, 'C': 172} [2, 0, 1, 3, 4]\n",
      "6 0 3 {'A': 688, 'B': 3, 'C': 86} [2, 0, 1, 3, 4]\n",
      "8 4 3 {'A': 86, 'B': 3, 'C': 86} [2, 0, 1, 3, 4]\n",
      "10 1 5 {'A': 86, 'B': 85, 'C': 86} [2, 0, 1, 3, 4]\n",
      "12 5 5 {'A': 86, 'B': 80, 'C': 86} [2, 0, 1, 3, 4]\n",
      "14 3 0 {'A': 86, 'B': 80, 'C': 86} [2, 0, 1, 3, 4, 0]\n",
      "0 2 4 {'A': 86, 'B': 80, 'C': 86} [2, 0, 1, 3, 4, 0]\n",
      "2 1 3 {'A': 86, 'B': 6, 'C': 86} [2, 0, 1, 3, 4, 0]\n",
      "4 7 5 {'A': 86, 'B': 5, 'C': 86} [2, 0, 1, 3, 4, 0]\n",
      "6 0 3 {'A': 86, 'B': 5, 'C': 2} [2, 0, 1, 3, 4, 0]\n",
      "8 4 3 {'A': 10, 'B': 5, 'C': 2} [2, 0, 1, 3, 4, 0]\n",
      "10 1 5 {'A': 10, 'B': 7, 'C': 2} [2, 0, 1, 3, 4, 0]\n",
      "12 5 5 {'A': 10, 'B': 2, 'C': 2} [2, 0, 1, 3, 4, 0]\n",
      "14 3 0 {'A': 10, 'B': 2, 'C': 2} [2, 0, 1, 3, 4, 0, 2]\n",
      "0 2 4 {'A': 10, 'B': 2, 'C': 2} [2, 0, 1, 3, 4, 0, 2]\n",
      "2 1 3 {'A': 10, 'B': 2, 'C': 2} [2, 0, 1, 3, 4, 0, 2]\n",
      "4 7 5 {'A': 10, 'B': 1, 'C': 2} [2, 0, 1, 3, 4, 0, 2]\n",
      "6 0 3 {'A': 10, 'B': 1, 'C': 5} [2, 0, 1, 3, 4, 0, 2]\n",
      "8 4 3 {'A': 1, 'B': 1, 'C': 5} [2, 0, 1, 3, 4, 0, 2]\n",
      "10 1 5 {'A': 1, 'B': 4, 'C': 5} [2, 0, 1, 3, 4, 0, 2]\n",
      "12 5 5 {'A': 1, 'B': 1, 'C': 5} [2, 0, 1, 3, 4, 0, 2]\n",
      "14 3 0 {'A': 1, 'B': 1, 'C': 5} [2, 0, 1, 3, 4, 0, 2, 1]\n",
      "0 2 4 {'A': 1, 'B': 1, 'C': 5} [2, 0, 1, 3, 4, 0, 2, 1]\n",
      "2 1 3 {'A': 1, 'B': 1, 'C': 5} [2, 0, 1, 3, 4, 0, 2, 1]\n",
      "4 7 5 {'A': 1, 'B': 2, 'C': 5} [2, 0, 1, 3, 4, 0, 2, 1]\n",
      "6 0 3 {'A': 1, 'B': 2, 'C': 0} [2, 0, 1, 3, 4, 0, 2, 1]\n",
      "8 4 3 {'A': 0, 'B': 2, 'C': 0} [2, 0, 1, 3, 4, 0, 2, 1]\n",
      "10 1 5 {'A': 0, 'B': 2, 'C': 0} [2, 0, 1, 3, 4, 0, 2, 1]\n",
      "12 5 5 {'A': 0, 'B': 7, 'C': 0} [2, 0, 1, 3, 4, 0, 2, 1]\n",
      "14 3 0 {'A': 0, 'B': 7, 'C': 0} [2, 0, 1, 3, 4, 0, 2, 1, 7]\n"
     ]
    },
    {
     "data": {
      "text/plain": [
       "[2, 0, 1, 3, 4, 0, 2, 1, 7]"
      ]
     },
     "execution_count": 3,
     "metadata": {},
     "output_type": "execute_result"
    }
   ],
   "source": [
    "def get_combo(operand, reg):\n",
    "    if 0 <= operand <= 3:\n",
    "        return operand\n",
    "    elif operand == 4:\n",
    "        return reg['A']\n",
    "    elif operand == 5:\n",
    "        return reg['B']\n",
    "    elif operand == 6:\n",
    "        return reg['C']\n",
    "    else:\n",
    "        raise ValueError(\"Cant Combo \" + str(operand))\n",
    "\n",
    "reg = {'A':A,'B':B,'C':C}\n",
    "def run_program(program, reg, verbose=False):\n",
    "    i = 0\n",
    "    out = []\n",
    "    while i < len(program):\n",
    "        opcode = program[i]\n",
    "        operand = program[i+1]\n",
    "        if verbose:\n",
    "            print(i, opcode, operand, reg, out)\n",
    "        next_i = i + 2\n",
    "\n",
    "        if opcode == 0: # adv/division\n",
    "            reg['A'] = reg['A'] // (2 ** get_combo(operand, reg))\n",
    "        elif opcode == 1: #blx\n",
    "            reg['B'] = reg['B']^operand\n",
    "        elif opcode == 2: #bst\n",
    "            reg['B'] = get_combo(operand, reg) % 8\n",
    "        elif opcode == 3: #jnz\n",
    "            next_i = next_i if reg['A'] == 0 else operand\n",
    "        elif opcode == 4: #bxc\n",
    "            reg['B'] = reg['B'] ^ reg['C']\n",
    "        elif opcode == 5: #out\n",
    "            out.append(get_combo(operand, reg) % 8)\n",
    "        elif opcode == 6: #bdv\n",
    "            reg['B'] = reg['A'] // (2 ** get_combo(operand, reg))\n",
    "        elif opcode == 7: #cdv\n",
    "            reg['C'] = reg['A'] // (2 ** get_combo(operand, reg))\n",
    "\n",
    "        i = next_i\n",
    "    return out\n",
    "run_program(program, reg, verbose=True)"
   ]
  },
  {
   "cell_type": "code",
   "execution_count": null,
   "id": "e2e73419-1635-4774-bd25-e1b148366d35",
   "metadata": {},
   "outputs": [],
   "source": []
  },
  {
   "cell_type": "code",
   "execution_count": 4,
   "id": "75a72559-633b-472c-903d-58b2fdebd3a4",
   "metadata": {
    "tags": []
   },
   "outputs": [],
   "source": [
    "# part 2 ... \n",
    "\n",
    "# I noticed that, in general, A divided my 10 every \"round\" through the instructions\n",
    "# and that earlier digits in A don't impact later etc. "
   ]
  },
  {
   "cell_type": "code",
   "execution_count": 5,
   "id": "88a653ec-5b87-4c80-8a2c-faf711608def",
   "metadata": {
    "tags": []
   },
   "outputs": [
    {
     "name": "stdout",
     "output_type": "stream",
     "text": [
      "target: [2, 4, 1, 3, 7, 5, 0, 3, 4, 3, 1, 5, 5, 5, 3, 0] 16\n"
     ]
    }
   ],
   "source": [
    "print('target:', program, len(program))"
   ]
  },
  {
   "cell_type": "code",
   "execution_count": 6,
   "id": "3d2d10d7-f9ed-467d-b7f7-ba40225c7af1",
   "metadata": {
    "tags": []
   },
   "outputs": [
    {
     "data": {
      "text/plain": [
       "([6, 6, 6, 5, 6, 5, 3, 3, 5, 5, 4, 1, 4, 2, 1], 15)"
      ]
     },
     "execution_count": 6,
     "metadata": {},
     "output_type": "execute_result"
    }
   ],
   "source": [
    "# through experimentation, I found out that a number a bit bigger than\n",
    "# 35000000000000 will get me to a 16 digit outcome\n",
    "A0 = 35000000000000\n",
    "_p = run_program(program, {'A':A0, 'B':B, 'C':C}, verbose=False)\n",
    "_p, len(_p)"
   ]
  },
  {
   "cell_type": "code",
   "execution_count": 7,
   "id": "e9a5faf2-921f-4567-b966-6f2b775325e3",
   "metadata": {
    "tags": []
   },
   "outputs": [
    {
     "name": "stdout",
     "output_type": "stream",
     "text": [
      "1000000000000\n",
      "100000000000\n",
      "10000000000\n",
      "1000000000\n",
      "100000000\n",
      "10000000\n",
      "1000000\n",
      "100000\n",
      "10000\n",
      "1000\n",
      "100\n",
      "10\n",
      "1\n",
      "WE FINISHED!! 236581645540973\n",
      "WE FINISHED!! 236581645541055\n",
      "WE FINISHED!! 236580840234605\n",
      "WE FINISHED!! 236580840234687\n",
      "WE FINISHED!! 236580836040301\n",
      "WE FINISHED!! 236580836040383\n"
     ]
    }
   ],
   "source": [
    "\"\"\"\n",
    "so I observed that roughly one order of magnitude in A leads to one digit in the result\n",
    "being correct. once you get it, it doesn't change. \n",
    "however, there can be multiple solutions that are not contiguous, so we search by order\n",
    "of magnitude, getting pickier by a single digit at a time until we get to the possible solutions.\n",
    "\n",
    "i might have gotten lucky.\n",
    "\"\"\"\n",
    "As = [35000000000000]\n",
    "results = []\n",
    "ndigits = 1\n",
    "mag = 10000000000000\n",
    "for div in range(13):\n",
    "    mag = mag // 10\n",
    "    print(mag)\n",
    "    found = False\n",
    "    next_As = []\n",
    "    for A0 in As:\n",
    "        last_a = -10        \n",
    "        for a in range(10000):\n",
    "            out = run_program(program, {'A':A0+a*mag, 'B':B, 'C':C}, verbose=False)\n",
    "            if tuple(out) == tuple(program):\n",
    "                print('WE FINISHED!!', A0+a*mag)\n",
    "                results.append(A0+a*mag)\n",
    "            if len(out) == len(program):\n",
    "                if tuple(out[-ndigits:]) == tuple(program[-ndigits:]):\n",
    "                    found = True\n",
    "                    if len(next_As) == 0:\n",
    "                        next_As.append(A0+a*mag)\n",
    "                    elif a > last_a + 1: # this is a new segment\n",
    "                        next_As.append(A0+a*mag)\n",
    "                    last_a = a\n",
    "                    \n",
    "    if not found:\n",
    "        print('got as far as we could')\n",
    "        break\n",
    "    else:\n",
    "        ndigits += 1\n",
    "        As = list(set(next_As))"
   ]
  },
  {
   "cell_type": "code",
   "execution_count": 8,
   "id": "cd033977-338b-4bd2-bf0b-735cc32a85cf",
   "metadata": {
    "tags": []
   },
   "outputs": [
    {
     "name": "stdout",
     "output_type": "stream",
     "text": [
      "236580836040301\n"
     ]
    }
   ],
   "source": [
    "print(min(results))"
   ]
  }
 ],
 "metadata": {
  "kernelspec": {
   "display_name": "Python 3 (ipykernel)",
   "language": "python",
   "name": "python3"
  },
  "language_info": {
   "codemirror_mode": {
    "name": "ipython",
    "version": 3
   },
   "file_extension": ".py",
   "mimetype": "text/x-python",
   "name": "python",
   "nbconvert_exporter": "python",
   "pygments_lexer": "ipython3",
   "version": "3.11.5"
  }
 },
 "nbformat": 4,
 "nbformat_minor": 5
}
