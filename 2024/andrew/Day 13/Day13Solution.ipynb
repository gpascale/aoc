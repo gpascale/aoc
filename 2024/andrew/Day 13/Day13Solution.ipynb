{
 "cells": [
  {
   "cell_type": "code",
   "execution_count": 1,
   "id": "960b18a7-7e8e-4920-b185-e53cf3db1b8a",
   "metadata": {
    "tags": []
   },
   "outputs": [],
   "source": [
    "# read puzzles\n",
    "import re\n",
    "number_pattern = re.compile(r'\\d+')\n",
    "get_numbers = lambda ln: tuple(map(int, number_pattern.findall(ln)))\n",
    "\n",
    "puzzles = []\n",
    "p = {}\n",
    "with open('input.txt', 'r') as fl:\n",
    "    for ln in fl:\n",
    "        if ln.startswith('Button A'):\n",
    "            p['x1'], p['y1'] = get_numbers(ln)\n",
    "        elif ln.startswith('Button B'):\n",
    "            p['x2'], p['y2'] = get_numbers(ln)\n",
    "        elif ln.startswith('Prize'):\n",
    "            p['x'], p['y'] = get_numbers(ln)\n",
    "        else:\n",
    "            puzzles.append(p)\n",
    "            p = {}\n",
    "    puzzles.append(p)\n",
    "    "
   ]
  },
  {
   "cell_type": "code",
   "execution_count": 2,
   "id": "048e9210-6ab2-41d5-8b75-e873d16d393c",
   "metadata": {
    "tags": []
   },
   "outputs": [],
   "source": [
    "# just solve the system of equations then round a bit\n",
    "# because division is hard for computers ... \n",
    "# works for both puzzles\n",
    "def solve_puzzle(x1, x2, x, y1, y2, y, offset=0):\n",
    "    x = x + offset\n",
    "    y = y + offset\n",
    "    n = (y/y1 - y2*x/(y1*x2))/(1 - y2*x1/(y1*x2))\n",
    "    m = (x - x1*n)/x2\n",
    "    return round(n,2), round(m,2)"
   ]
  },
  {
   "cell_type": "code",
   "execution_count": 3,
   "id": "8d1ff414-52a0-4f5b-be75-b9dd5572a694",
   "metadata": {
    "tags": []
   },
   "outputs": [
    {
     "data": {
      "text/plain": [
       "35082"
      ]
     },
     "execution_count": 3,
     "metadata": {},
     "output_type": "execute_result"
    }
   ],
   "source": [
    "tokens = 0\n",
    "for puzzle in puzzles:\n",
    "    n, m = solve_puzzle(**puzzle)\n",
    "    if 0<n<=100 and 0<m<=100 and n.is_integer() and m.is_integer():\n",
    "        tokens += int(3*n + m)\n",
    "tokens"
   ]
  },
  {
   "cell_type": "code",
   "execution_count": 4,
   "id": "4b714761-535d-4fb0-8c64-28cb60f976e1",
   "metadata": {
    "tags": []
   },
   "outputs": [
    {
     "data": {
      "text/plain": [
       "82570698600470"
      ]
     },
     "execution_count": 4,
     "metadata": {},
     "output_type": "execute_result"
    }
   ],
   "source": [
    "#part 2\n",
    "tokens = 0\n",
    "for puzzle in puzzles:\n",
    "    n, m = solve_puzzle(**puzzle, offset=10000000000000)\n",
    "    if n.is_integer() and m.is_integer():\n",
    "        tokens += int(3*n + m)\n",
    "tokens"
   ]
  }
 ],
 "metadata": {
  "kernelspec": {
   "display_name": "Python 3 (ipykernel)",
   "language": "python",
   "name": "python3"
  },
  "language_info": {
   "codemirror_mode": {
    "name": "ipython",
    "version": 3
   },
   "file_extension": ".py",
   "mimetype": "text/x-python",
   "name": "python",
   "nbconvert_exporter": "python",
   "pygments_lexer": "ipython3",
   "version": "3.11.5"
  }
 },
 "nbformat": 4,
 "nbformat_minor": 5
}
