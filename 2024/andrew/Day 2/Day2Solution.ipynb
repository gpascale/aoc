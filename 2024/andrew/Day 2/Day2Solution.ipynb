{
 "cells": [
  {
   "cell_type": "code",
   "execution_count": 1,
   "id": "280be035-c16c-4e78-a82c-742e1fb66ae5",
   "metadata": {},
   "outputs": [],
   "source": [
    "import numpy as np"
   ]
  },
  {
   "cell_type": "code",
   "execution_count": 5,
   "id": "d0f525e8-b0c1-49db-8aef-6f7ef720c43f",
   "metadata": {},
   "outputs": [],
   "source": [
    "with open('input.txt', 'r') as fl:\n",
    "    reports = [np.asarray(ln.split(), dtype='int') for ln in fl]"
   ]
  },
  {
   "cell_type": "code",
   "execution_count": 23,
   "id": "b1ecbfcd-845a-4bf2-b120-7553737162e8",
   "metadata": {},
   "outputs": [],
   "source": [
    "def check_report(rep):\n",
    "    d = np.diff(rep)\n",
    "    #check all the conditions\n",
    "    inc = (d > 0).sum()\n",
    "    desc = (d < 0).sum()\n",
    "    if inc == len(d) or desc == len(d):\n",
    "        d = np.abs(d)\n",
    "        if np.min(d) > 0 and np.max(d) <=3:\n",
    "            return True\n",
    "    return False"
   ]
  },
  {
   "cell_type": "code",
   "execution_count": 25,
   "id": "75bf0d74-9f74-4952-a093-076f9a015572",
   "metadata": {},
   "outputs": [
    {
     "name": "stdout",
     "output_type": "stream",
     "text": [
      "421\n"
     ]
    }
   ],
   "source": [
    "total = 0\n",
    "for rep in reports:\n",
    "    if check_report(rep):\n",
    "        total += 1\n",
    "print(total)"
   ]
  },
  {
   "cell_type": "code",
   "execution_count": 41,
   "id": "418046e8-6af9-4e9f-bba9-882e329d07a4",
   "metadata": {},
   "outputs": [
    {
     "name": "stdout",
     "output_type": "stream",
     "text": [
      "476\n"
     ]
    }
   ],
   "source": [
    "total = 0\n",
    "for rep in reports:\n",
    "    if check_report(rep):\n",
    "        total += 1\n",
    "    else:\n",
    "        for i in range(len(rep)):\n",
    "            if check_report(np.delete(rep, i)):\n",
    "                total += 1\n",
    "                break\n",
    "print(total)"
   ]
  }
 ],
 "metadata": {
  "kernelspec": {
   "display_name": "Python 3 (ipykernel)",
   "language": "python",
   "name": "python3"
  },
  "language_info": {
   "codemirror_mode": {
    "name": "ipython",
    "version": 3
   },
   "file_extension": ".py",
   "mimetype": "text/x-python",
   "name": "python",
   "nbconvert_exporter": "python",
   "pygments_lexer": "ipython3",
   "version": "3.12.4"
  }
 },
 "nbformat": 4,
 "nbformat_minor": 5
}
