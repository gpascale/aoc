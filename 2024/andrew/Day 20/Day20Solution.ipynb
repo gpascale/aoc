{
 "cells": [
  {
   "cell_type": "code",
   "execution_count": 1,
   "id": "27847655-ea98-418a-ab02-2b3764c82976",
   "metadata": {
    "tags": []
   },
   "outputs": [],
   "source": [
    "walls = set()\n",
    "track = set()\n",
    "start = None\n",
    "end = None\n",
    "with open('input.txt','r') as fl:\n",
    "    for i, ln in enumerate(fl):\n",
    "        for j, s in enumerate(ln.strip()):\n",
    "            if s == '#':\n",
    "                walls.add((i,j))\n",
    "            elif s in ('.','S','E'):\n",
    "                track.add((i,j))\n",
    "                if s == 'S':\n",
    "                    start = (i,j)\n",
    "                elif s == 'E':\n",
    "                    end = (i,j)\n",
    "n = max(w[0] for w in walls) + 1\n",
    "m = max(w[1] for w in walls) + 1\n",
    "directions = {'U':(-1,0), 'D':(1,0), 'L':(0,-1), 'R':(0,1)}"
   ]
  },
  {
   "cell_type": "code",
   "execution_count": 2,
   "id": "f00e25e0-6014-4e05-9bdf-3c5bc3fd037b",
   "metadata": {
    "tags": []
   },
   "outputs": [],
   "source": [
    "# first, let's get the track times\n",
    "t = 0\n",
    "track_time = {start:t}\n",
    "pos = start\n",
    "while pos != end:\n",
    "    for di, dj in directions.values():\n",
    "        ii, jj = pos[0] + di, pos[1] + dj\n",
    "        if (ii, jj) in track and (ii,jj) not in track_time:\n",
    "            t += 1\n",
    "            pos = (ii, jj)\n",
    "            track_time[pos] = t\n",
    "            break\n",
    "            "
   ]
  },
  {
   "cell_type": "code",
   "execution_count": 3,
   "id": "ae75c153-c758-446a-a7fc-8d8c198179b0",
   "metadata": {
    "tags": []
   },
   "outputs": [
    {
     "data": {
      "text/plain": [
       "1338"
      ]
     },
     "execution_count": 3,
     "metadata": {},
     "output_type": "execute_result"
    }
   ],
   "source": [
    "# part 1\n",
    "# now run through checking for shortcuts\n",
    "# if we just two over to another track time lower than current, it's a shortcut\n",
    "short_cuts = {}\n",
    "for pos, t1 in track_time.items():\n",
    "    for di, dj in directions.values():\n",
    "        ii, jj = pos[0] + 2*di, pos[1] + 2*dj\n",
    "        if (ii, jj) in track_time:\n",
    "            t2 = track_time[(ii, jj)]\n",
    "            diff = t2 - t1 - 2\n",
    "            if diff > 0:\n",
    "                short_cuts[(pos, (ii, jj))] = diff\n",
    "len(list(sc for sc, t in short_cuts.items() if t >= 100 ))                "
   ]
  },
  {
   "cell_type": "code",
   "execution_count": 4,
   "id": "79006c7d-32cf-483c-ae2d-cbc4c78f1e91",
   "metadata": {
    "tags": []
   },
   "outputs": [],
   "source": [
    "# part 2\n",
    "# grow the radius of shortcuts up to 20 using the same logic as above\n",
    "short_cuts = {}\n",
    "for pos, t1 in track_time.items():\n",
    "    for new_pos, t2 in track_time.items():\n",
    "        pos_diff = abs(pos[0] - new_pos[0]) + abs(pos[1] - new_pos[1])\n",
    "        diff = t2 - t1 - pos_diff\n",
    "        if pos_diff <= 20 and diff > 0:\n",
    "            short_cuts[(pos, new_pos)] = diff"
   ]
  },
  {
   "cell_type": "code",
   "execution_count": 5,
   "id": "c62eebd5-1d20-4b33-be12-f0dc74a0081c",
   "metadata": {
    "tags": []
   },
   "outputs": [
    {
     "data": {
      "text/plain": [
       "975376"
      ]
     },
     "execution_count": 5,
     "metadata": {},
     "output_type": "execute_result"
    }
   ],
   "source": [
    "len(list(sc for sc, t in short_cuts.items() if t >= 100 ))"
   ]
  }
 ],
 "metadata": {
  "kernelspec": {
   "display_name": "Python 3 (ipykernel)",
   "language": "python",
   "name": "python3"
  },
  "language_info": {
   "codemirror_mode": {
    "name": "ipython",
    "version": 3
   },
   "file_extension": ".py",
   "mimetype": "text/x-python",
   "name": "python",
   "nbconvert_exporter": "python",
   "pygments_lexer": "ipython3",
   "version": "3.11.5"
  }
 },
 "nbformat": 4,
 "nbformat_minor": 5
}
