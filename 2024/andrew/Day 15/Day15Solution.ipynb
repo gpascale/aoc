{
 "cells": [
  {
   "cell_type": "code",
   "execution_count": 1,
   "id": "32ab9da1-8d6e-44b9-87b7-b7b02a08b712",
   "metadata": {
    "tags": []
   },
   "outputs": [],
   "source": [
    "from copy import deepcopy\n",
    "from IPython.display import clear_output\n",
    "import time\n",
    "\n",
    "walls = set()\n",
    "boxes = set()\n",
    "robot = None\n",
    "moves = ''\n",
    "\n",
    "directions = {\n",
    "    '<':(0,-1),\n",
    "    '>':(0,1),\n",
    "    '^':(-1,0),\n",
    "    'v':(1,0)\n",
    "}\n",
    "\n",
    "filename = 'input.txt'\n",
    "with open(filename, 'r') as fl:\n",
    "    first = True\n",
    "    for i, ln in enumerate(fl):\n",
    "        if ln.strip() == '':\n",
    "            first = False\n",
    "        if first:\n",
    "            for j, s in enumerate(ln.strip()):\n",
    "                if s == '#':\n",
    "                    walls.add((i,j))\n",
    "                elif s == 'O':\n",
    "                    boxes.add((i,j))\n",
    "                elif s == '@':\n",
    "                    robot = (i,j)\n",
    "        else:\n",
    "            moves += ln.strip()\n",
    "            \n",
    "n, m = max(w[0] for w in walls) + 1, max(w[1] for w in walls) + 1\n",
    "init_boxes = deepcopy(boxes)\n",
    "init_robot = deepcopy(robot)"
   ]
  },
  {
   "cell_type": "code",
   "execution_count": 2,
   "id": "920107c8-e521-4d88-9f9a-8a8c5c1cbd52",
   "metadata": {
    "tags": []
   },
   "outputs": [],
   "source": [
    "def print_warehouse(walls, boxes, robot, n, m, wide=False):\n",
    "    s = ''\n",
    "    for i in range(n):\n",
    "        for j in range(m):\n",
    "            if (i,j) in walls:\n",
    "                s += '#'\n",
    "            elif not wide and (i,j) in boxes:\n",
    "                s += 'O'\n",
    "            elif wide and (i,j) in boxes:\n",
    "                s += '['\n",
    "            elif wide and (i,j-1) in boxes:\n",
    "                s += ']'\n",
    "            elif (i,j) == robot:\n",
    "                s += '@'\n",
    "            else:\n",
    "                s += '.'\n",
    "        s += '\\n'\n",
    "    return s\n",
    "#print(print_warehouse(walls, boxes, robot, n, m))"
   ]
  },
  {
   "cell_type": "code",
   "execution_count": 3,
   "id": "bbd357f5-a02b-4075-ab74-0c36934e67c0",
   "metadata": {
    "tags": []
   },
   "outputs": [],
   "source": [
    "movie=False"
   ]
  },
  {
   "cell_type": "code",
   "execution_count": 4,
   "id": "399a95c4-736b-4b5b-a330-b93777e06940",
   "metadata": {
    "tags": []
   },
   "outputs": [],
   "source": [
    "boxes = deepcopy(init_boxes)\n",
    "robot = deepcopy(init_robot)\n",
    "for ii, d in enumerate(moves):\n",
    "    can_move = False\n",
    "    # look into moving the robot\n",
    "    di, dj = directions[d]\n",
    "    new_bot = robot[0] + di, robot[1] + dj\n",
    "    box_moves = {}\n",
    "    if new_bot not in walls:\n",
    "        # now look into boxes:\n",
    "        if new_bot in boxes:\n",
    "            box = new_bot\n",
    "            while True:\n",
    "                new_box = box[0] + di, box[1] + dj\n",
    "                if new_box in walls:\n",
    "                    # can't move the box, so we're done\n",
    "                    break \n",
    "                elif new_box in boxes:\n",
    "                    # we hit another box, so log this move and \n",
    "                    # keep checking\n",
    "                    box_moves[box] = new_box\n",
    "                    box = new_box\n",
    "                else:\n",
    "                    # we hit nothing, so log this move and finish\n",
    "                    box_moves[box] = new_box\n",
    "                    can_move = True\n",
    "                    break\n",
    "        else:\n",
    "            can_move = True\n",
    "            \n",
    "    if can_move:\n",
    "        robot = new_bot\n",
    "        for old_box in box_moves.keys():\n",
    "            boxes.remove(old_box)\n",
    "        for new_box in box_moves.values():\n",
    "            boxes.add(new_box)\n",
    "    if movie:\n",
    "        clear_output(wait=True)\n",
    "        print('move',ii,'of',len(moves), '---', d)\n",
    "        print(print_warehouse(walls, boxes, robot, n, m))\n",
    "        time.sleep(0.01)\n",
    "        "
   ]
  },
  {
   "cell_type": "code",
   "execution_count": 5,
   "id": "093eafce-eb11-4e84-8320-64277e97ffb2",
   "metadata": {
    "tags": []
   },
   "outputs": [
    {
     "name": "stdout",
     "output_type": "stream",
     "text": [
      "1463512\n"
     ]
    }
   ],
   "source": [
    "print(sum(i*100 + j for i,j in boxes))"
   ]
  },
  {
   "cell_type": "code",
   "execution_count": null,
   "id": "3668a775-9269-4496-8303-d0cb58b880af",
   "metadata": {},
   "outputs": [],
   "source": []
  },
  {
   "cell_type": "code",
   "execution_count": 6,
   "id": "1b729838-98a6-40ca-a5dc-3ce962e2af3b",
   "metadata": {
    "tags": []
   },
   "outputs": [],
   "source": [
    "# part 2\n",
    "walls = set()\n",
    "boxes = set()\n",
    "robot = None\n",
    "\n",
    "directions = {\n",
    "    '<':(0,-1),\n",
    "    '>':(0,1),\n",
    "    '^':(-1,0),\n",
    "    'v':(1,0)\n",
    "}\n",
    "\n",
    "with open(filename, 'r') as fl:\n",
    "    for i, ln in enumerate(fl):\n",
    "        if ln.strip() == '':\n",
    "            break\n",
    "        for j, s in enumerate(ln.strip()):\n",
    "            if s == '#':\n",
    "                walls.add((i,j*2))\n",
    "                walls.add((i,j*2+1))\n",
    "            elif s == 'O':\n",
    "                boxes.add((i,j*2))\n",
    "            elif s == '@':\n",
    "                robot = (i,j*2)\n",
    "            \n",
    "n, m = max(w[0] for w in walls) + 1, max(w[1] for w in walls) + 1\n",
    "init_boxes = deepcopy(boxes)\n",
    "init_robot = deepcopy(robot)"
   ]
  },
  {
   "cell_type": "code",
   "execution_count": 7,
   "id": "4908529b-68bb-4d42-af28-3cb86140aaa9",
   "metadata": {
    "tags": []
   },
   "outputs": [],
   "source": [
    "#print(print_warehouse(walls, boxes, robot, n, m, wide=True))"
   ]
  },
  {
   "cell_type": "code",
   "execution_count": 8,
   "id": "aa4a2d51-5ef2-4ab2-8114-13a696033989",
   "metadata": {
    "tags": []
   },
   "outputs": [],
   "source": [
    "movie=False"
   ]
  },
  {
   "cell_type": "code",
   "execution_count": 9,
   "id": "04a634d2-dc44-4eba-8b6d-82d1c72d6aae",
   "metadata": {
    "tags": []
   },
   "outputs": [],
   "source": [
    "boxes = deepcopy(init_boxes)\n",
    "robot = deepcopy(init_robot)\n",
    "for ii, d in enumerate(moves):\n",
    "    can_move = False\n",
    "    # look into moving the robot\n",
    "    di, dj = directions[d]\n",
    "    new_bot = robot[0] + di, robot[1] + dj\n",
    "    box_moves = {}\n",
    "    if new_bot not in walls:\n",
    "        # now look into boxes accounting for the double wide\n",
    "        if new_bot in boxes:\n",
    "            new_boxes = (new_bot,)\n",
    "        elif (new_bot[0], new_bot[1]-1) in boxes:\n",
    "            new_boxes = ((new_bot[0], new_bot[1]-1),)\n",
    "        else:\n",
    "            new_boxes = False\n",
    "            can_move = True\n",
    "        # we hit a box, so figure out these moves    \n",
    "        while new_boxes:\n",
    "            next_boxes = set()\n",
    "            for box in new_boxes:\n",
    "                new_box = box[0] + di, box[1] + dj\n",
    "                fatty = new_box[0], new_box[1] + 1\n",
    "                other_fatty = new_box[0], new_box[1] - 1\n",
    "                if new_box in walls or fatty in walls:\n",
    "                    # can't move the box, so we're done\n",
    "                    next_boxes = False\n",
    "                    break \n",
    "                    \n",
    "                box_moves[box] = new_box\n",
    "                if d in ('^','v') and new_box in boxes:\n",
    "                    # we hit another box left corner to left corner\n",
    "                    # keep checking\n",
    "                    next_boxes.add(new_box)\n",
    "                if d != '<' and fatty in boxes:\n",
    "                    # we hit another box right corner to left corner\n",
    "                    next_boxes.add(fatty)\n",
    "                if d != '>' and other_fatty in boxes:\n",
    "                    # we hit a box left corner to right corner\n",
    "                    next_boxes.add(other_fatty)\n",
    "\n",
    "            new_boxes = next_boxes\n",
    "        \n",
    "        if new_boxes is not False:\n",
    "            can_move = True\n",
    "            \n",
    "    if can_move:\n",
    "        robot = new_bot\n",
    "        for old_box in box_moves.keys():\n",
    "            boxes.remove(old_box)\n",
    "        for new_box in box_moves.values():\n",
    "            boxes.add(new_box)\n",
    "            \n",
    "    if movie:\n",
    "        clear_output(wait=True)\n",
    "        print('move',ii,'of',len(moves), '---', d)\n",
    "        print(print_warehouse(walls, boxes, robot, n, m, wide=True))\n",
    "        time.sleep(0.005)"
   ]
  },
  {
   "cell_type": "code",
   "execution_count": 10,
   "id": "093b06b4-6326-4610-be5d-6e684c0f37ab",
   "metadata": {
    "tags": []
   },
   "outputs": [
    {
     "name": "stdout",
     "output_type": "stream",
     "text": [
      "1486520\n"
     ]
    }
   ],
   "source": [
    "print(sum(i*100 + j for i,j in boxes))"
   ]
  }
 ],
 "metadata": {
  "kernelspec": {
   "display_name": "Python 3 (ipykernel)",
   "language": "python",
   "name": "python3"
  },
  "language_info": {
   "codemirror_mode": {
    "name": "ipython",
    "version": 3
   },
   "file_extension": ".py",
   "mimetype": "text/x-python",
   "name": "python",
   "nbconvert_exporter": "python",
   "pygments_lexer": "ipython3",
   "version": "3.11.5"
  }
 },
 "nbformat": 4,
 "nbformat_minor": 5
}
