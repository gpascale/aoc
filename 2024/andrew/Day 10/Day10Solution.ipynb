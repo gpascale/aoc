{
 "cells": [
  {
   "cell_type": "code",
   "execution_count": 201,
   "id": "20df79f9-4b32-4285-bbd5-3476339d545e",
   "metadata": {},
   "outputs": [],
   "source": [
    "with open('input.txt','r') as fl:\n",
    "    grid = [[int(v) for v in ln.strip()] for ln in fl.readlines()]\n",
    "n, m = len(grid), len(grid[0])"
   ]
  },
  {
   "cell_type": "code",
   "execution_count": 203,
   "id": "a83e28c5-637c-48e4-9077-172bbd54aa0a",
   "metadata": {},
   "outputs": [],
   "source": [
    "def print_grid(grid, min_level=0, reached=None):\n",
    "    s = \"\"\n",
    "    for i in range(n):\n",
    "        for j in range(m):\n",
    "            v = grid[i][j]\n",
    "            if reached is not None and (i,j) in reached:\n",
    "                s += 'X'\n",
    "            elif v <= min_level:\n",
    "                s += '.'\n",
    "            else:\n",
    "                s += str(v)\n",
    "        s += \"\\n\"\n",
    "    print(s)"
   ]
  },
  {
   "cell_type": "code",
   "execution_count": 205,
   "id": "311db18c-5920-4505-9134-6dd329ca410e",
   "metadata": {},
   "outputs": [],
   "source": [
    "# working variables and some info about the grid\n",
    "zeros = set()\n",
    "nines = set()\n",
    "for i in range(n):\n",
    "    for j in range(m):\n",
    "        v = grid[i][j]\n",
    "        if v == 0:\n",
    "            zeros.add((i,j))\n",
    "        if v == 9:\n",
    "            nines.add((i,j))\n",
    "# we are gonna keep track of what starting zeros can reach each level\n"
   ]
  },
  {
   "cell_type": "code",
   "execution_count": 207,
   "id": "da6d11e2-00d8-4bd9-879c-6371f358bb3f",
   "metadata": {},
   "outputs": [],
   "source": [
    "# now we try to go up a level only adjacent to things in reachable\n",
    "reachable = {(i,j):{(i,j),} for i,j in zeros}\n",
    "for level in range(1, 10):\n",
    "    new_reachable = dict()\n",
    "    for i,j in reachable:\n",
    "        for di, dj in ((-1, 0), (1,0), (0,-1), (0, 1)):\n",
    "            ii, jj = i+di, j+dj\n",
    "            if 0<=ii<n and 0<=jj<m and grid[ii][jj]==level:\n",
    "                new_reachable[(ii,jj)] = reachable[(i,j)] if (ii,jj) not in new_reachable \\\n",
    "                    else reachable[(i,j)] | new_reachable[(ii,jj)]\n",
    "    reachable = new_reachable\n",
    "    #print_grid(grid, level, reachable)"
   ]
  },
  {
   "cell_type": "code",
   "execution_count": 209,
   "id": "662b3697-74b5-42e8-aba1-7672cb1a9290",
   "metadata": {},
   "outputs": [
    {
     "data": {
      "text/plain": [
       "816"
      ]
     },
     "execution_count": 209,
     "metadata": {},
     "output_type": "execute_result"
    }
   ],
   "source": [
    "sum(len(access) for access in reachable.values())"
   ]
  },
  {
   "cell_type": "code",
   "execution_count": 211,
   "id": "2644baa5-95df-4043-b132-a1089597b5d0",
   "metadata": {},
   "outputs": [],
   "source": [
    "# part 2 TO FINISH!!!! GETTING CLOSE!!!\n",
    "# now we try to go up a level only adjacent to things in trails\n",
    "trails = {(i,j):{((i,j),),} for i,j in zeros}\n",
    "for level in range(1, 10):\n",
    "    new_trails = dict()\n",
    "    for i,j in trails:\n",
    "        for di, dj in ((-1, 0), (1,0), (0,-1), (0, 1)):\n",
    "            ii, jj = i+di, j+dj\n",
    "            if 0<=ii<n and 0<=jj<m and grid[ii][jj]==level:\n",
    "                # append this location to all of the trails that made it here? \n",
    "                new_paths = set( trail + ((ii,jj),) for trail in trails[(i,j)] )\n",
    "                new_trails[(ii,jj)] = new_paths if (ii, jj) not in new_trails \\\n",
    "                    else new_trails[(ii,jj)] | new_paths\n",
    "    trails = new_trails\n",
    "    #print_grid(grid, level, reachable)\n",
    "# ok, this got a little funny, but put all the trails together to count them\n",
    "_trails = {}\n",
    "for trail in trails.values():\n",
    "    for path in trail:\n",
    "        _trails[path[0]] = set((path,)) if path[0] not in _trails else _trails[path[0]] | set((path,))\n",
    "trails = _trails"
   ]
  },
  {
   "cell_type": "code",
   "execution_count": 213,
   "id": "dbdfdd04-c445-4b9d-8dcc-f9fdf862a3d4",
   "metadata": {},
   "outputs": [
    {
     "data": {
      "text/plain": [
       "1960"
      ]
     },
     "execution_count": 213,
     "metadata": {},
     "output_type": "execute_result"
    }
   ],
   "source": [
    "sum(len(trail) for trail in trails.values())"
   ]
  }
 ],
 "metadata": {
  "kernelspec": {
   "display_name": "Python 3 (ipykernel)",
   "language": "python",
   "name": "python3"
  },
  "language_info": {
   "codemirror_mode": {
    "name": "ipython",
    "version": 3
   },
   "file_extension": ".py",
   "mimetype": "text/x-python",
   "name": "python",
   "nbconvert_exporter": "python",
   "pygments_lexer": "ipython3",
   "version": "3.12.4"
  }
 },
 "nbformat": 4,
 "nbformat_minor": 5
}
