{
 "cells": [
  {
   "cell_type": "code",
   "execution_count": 51,
   "id": "6a7d56d5-2bc0-4e89-9f7f-f5905e812bb5",
   "metadata": {},
   "outputs": [],
   "source": [
    "test = 'xmul(2,4)%&mul[3,7]!@^do_not_mul(5,5)+mul(32,64]then(mul(11,8)mul(8,5))'\n",
    "test2 = \"xmul(2,4)&mul[3,7]!^don't()_mul(5,5)+mul(32,64](mul(11,8)undo()?mul(8,5))\""
   ]
  },
  {
   "cell_type": "code",
   "execution_count": 71,
   "id": "76f83442-f874-4e7a-ac2d-92de60fc0452",
   "metadata": {},
   "outputs": [],
   "source": [
    "import re\n",
    "pattern = r\"mul\\(\\d+,\\d+\\)\"\n",
    "pattern_wcontrols = r\"mul\\(\\d+,\\d+\\)|do\\(\\)|don't\\(\\)\"\n",
    "\n",
    "def find_mults(s):\n",
    "    matches = re.findall(pattern, s)\n",
    "    return [m.replace('mul(', '').replace(')','').split(',') for m in matches]\n",
    "\n",
    "def find_mults_controls(s):\n",
    "    matches = re.findall(pattern_wcontrols, s)\n",
    "    return [m.replace('mul', '').replace('(','').replace('\\'','').replace(')','').split(',') for m in matches]\n",
    "\n",
    "def parse_controls(matches, start_on = True):\n",
    "    on = start_on\n",
    "    total = 0\n",
    "    for inst in matches:\n",
    "        if inst[0] == 'do':\n",
    "            on = True\n",
    "        elif inst[0] == 'dont':\n",
    "            on = False\n",
    "        elif on:\n",
    "            total += int(inst[0])*int(inst[1])\n",
    "    return total, on"
   ]
  },
  {
   "cell_type": "code",
   "execution_count": 29,
   "id": "3dad9934-d74d-4fe2-b573-23e1454384f0",
   "metadata": {},
   "outputs": [
    {
     "name": "stdout",
     "output_type": "stream",
     "text": [
      "179834255\n"
     ]
    }
   ],
   "source": [
    "total = 0\n",
    "with open('input.txt','r') as fl:\n",
    "    for ln in fl:\n",
    "        total += sum(int(i)*int(j) for i,j in find_mults(ln))\n",
    "print(total)"
   ]
  },
  {
   "cell_type": "code",
   "execution_count": 73,
   "id": "f7d777ee-77b2-4b28-8d25-ceda0e3c02cf",
   "metadata": {},
   "outputs": [
    {
     "name": "stdout",
     "output_type": "stream",
     "text": [
      "80570939\n"
     ]
    }
   ],
   "source": [
    "total = 0\n",
    "on = True\n",
    "with open('input.txt','r') as fl:\n",
    "    for ln in fl:\n",
    "        n, on = parse_controls(find_mults_controls(ln), on)\n",
    "        total += n\n",
    "print(total)"
   ]
  }
 ],
 "metadata": {
  "kernelspec": {
   "display_name": "Python 3 (ipykernel)",
   "language": "python",
   "name": "python3"
  },
  "language_info": {
   "codemirror_mode": {
    "name": "ipython",
    "version": 3
   },
   "file_extension": ".py",
   "mimetype": "text/x-python",
   "name": "python",
   "nbconvert_exporter": "python",
   "pygments_lexer": "ipython3",
   "version": "3.12.4"
  }
 },
 "nbformat": 4,
 "nbformat_minor": 5
}
