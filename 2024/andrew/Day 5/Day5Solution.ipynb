{
 "cells": [
  {
   "cell_type": "code",
   "execution_count": 81,
   "id": "0cf50b40-6661-43c4-a12e-f4dc88b01e77",
   "metadata": {},
   "outputs": [],
   "source": [
    "rules = {}\n",
    "updates = []\n",
    "\n",
    "with open('input.txt','r') as fl:\n",
    "    for ln in fl:\n",
    "        if '|' in ln:\n",
    "            x, y = ln.strip().split('|')\n",
    "            x, y = int(x), int(y)\n",
    "            if x in rules:\n",
    "                rules[x].append(y)\n",
    "            else:\n",
    "                rules[x] = [y]\n",
    "        if ',' in ln:\n",
    "            updates.append([int(i) for i in ln.strip().split(',')])"
   ]
  },
  {
   "cell_type": "code",
   "execution_count": 83,
   "id": "7d6f986c-6e59-413d-a044-a63a6f67a173",
   "metadata": {},
   "outputs": [],
   "source": [
    "def check_update(up, rules=rules):\n",
    "    for i, x in enumerate(up):\n",
    "        rule = rules.get(x)\n",
    "        if rule is not None:\n",
    "            for y in rule:\n",
    "                if y in up:\n",
    "                    j = up.index(y)\n",
    "                    if i > j:\n",
    "                        return False\n",
    "    return True"
   ]
  },
  {
   "cell_type": "code",
   "execution_count": 85,
   "id": "d2f811f5-7b10-4db9-8ead-d3754cf34b91",
   "metadata": {},
   "outputs": [],
   "source": [
    "def fix_update(up, rules=rules):\n",
    "    to_place = up.copy()\n",
    "    up = []\n",
    "    while len(to_place)>0:\n",
    "        sub_rules = {x:ys for x, ys in rules.items() if x in to_place}\n",
    "        for x in to_place:\n",
    "            passed = True\n",
    "            for befores in sub_rules.values():\n",
    "                if x in befores:\n",
    "                    passed = False\n",
    "                    break\n",
    "            if passed:\n",
    "                up.append(x)\n",
    "                to_place.remove(x)\n",
    "                break\n",
    "    return up\n",
    "            "
   ]
  },
  {
   "cell_type": "code",
   "execution_count": 87,
   "id": "cf417b70-4ef9-419e-91a6-56b52f516f2a",
   "metadata": {},
   "outputs": [
    {
     "name": "stdout",
     "output_type": "stream",
     "text": [
      "4462\n"
     ]
    }
   ],
   "source": [
    "total = 0\n",
    "for up in updates:\n",
    "    if check_update(up):\n",
    "        total += up[len(up)//2]\n",
    "print(total)"
   ]
  },
  {
   "cell_type": "code",
   "execution_count": 89,
   "id": "10c5f69b-e248-4a1c-a28f-cbb3f52d1b0d",
   "metadata": {},
   "outputs": [
    {
     "name": "stdout",
     "output_type": "stream",
     "text": [
      "6767\n"
     ]
    }
   ],
   "source": [
    "total = 0\n",
    "for up in updates:\n",
    "    if not check_update(up):\n",
    "        up = fix_update(up)\n",
    "        total += up[len(up)//2]\n",
    "print(total)"
   ]
  },
  {
   "cell_type": "code",
   "execution_count": null,
   "id": "32f6d1e8-1eca-474b-bb1c-dcbec309c6f2",
   "metadata": {},
   "outputs": [],
   "source": []
  }
 ],
 "metadata": {
  "kernelspec": {
   "display_name": "Python 3 (ipykernel)",
   "language": "python",
   "name": "python3"
  },
  "language_info": {
   "codemirror_mode": {
    "name": "ipython",
    "version": 3
   },
   "file_extension": ".py",
   "mimetype": "text/x-python",
   "name": "python",
   "nbconvert_exporter": "python",
   "pygments_lexer": "ipython3",
   "version": "3.12.4"
  }
 },
 "nbformat": 4,
 "nbformat_minor": 5
}
