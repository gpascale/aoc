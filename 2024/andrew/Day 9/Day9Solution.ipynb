{
 "cells": [
  {
   "cell_type": "code",
   "execution_count": 1,
   "id": "505e4e31-d717-47ce-b7f4-82f24562c0b5",
   "metadata": {},
   "outputs": [],
   "source": [
    "# test\n",
    "#input = \"2333133121414131402\"\n",
    "with open('input.txt', 'r') as fl:\n",
    "    input = fl.read().strip()"
   ]
  },
  {
   "cell_type": "code",
   "execution_count": 2,
   "id": "82b74fa4-84bc-4ea5-ae16-2d3bc076453b",
   "metadata": {},
   "outputs": [],
   "source": [
    "# get the length of the compressed disk\n",
    "n = sum(int(input[i]) for i in range(0, len(input), 2))"
   ]
  },
  {
   "cell_type": "code",
   "execution_count": 3,
   "id": "18f6ea8a-ffbb-4a8f-be82-9838c0b4c56b",
   "metadata": {},
   "outputs": [],
   "source": [
    "# make a labeled input with IDs for ease of use \n",
    "# [(ID or -1 for missing, size)]\n",
    "labeled_input = []\n",
    "id = 0\n",
    "for i, v in enumerate(input):\n",
    "    if i % 2 == 0:\n",
    "        labeled_input.append((id, int(v)))\n",
    "        id += 1\n",
    "    else:\n",
    "        labeled_input.append((-1, int(v)))"
   ]
  },
  {
   "cell_type": "code",
   "execution_count": 4,
   "id": "87feaffe-f954-43d3-b314-75a1b021ac52",
   "metadata": {},
   "outputs": [],
   "source": [
    "# now fill the disk with data we know will not move\n",
    "pos = 0\n",
    "disk = [None]*n\n",
    "for id, sz in labeled_input:\n",
    "    if id == -1: # missing\n",
    "        pos += sz\n",
    "    else:\n",
    "        for _j in range(sz):\n",
    "            disk[pos] = id\n",
    "            pos += 1\n",
    "            if pos >= n: #filled it up\n",
    "                break\n",
    "    if pos >= n: #filled it up with empty at end\n",
    "        break\n",
    "        \n",
    "# now work backwards to fill in the gaps\n",
    "n_free = sum(1 for v in disk if v is None)\n",
    "files = list(reversed(list(filter(lambda x: x[0] != -1, labeled_input))))\n",
    "\n",
    "# tool to work backwards to get the next free pos\n",
    "pos = 0\n",
    "def get_next_free_pos(pos):\n",
    "    v = True\n",
    "    while v is not None:\n",
    "        pos += 1\n",
    "        v = disk[pos]\n",
    "    return pos\n",
    "\n",
    "i = 0\n",
    "while n_free > 0:\n",
    "    id, sz = files[i]\n",
    "    # get the next position to fill\n",
    "    for _j in range(sz):\n",
    "        if n_free == 0:\n",
    "            break\n",
    "        pos = get_next_free_pos(pos)\n",
    "        disk[pos] = id\n",
    "        n_free -= 1\n",
    "    i += 1\n",
    "    \n",
    "        "
   ]
  },
  {
   "cell_type": "code",
   "execution_count": 5,
   "id": "f3470df8-513c-47da-8829-71fab5aabc3b",
   "metadata": {},
   "outputs": [
    {
     "name": "stdout",
     "output_type": "stream",
     "text": [
      "6288599492129\n"
     ]
    }
   ],
   "source": [
    "# get the checksum\n",
    "print(sum(i*id for i, id in enumerate(disk)))"
   ]
  },
  {
   "cell_type": "code",
   "execution_count": 6,
   "id": "72474a9d-9c3e-437d-a4ee-6a8cf8ef6898",
   "metadata": {},
   "outputs": [],
   "source": [
    "## part 2 ... it was fun to never build the full fragged disk, but I think we need to. "
   ]
  },
  {
   "cell_type": "code",
   "execution_count": 7,
   "id": "04a195a0-4c04-45d9-84cb-ef59f1d3e8d7",
   "metadata": {},
   "outputs": [],
   "source": [
    "# builded the fragged disk\n",
    "disk = []\n",
    "for id, sz in labeled_input:\n",
    "    v = id if id!=-1 else None\n",
    "    disk.extend([v]*sz)\n",
    "\n",
    "# get a snapshot of the empty space\n",
    "empty = []\n",
    "start = None\n",
    "for i, v in enumerate(disk):\n",
    "    if v is None:\n",
    "        if start is None:\n",
    "            start = i\n",
    "    else:\n",
    "        if start is not None:\n",
    "            empty.append((start, i))\n",
    "            start = None\n",
    "            \n",
    "# ok, now we go through the files backwards and try to slot them in\n",
    "files = {id: (disk.index(id), sz) for id, sz in labeled_input if id != -1}\n",
    "for id in range(max(files.keys()), 0, -1):\n",
    "    # get the current location and size\n",
    "    pos, sz = files[id]\n",
    "    # see if we can place the file left to right in the free space\n",
    "    for i, (st, nd) in enumerate(empty):\n",
    "        if nd-st >= sz and st<pos: # we can place it\n",
    "            disk[st:(st+sz)] = [id]*sz\n",
    "            disk[pos:(pos+sz)] = [None]*sz\n",
    "            # now we need to update empty\n",
    "            if nd-st == sz:\n",
    "                empty.pop(i)\n",
    "            else:\n",
    "                empty[i] = (st+sz, nd)\n",
    "            break\n",
    "    "
   ]
  },
  {
   "cell_type": "code",
   "execution_count": 8,
   "id": "eb40235c-3826-4a6a-a4f9-2764bd819985",
   "metadata": {},
   "outputs": [
    {
     "name": "stdout",
     "output_type": "stream",
     "text": [
      "6321896265143\n"
     ]
    }
   ],
   "source": [
    "# get the checksum\n",
    "print(sum(i*id for i, id in enumerate(disk) if id is not None))"
   ]
  },
  {
   "cell_type": "code",
   "execution_count": null,
   "id": "7330cc02-c3f6-48eb-858b-f0fc6dacc056",
   "metadata": {},
   "outputs": [],
   "source": []
  }
 ],
 "metadata": {
  "kernelspec": {
   "display_name": "Python 3 (ipykernel)",
   "language": "python",
   "name": "python3"
  },
  "language_info": {
   "codemirror_mode": {
    "name": "ipython",
    "version": 3
   },
   "file_extension": ".py",
   "mimetype": "text/x-python",
   "name": "python",
   "nbconvert_exporter": "python",
   "pygments_lexer": "ipython3",
   "version": "3.12.4"
  }
 },
 "nbformat": 4,
 "nbformat_minor": 5
}
