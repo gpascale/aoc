{
 "cells": [
  {
   "cell_type": "code",
   "execution_count": 1,
   "id": "e90e8e0b-b2d0-4479-aa6e-57cbfa49748d",
   "metadata": {},
   "outputs": [],
   "source": [
    "directions = {'N':(-1,0), 'S':(1,0), 'W':(0,-1), 'E':(0,1)}\n",
    "\n",
    "class Game:\n",
    "    def __init__(self, obsticals, dims, starting_pos, starting_dir, turn_seq):\n",
    "        # inputs\n",
    "        self.obs = set(obsticals)\n",
    "        self.n, self.m = dims\n",
    "        self.pos = starting_pos\n",
    "        self.turn_seq = turn_seq\n",
    "        self.direction = starting_dir\n",
    "\n",
    "        #working variables up next\n",
    "        self.t_ind = turn_seq.index(self.direction)\n",
    "        self.history = set([self.pos + (self.direction, )])\n",
    "\n",
    "    def take_step(self):\n",
    "        # figure out where I'm going next\n",
    "        d = directions[self.direction]\n",
    "        i, j = self.pos[0] + d[0], self.pos[1] + d[1]\n",
    "\n",
    "        # did I step out of bounds? (return true)\n",
    "        if i < 0 or i >= self.n or j<0 or j>=self.m:\n",
    "            return True\n",
    "        elif (i,j) in self.obs:\n",
    "            # did I hit something? (turn)\n",
    "            self.t_ind = (self.t_ind + 1) % 4\n",
    "            self.direction = self.turn_seq[self.t_ind]\n",
    "        else:\n",
    "            if ((i,j) + (self.direction,)) in self.history:\n",
    "                # loopin\n",
    "                return \"LOOP!\"\n",
    "            self.pos = (i,j)\n",
    "            self.history.add(self.pos + (self.direction,))\n",
    "        \n",
    "        return False\n",
    "\n"
   ]
  },
  {
   "cell_type": "code",
   "execution_count": 3,
   "id": "dbf46237-3cea-4722-8997-6ad9c9f4dc22",
   "metadata": {},
   "outputs": [],
   "source": [
    "with open('input.txt', 'r') as fl:\n",
    "    obsticals = []\n",
    "    n, m = 0, 0\n",
    "    for ln in fl:\n",
    "        if n == 1:\n",
    "            m = len(ln.strip())\n",
    "        for j, s in enumerate(ln.strip()):\n",
    "            if s == '#':\n",
    "                obsticals.append((n,j))\n",
    "            if s == '^':\n",
    "                start_pos = (n,j)\n",
    "        n+=1\n",
    "        "
   ]
  },
  {
   "cell_type": "code",
   "execution_count": 5,
   "id": "e095d61f-9edd-4aae-a51b-bb02ae4d389d",
   "metadata": {},
   "outputs": [],
   "source": [
    "game = Game(obsticals=obsticals, dims = (n, m), starting_dir = 'N',\n",
    "            starting_pos = start_pos, turn_seq = ('N','E','S','W'))"
   ]
  },
  {
   "cell_type": "code",
   "execution_count": 7,
   "id": "1966034d-c2ac-4b09-bc9b-172d5e05aa32",
   "metadata": {},
   "outputs": [
    {
     "name": "stdout",
     "output_type": "stream",
     "text": [
      "4433\n"
     ]
    }
   ],
   "source": [
    "while not game.take_step():\n",
    "    pass\n",
    "print(len(set(pos[:2] for pos in game.history)))"
   ]
  },
  {
   "cell_type": "code",
   "execution_count": 9,
   "id": "b425bd16-a518-4975-a66d-3d162a2b92a8",
   "metadata": {},
   "outputs": [],
   "source": [
    "# now we need to set up some obsticals ... they need to be on the original path. \n",
    "locations = list(set(pos[:2] for pos in game.history))"
   ]
  },
  {
   "cell_type": "code",
   "execution_count": 11,
   "id": "14ecd79f-b06f-4d0f-a075-b7cb4fd02237",
   "metadata": {},
   "outputs": [
    {
     "name": "stdout",
     "output_type": "stream",
     "text": [
      "1516\n"
     ]
    }
   ],
   "source": [
    "total = 0\n",
    "for loc in locations:\n",
    "    new_obsticals = obsticals + [loc]\n",
    "    new_game = Game(obsticals=new_obsticals, dims = (n, m), starting_dir = 'N',\n",
    "                    starting_pos = start_pos, turn_seq = ('N','E','S','W'))\n",
    "    finished = False\n",
    "    while not finished:\n",
    "        finished = new_game.take_step()\n",
    "        if finished == 'LOOP!':\n",
    "            total += 1       \n",
    "print(total)"
   ]
  }
 ],
 "metadata": {
  "kernelspec": {
   "display_name": "Python 3 (ipykernel)",
   "language": "python",
   "name": "python3"
  },
  "language_info": {
   "codemirror_mode": {
    "name": "ipython",
    "version": 3
   },
   "file_extension": ".py",
   "mimetype": "text/x-python",
   "name": "python",
   "nbconvert_exporter": "python",
   "pygments_lexer": "ipython3",
   "version": "3.12.4"
  }
 },
 "nbformat": 4,
 "nbformat_minor": 5
}
