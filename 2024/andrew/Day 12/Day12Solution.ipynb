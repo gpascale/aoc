{
 "cells": [
  {
   "cell_type": "code",
   "execution_count": 1,
   "id": "a0b3e2f0-b23c-4615-a7cd-57c95b887db7",
   "metadata": {},
   "outputs": [],
   "source": [
    "from itertools import product"
   ]
  },
  {
   "cell_type": "code",
   "execution_count": 2,
   "id": "0209e855-942c-4e5c-a654-d61cd1f09e4f",
   "metadata": {},
   "outputs": [],
   "source": [
    "grid = []\n",
    "with open('input.txt', 'r') as fl:\n",
    "    grid = [ [ s for s in ln.strip() ] for ln in fl]\n",
    "n, m = len(grid), len(grid[0])\n",
    "directions = ( ('N',(-1,0)), \n",
    "               ('S', (1, 0)), \n",
    "               ('W', (0,-1)), \n",
    "               ('E', (0,1)) )\n",
    "side_dirs = {\n",
    "    'FN':((0,-1),(0,1)),\n",
    "    'FS':((0,-1),(0,1)),\n",
    "    'FW':((-1,0),(1,0)),\n",
    "    'FE':((-1,0),(1,0)),\n",
    "}"
   ]
  },
  {
   "cell_type": "code",
   "execution_count": 3,
   "id": "ea1ba1a2-c0fc-46eb-8d62-18f68889a2d8",
   "metadata": {},
   "outputs": [
    {
     "name": "stdout",
     "output_type": "stream",
     "text": [
      "1415378\n"
     ]
    }
   ],
   "source": [
    "regions = {}\n",
    "to_check = set( (i,j) for i,j in product(range(n), range(m)) )\n",
    "while len(to_check) > 0:\n",
    "    # get an initial plot to investigate\n",
    "    plot = to_check.pop()\n",
    "    plant = grid[plot[0]][plot[1]]\n",
    "    region_key = plant + str(plot).replace(' ', '')\n",
    "    region = {'A':0, 'P':0, 'S':0, \n",
    "              'FN':[], 'FS':[], 'FW':[], 'FE':[]}\n",
    "    # now we need to search the region covering all connections\n",
    "    plots = [plot]\n",
    "    while len(plots) > 0:\n",
    "        # check the edges to find new things to search \n",
    "        # and count the sides that need a fence\n",
    "        new_plots = []\n",
    "        for plot in plots:\n",
    "            region['A'] += 1\n",
    "            P = 4\n",
    "            for dr, (di, dj) in directions:\n",
    "                ii, jj = plot[0] + di, plot[1] + dj\n",
    "                # if the neighbor is the same, we can give back 1 fence\n",
    "                if 0 <= ii < n and 0 <= jj < m and grid[ii][jj] == plant:\n",
    "                    P -= 1\n",
    "                else:\n",
    "                    # this is an edge, save the direction and location\n",
    "                    # for part 2\n",
    "                    region['F'+dr].append(plot)\n",
    "                # if the neighbor is the same and hasnt been visited, add\n",
    "                if (ii, jj) in to_check and grid[ii][jj] == plant:\n",
    "                    new_plots.append((ii,jj))\n",
    "                    to_check.remove((ii,jj))\n",
    "            region['P'] += P\n",
    "        plots = new_plots\n",
    "    regions[region_key] = region\n",
    "\n",
    "    #print(region_key) \n",
    "print(sum(reg['A'] * reg['P'] for reg in regions.values()))"
   ]
  },
  {
   "cell_type": "code",
   "execution_count": 4,
   "id": "7a57ac7c-1db5-4c05-861c-4ff8f47251ac",
   "metadata": {},
   "outputs": [
    {
     "name": "stdout",
     "output_type": "stream",
     "text": [
      "862714\n"
     ]
    }
   ],
   "source": [
    "# part 2 - we just need to combine contiguous fence in each\n",
    "# direction\n",
    "for key, region in regions.items():\n",
    "    S = 0\n",
    "    for side_key in ('FN','FS','FW','FE'):\n",
    "        plots = set(region[side_key])\n",
    "        # we have all the pieces facing each direction. \n",
    "        # grab one and remove any others connected\n",
    "        # when we run out, we counted them all\n",
    "        while len(plots)>0:\n",
    "            plot = plots.pop()\n",
    "            S += 1\n",
    "            # now travel this side each way until I turn\n",
    "            for di, dj in side_dirs[side_key]:\n",
    "                steps = 1\n",
    "                while True:\n",
    "                    ii, jj = plot[0] + steps*di, plot[1] + steps*dj\n",
    "                    if (ii, jj) in plots:\n",
    "                        # still no turn\n",
    "                        plots.remove((ii,jj))\n",
    "                    else:\n",
    "                        # we turned\n",
    "                        break\n",
    "                    steps += 1\n",
    "    regions[key]['S'] = S\n",
    "print(sum(reg['A'] * reg['S'] for reg in regions.values()))"
   ]
  }
 ],
 "metadata": {
  "kernelspec": {
   "display_name": "Python 3 (ipykernel)",
   "language": "python",
   "name": "python3"
  },
  "language_info": {
   "codemirror_mode": {
    "name": "ipython",
    "version": 3
   },
   "file_extension": ".py",
   "mimetype": "text/x-python",
   "name": "python",
   "nbconvert_exporter": "python",
   "pygments_lexer": "ipython3",
   "version": "3.12.4"
  }
 },
 "nbformat": 4,
 "nbformat_minor": 5
}
