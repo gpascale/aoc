{
 "cells": [
  {
   "cell_type": "code",
   "execution_count": 1,
   "id": "358ddf3e-711b-4436-975b-6b84047ea166",
   "metadata": {
    "tags": []
   },
   "outputs": [],
   "source": [
    "from IPython.display import clear_output\n",
    "from itertools import permutations, product\n",
    "import time\n",
    "from functools import cache\n",
    "SLEEP_TIME = 0.05"
   ]
  },
  {
   "cell_type": "code",
   "execution_count": 2,
   "id": "1d51ad22-4a18-4298-85c9-465b20ba3e0a",
   "metadata": {
    "tags": []
   },
   "outputs": [],
   "source": [
    "with open('input.txt', 'r') as fl:\n",
    "    codes = [code.strip() for code in fl.readlines()]"
   ]
  },
  {
   "cell_type": "code",
   "execution_count": 3,
   "id": "aa596e15-f6a3-4738-91c3-663c0c5081e5",
   "metadata": {
    "tags": []
   },
   "outputs": [
    {
     "data": {
      "text/plain": [
       "['879A', '508A', '463A', '593A', '189A']"
      ]
     },
     "execution_count": 3,
     "metadata": {},
     "output_type": "execute_result"
    }
   ],
   "source": [
    "codes"
   ]
  },
  {
   "cell_type": "code",
   "execution_count": 4,
   "id": "6d0caaac-fa20-4129-8d1f-c815ae061365",
   "metadata": {
    "tags": []
   },
   "outputs": [],
   "source": [
    "# helper functions\n",
    "def get_all_paths(loc1, loc2, bad=None):\n",
    "    #gets all paths on a grid\n",
    "    di, dj = loc2[0] - loc1[0], loc2[1] - loc1[1]\n",
    "    di_sgn, dj_sgn = -1 if di < 0 else 1, -1 if dj < 0 else 1\n",
    "    pth = list((di_sgn, 0) for _i in range(di_sgn, di + di_sgn, di_sgn)) + \\\n",
    "           list((0, dj_sgn) for _j in range(dj_sgn, dj + dj_sgn, dj_sgn))\n",
    "    pths = list(set(permutations(pth)))\n",
    "    moves = []\n",
    "    for pth in pths:\n",
    "        if bad:\n",
    "            good = True\n",
    "            pos = loc1\n",
    "            for df in pth:\n",
    "                pos = pos[0]+df[0], pos[1]+df[1]\n",
    "                if pos == bad:\n",
    "                    good = False\n",
    "                    break\n",
    "            if not good:\n",
    "                continue\n",
    "        moves.append(''.join(rev_directions[d] for d in pth))\n",
    "    return moves\n",
    "\n",
    "def get_keypad_paths(loc1, loc2):\n",
    "    return get_all_paths(loc1, loc2, bad=(3,0))\n",
    "\n",
    "def get_arrow_paths(loc1, loc2):\n",
    "    return get_all_paths(loc1, loc2, bad=(0,0))\n",
    "\n",
    "# get all paths from stacked up arrow layers\n",
    "@cache\n",
    "def stacked_arrow_paths(a1, a2, depth=1, delim=''):\n",
    "    loc1, loc2 = rev_arrow_lookup[a1], rev_arrow_lookup[a2] \n",
    "    paths = [path + 'A' for path in get_arrow_paths(loc1, loc2)]\n",
    "    if depth > 1:\n",
    "        new_paths = []\n",
    "        for path in paths:\n",
    "            path = 'A' + path\n",
    "            new_paths.extend(\n",
    "                list(delim.join(_p) \n",
    "                     for _p in product(\n",
    "                        *[stacked_arrow_paths(path[i],path[i+1], depth=depth-1) \n",
    "                            for i in range(len(path)-1)]\n",
    "                    )))\n",
    "        paths = new_paths\n",
    "    return paths\n",
    "\n",
    "# just get the shortest and cache it. \n",
    "@cache\n",
    "def shortest_arrow_path(a1, a2, depth=1):\n",
    "    paths = stacked_arrow_paths(a1, a2, depth)\n",
    "    min_len = min(len(path) for path in paths)\n",
    "    for path in paths:\n",
    "        if len(path) == min_len:\n",
    "            return path\n",
    "\n",
    "# string together a sequence of numpad things\n",
    "def num_path(path, arrow_depth=2):\n",
    "    path = 'A' + path\n",
    "    out = ''\n",
    "    for i in range(len(path)-1):\n",
    "        out += shortest_arrow_path(path[i], path[i+1], arrow_depth)\n",
    "    return out\n",
    "\n",
    "# just put it all together\n",
    "def get_shortest_numpath(target, arrow_depth=2):\n",
    "    # step 1: get all the arrow paths of the input\n",
    "    rev_num_lookup = {v:k for k,v in NumberPad().mapping.items()}\n",
    "    target_locs = [(3,2)] + list(rev_num_lookup[s] for s in target)\n",
    "    # step 2: get all possible paths through the code on numpad\n",
    "    _p = list(product(*tuple(get_keypad_paths(target_locs[i],target_locs[i+1]) \n",
    "                      for i in range(len(target_locs)-1) )))\n",
    "    num_paths = ['A'.join(p) + 'A' for p in _p]\n",
    "    paths = [num_path(path, arrow_depth) for path in num_paths]    \n",
    "    # just grab the shortest\n",
    "    min_len = min(len(path) for path in paths)\n",
    "    for path in paths:\n",
    "        if len(path) == min_len:\n",
    "            return path"
   ]
  },
  {
   "cell_type": "code",
   "execution_count": 5,
   "id": "18b67f6a-aded-4988-90f5-024a0f7ced5b",
   "metadata": {
    "tags": []
   },
   "outputs": [],
   "source": [
    "# I think I'm going to code the \"game\" to illustrate and get\n",
    "# intuition\n",
    "directions = {'<':(0,-1), '^':(-1,0), 'v':(1,0), '>':(0,1)}\n",
    "rev_directions = {d:v for v, d in directions.items()}\n",
    "\n",
    "class Input:\n",
    "    def __init__(self, mapping):\n",
    "        self.mapping = mapping.copy()\n",
    "        self.n = max(p[0] for p in self.mapping) + 1\n",
    "        self.m = max(p[1] for p in self.mapping) + 1\n",
    "        \n",
    "    def activate(self, pos):\n",
    "        return self.mapping[pos]\n",
    "    \n",
    "    def display(self, star=None, header=None):\n",
    "        s = '\\n' if header is None else header\n",
    "        for i in range(self.n):\n",
    "            for j in range(self.m):\n",
    "                if (i,j) in star:\n",
    "                    s += star[(i,j)]\n",
    "                elif (i,j) in self.mapping:\n",
    "                    s += self.mapping[(i,j)]\n",
    "                else:\n",
    "                    s += 'x'\n",
    "                s += '  '\n",
    "            s += '\\n'\n",
    "        print(s)\n",
    "                    \n",
    "        \n",
    "    \n",
    "class NumberPad(Input):\n",
    "    def __init__(self):\n",
    "        mapping = {(0,0):'7', (0,1):'8', (0,2):'9',\n",
    "                   (1,0):'4', (1,1):'5', (1,2):'6',\n",
    "                   (2,0):'1', (2,1):'2', (2,2):'3',\n",
    "                              (3,1):'0', (3,2):'A'}\n",
    "        super().__init__(mapping=mapping)\n",
    "rev_num_lookup = {v:k for k,v in NumberPad().mapping.items()}\n",
    "        \n",
    "        \n",
    "class ArrowPad(Input):\n",
    "    def __init__(self):\n",
    "        mapping = {           (0,1):'^', (0,2):'A',\n",
    "                   (1,0):'<', (1,1):'v', (1,2):'>'}\n",
    "        super().__init__(mapping=mapping)\n",
    "rev_arrow_lookup = {v:k for k,v in ArrowPad().mapping.items()}        \n",
    "        \n",
    "        \n",
    "class Robot:\n",
    "    def __init__(self, input_pad):\n",
    "        self.input_pad = input_pad\n",
    "        self.last_move = None\n",
    "        self.state = list([p for p, v in self.input_pad.mapping.items() if v == 'A'])[0]\n",
    "        \n",
    "    def press_button(self):\n",
    "        self.last_move = 'A'\n",
    "        return self.input_pad.activate(self.state)\n",
    "    \n",
    "    def move_arm(self, direction):\n",
    "        self.last_move = direction\n",
    "        i, j = self.state\n",
    "        di, dj = directions[direction]\n",
    "        self.state = (i + di, j + dj)\n",
    "        return None\n",
    "    \n",
    "    def display(self, header = 'robot:\\n'):\n",
    "        star = {self.state:'#'} if self.last_move == 'A' else {self.state:'*'}\n",
    "        self.input_pad.display(header=header, star=star)\n",
    "        \n",
    "class Game:\n",
    "    def __init__(self, robots):\n",
    "        self.robots = robots\n",
    "        self.inputs = ''\n",
    "        \n",
    "    def next_action(self, key):\n",
    "        self.inputs += key\n",
    "        for robot in self.robots:\n",
    "            out = None\n",
    "            if key == 'A':\n",
    "                out = robot.press_button()\n",
    "            elif key in directions:\n",
    "                out = robot.move_arm(key)\n",
    "            else:\n",
    "                robot.last_move = None\n",
    "            key = out\n",
    "        return out\n",
    "    \n",
    "    def display(self):\n",
    "        for robot in self.robots:\n",
    "            robot.display()\n",
    "            \n",
    "    def run_moves(self, moves, verbose=False):\n",
    "        if verbose:\n",
    "            self.display()\n",
    "            clear_output(wait = True)\n",
    "            \n",
    "        p = ''\n",
    "        for s in moves:\n",
    "            out = game.next_action(s)   \n",
    "            if out:\n",
    "                p += out\n",
    "            if verbose:\n",
    "                print('INPUT: ', s)\n",
    "                game.display()\n",
    "\n",
    "                print('OUTPUT: ', p)\n",
    "                clear_output(wait = True)\n",
    "                time.sleep(SLEEP_TIME)\n",
    "        return p\n",
    "                "
   ]
  },
  {
   "cell_type": "code",
   "execution_count": 6,
   "id": "67fd6ae3-3150-4aad-855e-88fbb1bf6b37",
   "metadata": {
    "tags": []
   },
   "outputs": [
    {
     "data": {
      "text/plain": [
       "'879A'"
      ]
     },
     "execution_count": 6,
     "metadata": {},
     "output_type": "execute_result"
    }
   ],
   "source": [
    "target = codes[0]\n",
    "game = Game([Robot(ArrowPad()), Robot(ArrowPad()), Robot(NumberPad())])\n",
    "game.run_moves(get_shortest_numpath(target),\n",
    "               verbose=False)"
   ]
  },
  {
   "cell_type": "code",
   "execution_count": 7,
   "id": "8993ed51-1f48-43cf-a487-3ef8e5a2bcc4",
   "metadata": {
    "tags": []
   },
   "outputs": [
    {
     "data": {
      "text/plain": [
       "188384"
      ]
     },
     "execution_count": 7,
     "metadata": {},
     "output_type": "execute_result"
    }
   ],
   "source": [
    "total = 0\n",
    "for code in codes:\n",
    "    len_path = len(get_shortest_numpath(code))\n",
    "    total += len_path * int(code.replace('A', ''))\n",
    "total"
   ]
  },
  {
   "cell_type": "code",
   "execution_count": 8,
   "id": "ee7c133d-598b-4a8e-9430-11db2007ae44",
   "metadata": {},
   "outputs": [],
   "source": [
    "# part 2"
   ]
  },
  {
   "cell_type": "code",
   "execution_count": 9,
   "id": "62d14db6-af94-40b3-98b1-c739fcbe2ba4",
   "metadata": {
    "tags": []
   },
   "outputs": [],
   "source": [
    "# get all paths from stacked up arrow layers\n",
    "@cache\n",
    "def all_arrow_paths(path):\n",
    "    locs = [rev_arrow_lookup[a] for a in path]\n",
    "    paths = [[path + 'A' for path in get_arrow_paths(locs[i], locs[i+1])]\n",
    "             for i in range(len(locs)-1)]\n",
    "    return list(map(lambda l: ''.join(l), product(*paths))) \n",
    "\n",
    "# just get the shortest and cache it. \n",
    " \n",
    "PATH_CACHE = {}\n",
    "def reset_cache():\n",
    "    import gc\n",
    "    global PATH_CACHE \n",
    "    PATH_CACHE = {}\n",
    "    gc.collect()\n",
    "#@cache\n",
    "def shortest_arrow_path_words(arrows, depth=1, ret_len = True, max_cache_depth = 100):\n",
    "    if arrows == 'A':\n",
    "        if ret_len:\n",
    "            return 1\n",
    "        else:\n",
    "            return 'A'\n",
    "    if (arrows, depth, ret_len) in PATH_CACHE:\n",
    "        return PATH_CACHE[(arrows, depth, ret_len)]\n",
    "    \n",
    "    paths = all_arrow_paths('A' + arrows)\n",
    "    if depth > 1:\n",
    "        new_paths = []\n",
    "        for path in paths:\n",
    "            # words can be solved independently\n",
    "            words = [word + 'A' for word in path.split('A')[:-1]]\n",
    "            #print(path, words)\n",
    "            new_path = 0 if ret_len else ''\n",
    "            for word in words:\n",
    "                # recursion where only the single words will be messed with\n",
    "                new_path += shortest_arrow_path_words(word, depth=depth-1, ret_len=ret_len,\n",
    "                                                      max_cache_depth = max_cache_depth)\n",
    "            new_paths.append(new_path)\n",
    "        paths = new_paths\n",
    "        \n",
    "    # return the shortest path or length\n",
    "    if ret_len:\n",
    "        if depth == 1:\n",
    "            min_len = min(len(path) for path in paths)   \n",
    "        else:\n",
    "            min_len = min(paths)\n",
    "        if depth <= max_cache_depth:\n",
    "            PATH_CACHE[(arrows, depth, ret_len)] = min_len\n",
    "        return min_len\n",
    "    else:\n",
    "        min_len = min(len(path) for path in paths)\n",
    "        for path in paths:\n",
    "            # find that path\n",
    "            if len(path) == min_len:\n",
    "                if depth <= max_cache_depth:\n",
    "                    PATH_CACHE[(arrows, depth, ret_len)] = path\n",
    "                return path\n",
    "\n",
    "# just put it all together\n",
    "def get_shortest_numpath_v2(target, arrow_depth=2, ret_len=False):\n",
    "    # step 1: get all the arrow paths of the input\n",
    "    rev_num_lookup = {v:k for k,v in NumberPad().mapping.items()}\n",
    "    target_locs = [(3,2)] + list(rev_num_lookup[s] for s in target)\n",
    "    # step 2: get all possible paths through the code on numpad\n",
    "    _p = list(product(*tuple(get_keypad_paths(target_locs[i],target_locs[i+1]) \n",
    "                      for i in range(len(target_locs)-1) )))\n",
    "    num_paths = ['A'.join(p) + 'A' for p in _p]\n",
    "    paths = [shortest_arrow_path_words(path, arrow_depth, ret_len=ret_len) \n",
    "             for path in num_paths]    \n",
    "    # just grab the shortest\n",
    "    if ret_len:\n",
    "        return min(paths)\n",
    "    else:\n",
    "        min_len = min(len(path) for path in paths)\n",
    "        for path in paths:\n",
    "            if len(path) == min_len:\n",
    "                return path"
   ]
  },
  {
   "cell_type": "code",
   "execution_count": 10,
   "id": "90eda8a1-b916-4460-8c6d-89fb43cce7fe",
   "metadata": {
    "tags": []
   },
   "outputs": [
    {
     "data": {
      "text/plain": [
       "'879A'"
      ]
     },
     "execution_count": 10,
     "metadata": {},
     "output_type": "execute_result"
    }
   ],
   "source": [
    "target = codes[0]\n",
    "game = Game([Robot(ArrowPad()) for i in range(10)] + [Robot(NumberPad())])\n",
    "game.run_moves(get_shortest_numpath_v2(target, arrow_depth=10),\n",
    "               verbose=False)"
   ]
  },
  {
   "cell_type": "code",
   "execution_count": 11,
   "id": "278e746c-b1e4-4262-9f4a-1bac9ddfe16d",
   "metadata": {
    "tags": []
   },
   "outputs": [
    {
     "data": {
      "text/plain": [
       "232389969568832"
      ]
     },
     "execution_count": 11,
     "metadata": {},
     "output_type": "execute_result"
    }
   ],
   "source": [
    "total = 0\n",
    "for code in codes:\n",
    "    len_path = get_shortest_numpath_v2(code, arrow_depth=25, ret_len=True)\n",
    "    total += len_path * int(code.replace('A', ''))\n",
    "total"
   ]
  }
 ],
 "metadata": {
  "kernelspec": {
   "display_name": "Python 3 (ipykernel)",
   "language": "python",
   "name": "python3"
  },
  "language_info": {
   "codemirror_mode": {
    "name": "ipython",
    "version": 3
   },
   "file_extension": ".py",
   "mimetype": "text/x-python",
   "name": "python",
   "nbconvert_exporter": "python",
   "pygments_lexer": "ipython3",
   "version": "3.11.5"
  }
 },
 "nbformat": 4,
 "nbformat_minor": 5
}
