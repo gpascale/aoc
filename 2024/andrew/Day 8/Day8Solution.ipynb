{
 "cells": [
  {
   "cell_type": "code",
   "execution_count": 65,
   "id": "4bd52d7c-608b-469c-a95c-0eb3d9419644",
   "metadata": {},
   "outputs": [],
   "source": [
    "antennas = {}\n",
    "with open('input.txt', 'r') as fl:\n",
    "    n = 0\n",
    "    for ln in fl:\n",
    "        ln = ln.strip()\n",
    "        m = len(ln)\n",
    "        for j, v in enumerate(ln):\n",
    "            if v != '.':\n",
    "                # add to the antennas\n",
    "                antennas[v] = [(n,j)] if v not in antennas else antennas[v] + [(n,j)]\n",
    "        n += 1\n",
    "        "
   ]
  },
  {
   "cell_type": "code",
   "execution_count": 67,
   "id": "53a5003e-dded-487f-b1dd-75ef3994f03d",
   "metadata": {},
   "outputs": [
    {
     "name": "stdout",
     "output_type": "stream",
     "text": [
      "394\n"
     ]
    }
   ],
   "source": [
    "# part 1\n",
    "from itertools import combinations\n",
    "antinodes = set()\n",
    "for freq in antennas:\n",
    "    for (i1,j1), (i2,j2) in combinations(antennas[freq], 2):\n",
    "        di, dj = i1 - i2, j1 - j2\n",
    "        antinodes.add((i1+di, j1 + dj))\n",
    "        antinodes.add((i2-di, j2 - dj))\n",
    "antinodes = tuple((i,j) for i,j in antinodes if 0<=i<n and 0<=j<m)\n",
    "print(len(antinodes))"
   ]
  },
  {
   "cell_type": "code",
   "execution_count": 69,
   "id": "dda2a78d-de00-4732-a0b9-23587b3dc84f",
   "metadata": {},
   "outputs": [
    {
     "name": "stdout",
     "output_type": "stream",
     "text": [
      "1277\n"
     ]
    }
   ],
   "source": [
    "# part 2from itertools import combinations\n",
    "antinodes = set()\n",
    "for freq in antennas:\n",
    "    for (i1,j1), (i2,j2) in combinations(antennas[freq], 2):\n",
    "        di, dj = i1 - i2, j1 - j2\n",
    "        ii, jj = i2 + di, j2 + dj\n",
    "        while 0<=ii<n and 0<=jj<m:\n",
    "            antinodes.add((ii,jj))\n",
    "            ii, jj = ii + di, jj + dj\n",
    "        ii, jj = i1 - di, j1 - dj\n",
    "        while 0<=ii<n and 0<=jj<m:\n",
    "            antinodes.add((ii,jj))\n",
    "            ii, jj = ii - di, jj - dj\n",
    "print(len(antinodes))\n"
   ]
  },
  {
   "cell_type": "code",
   "execution_count": null,
   "id": "992f9405-601b-4109-94ce-0fc2cb15645b",
   "metadata": {},
   "outputs": [],
   "source": []
  }
 ],
 "metadata": {
  "kernelspec": {
   "display_name": "Python 3 (ipykernel)",
   "language": "python",
   "name": "python3"
  },
  "language_info": {
   "codemirror_mode": {
    "name": "ipython",
    "version": 3
   },
   "file_extension": ".py",
   "mimetype": "text/x-python",
   "name": "python",
   "nbconvert_exporter": "python",
   "pygments_lexer": "ipython3",
   "version": "3.12.4"
  }
 },
 "nbformat": 4,
 "nbformat_minor": 5
}
