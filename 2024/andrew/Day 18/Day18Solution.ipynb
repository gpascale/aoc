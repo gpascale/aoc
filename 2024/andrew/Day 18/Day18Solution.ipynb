{
 "cells": [
  {
   "cell_type": "code",
   "execution_count": null,
   "id": "276f55a5-a6ec-4e65-8d21-a57957df0969",
   "metadata": {
    "tags": []
   },
   "outputs": [],
   "source": [
    "test = False\n",
    "if test:\n",
    "    flname = 'test.txt'\n",
    "    n, m, l = 6, 6, 12\n",
    "else:\n",
    "    flname = 'input.txt'\n",
    "    n, m, l = 70, 70, 1024\n",
    "with open(flname,'r') as fl:\n",
    "    coords = [tuple(map(int, ln.strip().split(','))) for ln in fl]"
   ]
  },
  {
   "cell_type": "code",
   "execution_count": null,
   "id": "873a0173-5a6c-4daa-b9c9-7b1ce10f495b",
   "metadata": {
    "tags": []
   },
   "outputs": [],
   "source": [
    "def find_paths(obsticals):\n",
    "\n",
    "    directions = {'U':(-1,0), 'D':(1,0), 'L':(0,-1), 'R':(0,1)}\n",
    "    paths = [[(0,0),]]\n",
    "    new_paths = paths\n",
    "    complete_paths = set()\n",
    "    visited = set([(0,0)])\n",
    "    while len(new_paths)>0:\n",
    "        paths = new_paths\n",
    "        new_paths = []\n",
    "        for path in paths:\n",
    "            loc = path[-1]\n",
    "            for di, dj in directions.values():\n",
    "                i, j = loc[0] + di, loc[1] + dj\n",
    "                if 0<=i<=n and 0<=j<=m and (i,j) not in visited and (i,j) not in obsticals:\n",
    "                    new_paths.append(path + [(i,j)])\n",
    "                    visited.add((i,j))\n",
    "                else:\n",
    "                    complete_paths.add(tuple(path))\n",
    "    return complete_paths\n",
    "\n",
    "obsticals = set(coords[:l])\n",
    "complete_paths = find_paths(obsticals)"
   ]
  },
  {
   "cell_type": "code",
   "execution_count": 3,
   "id": "c33ec5ca-9c67-4f75-bfdd-a7b3b1f6908c",
   "metadata": {
    "tags": []
   },
   "outputs": [
    {
     "data": {
      "text/plain": [
       "360"
      ]
     },
     "execution_count": 3,
     "metadata": {},
     "output_type": "execute_result"
    }
   ],
   "source": [
    "min([len(p) for p in complete_paths if p[-1][0] == n and p[-1][1] == m ]) - 1"
   ]
  },
  {
   "cell_type": "code",
   "execution_count": 4,
   "id": "76a31dbe-034c-43df-b5f1-bbc3b7b0e37b",
   "metadata": {
    "tags": []
   },
   "outputs": [
    {
     "data": {
      "text/plain": [
       "(58, 62)"
      ]
     },
     "execution_count": 4,
     "metadata": {},
     "output_type": "execute_result"
    }
   ],
   "source": [
    "# part 2 - takes about a minute\n",
    "obsticals = set(coords[:l])\n",
    "for obs in coords[l:]:\n",
    "    obsticals.add(obs)\n",
    "    complete_paths = find_paths(obsticals)\n",
    "    n_paths = sum(1 for p in complete_paths if p[-1][0] == n and p[-1][1] == m)\n",
    "    if n_paths == 0:\n",
    "        break\n",
    "obs"
   ]
  }
 ],
 "metadata": {
  "kernelspec": {
   "display_name": "Python 3 (ipykernel)",
   "language": "python",
   "name": "python3"
  },
  "language_info": {
   "codemirror_mode": {
    "name": "ipython",
    "version": 3
   },
   "file_extension": ".py",
   "mimetype": "text/x-python",
   "name": "python",
   "nbconvert_exporter": "python",
   "pygments_lexer": "ipython3",
   "version": "3.11.5"
  }
 },
 "nbformat": 4,
 "nbformat_minor": 5
}
