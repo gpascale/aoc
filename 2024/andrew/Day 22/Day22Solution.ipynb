{
 "cells": [
  {
   "cell_type": "code",
   "execution_count": 1,
   "id": "7b041d85-e134-43cc-9c6d-3629e97e8393",
   "metadata": {
    "tags": []
   },
   "outputs": [],
   "source": [
    "with open('input.txt', 'r') as fl:\n",
    "    secrets = [int(i.strip()) for i in fl.readlines()]"
   ]
  },
  {
   "cell_type": "code",
   "execution_count": 2,
   "id": "877e7104-7621-464b-afc1-addf81edcf58",
   "metadata": {
    "tags": []
   },
   "outputs": [],
   "source": [
    "to_bin = lambda i: bin(int(i))[2:]\n",
    "to_num = lambda i: int(str(i),base=2)\n",
    "\n",
    "def print_bin(n, l=24):\n",
    "    b = to_bin(n)\n",
    "    print('0'*(24-len(b)) + b)\n",
    "    \n",
    "def prune(n):\n",
    "    return n % 16777216\n",
    "\n",
    "def mix(n,n0):\n",
    "    return n^n0\n",
    "\n",
    "def step1(n0):\n",
    "    n = n0 * 64\n",
    "    return prune(mix(n,n0))\n",
    "\n",
    "def step2(n0):\n",
    "    n = n0 // 32\n",
    "    return prune(mix(n,n0))\n",
    "\n",
    "def step3(n0):\n",
    "    n = n0 * 2048\n",
    "    return prune(mix(n,n0))\n",
    "\n",
    "def run_system(n):\n",
    "    n1 = step1(n)\n",
    "    n2 = step2(n1)\n",
    "    n3 = step3(n2)\n",
    "    return n3"
   ]
  },
  {
   "cell_type": "code",
   "execution_count": 3,
   "id": "bae062da-a99c-4db9-b409-edda3b0dc653",
   "metadata": {
    "tags": []
   },
   "outputs": [
    {
     "data": {
      "text/plain": [
       "17965282217"
      ]
     },
     "execution_count": 3,
     "metadata": {},
     "output_type": "execute_result"
    }
   ],
   "source": [
    "#part 1\n",
    "total = 0\n",
    "for secret in secrets:\n",
    "    for it in range(2000):\n",
    "        secret = run_system(secret)\n",
    "    total += secret\n",
    "total"
   ]
  },
  {
   "cell_type": "code",
   "execution_count": 4,
   "id": "eee79c9f-04eb-40db-955e-d10ae6f22eb6",
   "metadata": {
    "tags": []
   },
   "outputs": [],
   "source": [
    "# part 2\n",
    "sec_prices = {}\n",
    "sec_diffs = {}\n",
    "for secret in [123] + secrets:\n",
    "    key = secret\n",
    "    prices = [secret%10]\n",
    "    diffs = [None]\n",
    "    for it in range(2000):\n",
    "        secret = run_system(secret)\n",
    "        prices.append(secret%10)\n",
    "        diffs.append(prices[-1] - prices[-2])\n",
    "    sec_prices[key] = prices\n",
    "    sec_diffs[key] = diffs"
   ]
  },
  {
   "cell_type": "code",
   "execution_count": 5,
   "id": "1ba445b5-b033-4e7a-95d1-df195a959ba7",
   "metadata": {
    "tags": []
   },
   "outputs": [],
   "source": [
    "all_scores = {}\n",
    "all_key_scores = {}\n",
    "\n",
    "for sec in sec_prices:\n",
    "    key_scores = {}        \n",
    "    diffs = sec_diffs[sec]\n",
    "    prices = sec_prices[sec]    \n",
    "    for i in range(0, len(diffs)-4):\n",
    "        key = tuple(diffs[i:(i+4)])\n",
    "        pr = prices[i+4-1]\n",
    "        if key not in key_scores:\n",
    "            key_scores[key] = pr\n",
    "            all_scores[key] = all_scores[key] + pr if key in all_scores else pr\n",
    "    all_key_scores = key_scores"
   ]
  },
  {
   "cell_type": "code",
   "execution_count": 6,
   "id": "5178446e-2177-4430-9e73-e02ed6baa45e",
   "metadata": {
    "tags": []
   },
   "outputs": [
    {
     "data": {
      "text/plain": [
       "2152"
      ]
     },
     "execution_count": 6,
     "metadata": {},
     "output_type": "execute_result"
    }
   ],
   "source": [
    "max(all_scores.values())"
   ]
  }
 ],
 "metadata": {
  "kernelspec": {
   "display_name": "Python 3 (ipykernel)",
   "language": "python",
   "name": "python3"
  },
  "language_info": {
   "codemirror_mode": {
    "name": "ipython",
    "version": 3
   },
   "file_extension": ".py",
   "mimetype": "text/x-python",
   "name": "python",
   "nbconvert_exporter": "python",
   "pygments_lexer": "ipython3",
   "version": "3.11.5"
  }
 },
 "nbformat": 4,
 "nbformat_minor": 5
}
