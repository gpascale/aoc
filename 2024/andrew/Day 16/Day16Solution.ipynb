{
 "cells": [
  {
   "cell_type": "code",
   "execution_count": 1,
   "id": "e51eb204-51c6-4a5b-b15b-723786a9e17d",
   "metadata": {
    "tags": []
   },
   "outputs": [],
   "source": [
    "maze = set()\n",
    "start = None\n",
    "end = None\n",
    "with open('input.txt', 'r') as fl:\n",
    "    for i, ln in enumerate(fl):\n",
    "        for j, s in enumerate(ln.strip()):\n",
    "            if s == '#':\n",
    "                maze.add((i,j))\n",
    "            elif s == 'S':\n",
    "                start = (i,j)\n",
    "            elif s == 'E':\n",
    "                end = (i,j)\n",
    "n, m = max(m[0] for m in maze) + 1, max(m[1] for m in maze) + 1\n",
    "directions = {\n",
    "    'N': (-1,0), 'S': (1, 0), 'W':(0,-1), 'E':(0,1)\n",
    "}\n",
    "turns = {\n",
    "    'N': ('W', 'E'), 'S': ('W','E'), 'W':('N','S'), 'E':('N','S')\n",
    "}\n",
    "start = start + ('E',)"
   ]
  },
  {
   "cell_type": "code",
   "execution_count": 2,
   "id": "b2a52613-ed73-4d6b-aa4a-72e19e88ac17",
   "metadata": {
    "tags": []
   },
   "outputs": [
    {
     "name": "stdout",
     "output_type": "stream",
     "text": [
      "300 50233\n"
     ]
    }
   ],
   "source": [
    "from IPython.display import clear_output\n",
    "paths = [{'path':[start],'score':0}]\n",
    "complete = []\n",
    "scores = {\n",
    "    start:0\n",
    "}\n",
    "# we are going to keep looping over the paths\n",
    "# growing in every possible direction\n",
    "# until they've all looped or hit a dead end\n",
    "while len(paths)>0:\n",
    "    print(len(paths), len(complete))\n",
    "    clear_output(wait = True)\n",
    "    new_paths = []\n",
    "    for path_info in paths:\n",
    "        path, score = path_info['path'].copy(), path_info['score']\n",
    "        i,j,d = path[-1]\n",
    "        new = False\n",
    "        # look at going straight\n",
    "        di, dj = directions[d]\n",
    "        if (i+di, j+dj) not in maze:\n",
    "            # we can go forward, add it to the list\n",
    "            new_paths.append({'path':path + [(i+di, j+dj, d)], 'score':score+1})\n",
    "            new = True\n",
    "        # now look in each direction\n",
    "        for nd in turns[d]:\n",
    "            di, dj = directions[nd]\n",
    "            if (i+di, j+dj) not in maze:\n",
    "                # we can turn\n",
    "                new_paths.append({'path':path + [(i+di, j+dj, nd)], 'score':score+1001})\n",
    "                new = True\n",
    "        if not new:\n",
    "            # we hit a dead end\n",
    "            complete.append(path_info)\n",
    "    paths = new_paths\n",
    "    # update scores and prune the new paths\n",
    "    new_paths = []\n",
    "    for path_info in paths:\n",
    "        loc = path_info['path'][-1][:2]\n",
    "        loc_d = path_info['path'][-1]\n",
    "        if loc == end:\n",
    "            # we made it, wrap up \n",
    "            complete.append(path_info)\n",
    "        if loc_d in scores and scores[loc_d] < path_info['score']:\n",
    "            # we've been here before in another route, stop if worse score\n",
    "            complete.append(path_info)\n",
    "        else:\n",
    "            scores[loc_d] = path_info['score']\n",
    "            new_paths.append(path_info)\n",
    "    paths = new_paths"
   ]
  },
  {
   "cell_type": "code",
   "execution_count": 3,
   "id": "3874fe50-fabf-4dfe-bce7-48bb855efc88",
   "metadata": {
    "tags": []
   },
   "outputs": [
    {
     "data": {
      "text/plain": [
       "160624"
      ]
     },
     "execution_count": 3,
     "metadata": {},
     "output_type": "execute_result"
    }
   ],
   "source": [
    "# part 1, just look at the score of one of the best routs\n",
    "routes = list(filter(lambda info: info['path'][-1][:2] == end, complete))\n",
    "best_score = min(info['score'] for info in routes)\n",
    "best_score"
   ]
  },
  {
   "cell_type": "code",
   "execution_count": 4,
   "id": "6c5d7381-0100-47b4-8742-696b8ab8ebdd",
   "metadata": {
    "tags": []
   },
   "outputs": [
    {
     "data": {
      "text/plain": [
       "692"
      ]
     },
     "execution_count": 4,
     "metadata": {},
     "output_type": "execute_result"
    }
   ],
   "source": [
    "# part 2, get all of the tied routes and get the length of the union of tiles\n",
    "best_routes = list(filter(lambda info: info['score'] == best_score, routes))\n",
    "tiles = set()\n",
    "for info in best_routes:\n",
    "    tiles = tiles.union(set(p[:2] for p in info['path']))\n",
    "len(tiles)"
   ]
  }
 ],
 "metadata": {
  "kernelspec": {
   "display_name": "Python 3 (ipykernel)",
   "language": "python",
   "name": "python3"
  },
  "language_info": {
   "codemirror_mode": {
    "name": "ipython",
    "version": 3
   },
   "file_extension": ".py",
   "mimetype": "text/x-python",
   "name": "python",
   "nbconvert_exporter": "python",
   "pygments_lexer": "ipython3",
   "version": "3.11.5"
  }
 },
 "nbformat": 4,
 "nbformat_minor": 5
}
