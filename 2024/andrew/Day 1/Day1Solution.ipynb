{
 "cells": [
  {
   "cell_type": "code",
   "execution_count": 27,
   "id": "b7906955-1f1b-4b0a-853c-0b745fe19818",
   "metadata": {},
   "outputs": [
    {
     "name": "stdout",
     "output_type": "stream",
     "text": [
      "1580061\n"
     ]
    }
   ],
   "source": [
    "l1, l2 = [],[]\n",
    "with open('input.txt','r') as fl:\n",
    "    for ln in fl:\n",
    "        i1, i2 = ln.split()\n",
    "        l1.append(int(i1.strip()))\n",
    "        l2.append(int(i2.strip()))\n",
    "l1 = sorted(l1)\n",
    "l2 = sorted(l2)\n",
    "res = 0\n",
    "for i1, i2 in zip(l1,l2):\n",
    "    res += abs(i1-i2)\n",
    "print(res)"
   ]
  },
  {
   "cell_type": "code",
   "execution_count": 53,
   "id": "91085c55-c81a-4391-af9f-e177bca0ec3f",
   "metadata": {},
   "outputs": [
    {
     "name": "stdout",
     "output_type": "stream",
     "text": [
      "23046913\n"
     ]
    }
   ],
   "source": [
    "from collections import Counter\n",
    "cnts = Counter(l2)\n",
    "res = sum(cnts[i]*i for i in l1)\n",
    "print(res)"
   ]
  }
 ],
 "metadata": {
  "kernelspec": {
   "display_name": "Python 3 (ipykernel)",
   "language": "python",
   "name": "python3"
  },
  "language_info": {
   "codemirror_mode": {
    "name": "ipython",
    "version": 3
   },
   "file_extension": ".py",
   "mimetype": "text/x-python",
   "name": "python",
   "nbconvert_exporter": "python",
   "pygments_lexer": "ipython3",
   "version": "3.12.4"
  }
 },
 "nbformat": 4,
 "nbformat_minor": 5
}
