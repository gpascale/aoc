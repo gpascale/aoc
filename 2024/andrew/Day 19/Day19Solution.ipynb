{
 "cells": [
  {
   "cell_type": "code",
   "execution_count": 1,
   "id": "97889e37-a7c9-41b1-9b09-a435499b2756",
   "metadata": {
    "tags": []
   },
   "outputs": [],
   "source": [
    "with open('input.txt', 'r') as fl:\n",
    "    patterns = [s.strip() for s in next(fl).split(',')]\n",
    "    next(fl)\n",
    "    towels = [ln.strip() for ln in fl]"
   ]
  },
  {
   "cell_type": "code",
   "execution_count": 2,
   "id": "87cff00b-6997-4ddf-8cf9-3cc17dbcb94d",
   "metadata": {
    "tags": []
   },
   "outputs": [],
   "source": [
    "class PrefixNode:\n",
    "    def __init__(self, text = \"\"):\n",
    "        self.children = {}\n",
    "        self.text = text\n",
    "        self.parents = []\n",
    "        self.n_root_parents = 0\n",
    "        \n",
    "    def add_child(self, name, node):\n",
    "        self.children[name] = node\n",
    "        node.parents.append(self)\n",
    "        node.n_root_parents += self.n_root_parents\n",
    "        return node"
   ]
  },
  {
   "cell_type": "code",
   "execution_count": 3,
   "id": "980e4747-3676-4013-8a8d-dc102514fa6b",
   "metadata": {
    "tags": []
   },
   "outputs": [
    {
     "name": "stdout",
     "output_type": "stream",
     "text": [
      "patterns: 447 towels: 400\n"
     ]
    }
   ],
   "source": [
    "print('patterns:',len(patterns),'towels:', len(towels))"
   ]
  },
  {
   "cell_type": "code",
   "execution_count": 4,
   "id": "ccb72fed-30ec-491b-b217-c54ad723d5a9",
   "metadata": {
    "tags": []
   },
   "outputs": [],
   "source": [
    "solutions = {}\n",
    "\n",
    "for towel in towels:\n",
    "\n",
    "    root = PrefixNode()\n",
    "    root.n_root_parents = 1\n",
    "    prefixes = {0:{0:[root]}}\n",
    "    sub_patterns = [p for p in patterns if p in towel] \n",
    "\n",
    "    for i in range(1, len(towel)+1):\n",
    "        prefix = towel[:i]\n",
    "        for gram in sub_patterns:\n",
    "            if prefix.endswith(gram):\n",
    "                n = len(gram)\n",
    "                parents = prefixes.get(i-n, {})\n",
    "                prefix_nodes = prefixes.get(i, {})\n",
    "                if len(parents) == 0:\n",
    "                    node = PrefixNode(text = gram)\n",
    "                    _p = prefix_nodes.get(i-n, []) + [node]\n",
    "                    prefix_nodes[i-n] = _p\n",
    "                else:\n",
    "                    for start, sub_parents in parents.items():\n",
    "                        node = PrefixNode(text = gram)\n",
    "                        for parent in sub_parents:\n",
    "                            node = parent.add_child(gram, node)\n",
    "                        _p = prefix_nodes.get(start, []) + [node]\n",
    "                        prefix_nodes[start] = _p\n",
    "                prefixes[i] = prefix_nodes\n",
    "                \n",
    "    solutions[towel] = prefixes"
   ]
  },
  {
   "cell_type": "code",
   "execution_count": 5,
   "id": "3b9fcc6f-eec8-41b2-a1cc-e1486fdfbbcb",
   "metadata": {
    "tags": []
   },
   "outputs": [
    {
     "name": "stdout",
     "output_type": "stream",
     "text": [
      "302\n"
     ]
    }
   ],
   "source": [
    "#part 1\n",
    "print(sum(1 if prefixes.get(len(towel),{}).get(0) is not None else 0\n",
    "          for towel, prefixes in solutions.items()))"
   ]
  },
  {
   "cell_type": "code",
   "execution_count": 6,
   "id": "b1305243-de2f-4389-8362-8148a81e37ca",
   "metadata": {
    "tags": []
   },
   "outputs": [
    {
     "data": {
      "text/plain": [
       "771745460576799"
      ]
     },
     "execution_count": 6,
     "metadata": {},
     "output_type": "execute_result"
    }
   ],
   "source": [
    "#part 2\n",
    "total = 0\n",
    "for towel, prefixes in solutions.items():\n",
    "    for node in prefixes.get(len(towel), {}).get(0, []):\n",
    "        total += node.n_root_parents\n",
    "total"
   ]
  }
 ],
 "metadata": {
  "kernelspec": {
   "display_name": "Python 3 (ipykernel)",
   "language": "python",
   "name": "python3"
  },
  "language_info": {
   "codemirror_mode": {
    "name": "ipython",
    "version": 3
   },
   "file_extension": ".py",
   "mimetype": "text/x-python",
   "name": "python",
   "nbconvert_exporter": "python",
   "pygments_lexer": "ipython3",
   "version": "3.11.5"
  }
 },
 "nbformat": 4,
 "nbformat_minor": 5
}
