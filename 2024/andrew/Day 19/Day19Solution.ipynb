{
 "cells": [
  {
   "cell_type": "code",
   "execution_count": 1,
   "id": "97889e37-a7c9-41b1-9b09-a435499b2756",
   "metadata": {
    "tags": []
   },
   "outputs": [],
   "source": [
    "with open('input.txt', 'r') as fl:\n",
    "    patterns = [s.strip() for s in next(fl).split(',')]\n",
    "    next(fl)\n",
    "    towels = [ln.strip() for ln in fl]"
   ]
  },
  {
   "cell_type": "code",
   "execution_count": 2,
   "id": "980e4747-3676-4013-8a8d-dc102514fa6b",
   "metadata": {
    "tags": []
   },
   "outputs": [
    {
     "name": "stdout",
     "output_type": "stream",
     "text": [
      "patterns: 447 towels: 400\n"
     ]
    }
   ],
   "source": [
    "print('patterns:',len(patterns),'towels:', len(towels))"
   ]
  },
  {
   "cell_type": "code",
   "execution_count": 3,
   "id": "a8e4af9d-287a-4a91-a594-e585d6b8a430",
   "metadata": {
    "tags": []
   },
   "outputs": [],
   "source": [
    "class SuffixTreeNode:\n",
    "    def __init__(self, label = \"\", start = -1, end = -1):\n",
    "        self.children = {}  # Edges to children nodes\n",
    "        self.label = label\n",
    "        self.start = start\n",
    "        self.end = end\n",
    "        self.parents = []\n",
    "        self.n_root_parents = 0\n"
   ]
  },
  {
   "cell_type": "code",
   "execution_count": 4,
   "id": "534e3d3c-2a21-4909-889a-d7a6f27a684c",
   "metadata": {
    "tags": []
   },
   "outputs": [],
   "source": [
    "class SuffixTree:\n",
    "    def __init__(self, text, patterns):\n",
    "        self.text = text  # Append a unique terminator to the string\n",
    "        self.root = SuffixTreeNode('root', end=len(text))\n",
    "        self.root.n_root_parents = 1\n",
    "        # the vocab that's in the string at all\n",
    "        self.patterns = [p for p in patterns if p in text] \n",
    "        self.node_cache = {len(text):[self.root]}        \n",
    "        self.build_tree()\n",
    "\n",
    "    def build_tree(self):\n",
    "        \"\"\"\n",
    "        Naive suffix tree construction: Insert all suffixes one by one.\n",
    "        \"\"\"\n",
    "        for i in range(len(self.text)-1, -1, -1):\n",
    "            self._insert_suffix(self.text[i:], i)\n",
    "            \n",
    "    def _insert_suffix(self, suffix, start_index):\n",
    "        \"\"\"\n",
    "        Inserts a suffix into the suffix tree.\n",
    "        \"\"\"\n",
    "        # try to figure out if my vocab fit into the current suffix\n",
    "        for gram in self.patterns:\n",
    "            n = len(gram)\n",
    "            # does the current point start with this gram?\n",
    "            if suffix.startswith(gram):\n",
    "                # does the end of this gram bump something in the tree already?\n",
    "                new_node = SuffixTreeNode(label = gram, start=start_index, end=start_index+n)\n",
    "                #if len(self.node_cache) <20:\n",
    "                #    print(start_index,n,len(self.text),gram,self.text, suffix)\n",
    "                next_nodes = self.node_cache.get(start_index+n)\n",
    "                if next_nodes:\n",
    "                    for next_node in next_nodes:\n",
    "                        new_node.n_root_parents += next_node.n_root_parents\n",
    "                        next_node.children[gram] = new_node\n",
    "                        new_node.parents.append(next_node)\n",
    "                        new_node.end = max(new_node.end, next_node.end)\n",
    "                node_cache = self.node_cache.get(start_index)\n",
    "                self.node_cache[start_index] = node_cache + [new_node] if node_cache else [new_node]\n",
    "    \n"
   ]
  },
  {
   "cell_type": "code",
   "execution_count": 5,
   "id": "8599b389-c393-4a97-8014-08ab6d57d3e6",
   "metadata": {
    "tags": []
   },
   "outputs": [
    {
     "name": "stdout",
     "output_type": "stream",
     "text": [
      "302\n"
     ]
    }
   ],
   "source": [
    "# part 1\n",
    "total = 0 \n",
    "for towel in towels:\n",
    "    test = SuffixTree(towel, patterns)\n",
    "    if 0 in test.node_cache and sum(node.n_root_parents for node in test.node_cache[0]) > 0:\n",
    "        total += 1\n",
    "print(total)"
   ]
  },
  {
   "cell_type": "code",
   "execution_count": 6,
   "id": "c08d58e1-eb3f-49d7-a044-1589a6a92648",
   "metadata": {
    "tags": []
   },
   "outputs": [
    {
     "data": {
      "text/plain": [
       "771745460576799"
      ]
     },
     "execution_count": 6,
     "metadata": {},
     "output_type": "execute_result"
    }
   ],
   "source": [
    "# part 2\n",
    "total = 0\n",
    "for towel in towels:\n",
    "    test = SuffixTree(towel, patterns)\n",
    "    total += sum(node.n_root_parents for node in test.node_cache[0]) if 0 in test.node_cache else 0\n",
    "total"
   ]
  }
 ],
 "metadata": {
  "kernelspec": {
   "display_name": "Python 3 (ipykernel)",
   "language": "python",
   "name": "python3"
  },
  "language_info": {
   "codemirror_mode": {
    "name": "ipython",
    "version": 3
   },
   "file_extension": ".py",
   "mimetype": "text/x-python",
   "name": "python",
   "nbconvert_exporter": "python",
   "pygments_lexer": "ipython3",
   "version": "3.11.5"
  }
 },
 "nbformat": 4,
 "nbformat_minor": 5
}
