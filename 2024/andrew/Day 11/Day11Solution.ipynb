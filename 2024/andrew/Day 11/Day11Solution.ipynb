{
 "cells": [
  {
   "cell_type": "code",
   "execution_count": 1,
   "id": "45955eb1-7c65-4556-af0b-8a5635cb5e2a",
   "metadata": {},
   "outputs": [],
   "source": [
    "# test\n",
    "#input = \"125 17\"\n",
    "# puzzle\n",
    "input = \"70949 6183 4 3825336 613971 0 15 182\"\n",
    "input = [int(i) for i in input.split(\" \")]"
   ]
  },
  {
   "cell_type": "code",
   "execution_count": 3,
   "id": "6609a083-2ccf-42b4-b39b-7cdbc216b35d",
   "metadata": {},
   "outputs": [],
   "source": [
    "# i think we just need to run this shit recursively maybe with caching. \n",
    "# you'll eventualy get down to a single digit (there are only 2) then it's determined. \n",
    "from functools import cache\n",
    "\n",
    "@cache\n",
    "def apply_rules_count(number, steps=25):\n",
    "    n_digits = len(str(number))\n",
    "    if number == 0:\n",
    "        new_list = [1]\n",
    "    elif n_digits % 2 == 0:\n",
    "        s = str(number)\n",
    "        new_list = int(s[:(n_digits//2)]), int(s[(n_digits//2):])\n",
    "    else:\n",
    "        new_list = [number * 2024]\n",
    "    if steps == 1:\n",
    "        return len(new_list)\n",
    "    else:\n",
    "        count = 0\n",
    "        for n in new_list:\n",
    "            count += apply_rules_count(n, steps=steps-1)\n",
    "        return count"
   ]
  },
  {
   "cell_type": "code",
   "execution_count": 5,
   "id": "05dd7f74-a57c-4352-b197-f0cec878cb53",
   "metadata": {},
   "outputs": [
    {
     "name": "stdout",
     "output_type": "stream",
     "text": [
      "185205\n",
      "CPU times: user 7.61 ms, sys: 481 μs, total: 8.09 ms\n",
      "Wall time: 7.87 ms\n"
     ]
    }
   ],
   "source": [
    "%%time\n",
    "print(sum(apply_rules_count(n, 25) for n in input))"
   ]
  },
  {
   "cell_type": "code",
   "execution_count": 7,
   "id": "925c2e2b-a410-46be-a4e1-cd97f07fd19f",
   "metadata": {},
   "outputs": [
    {
     "name": "stdout",
     "output_type": "stream",
     "text": [
      "221280540398419\n",
      "CPU times: user 118 ms, sys: 17.7 ms, total: 136 ms\n",
      "Wall time: 153 ms\n"
     ]
    }
   ],
   "source": [
    "%%time\n",
    "print(sum(apply_rules_count(n, 75) for n in input))"
   ]
  },
  {
   "cell_type": "code",
   "execution_count": 9,
   "id": "e92d80d5-5838-4c69-85b1-075611150987",
   "metadata": {},
   "outputs": [
    {
     "data": {
      "text/plain": [
       "CacheInfo(hits=72230, misses=134904, maxsize=None, currsize=134904)"
      ]
     },
     "execution_count": 9,
     "metadata": {},
     "output_type": "execute_result"
    }
   ],
   "source": [
    "apply_rules_count.cache_info()"
   ]
  }
 ],
 "metadata": {
  "kernelspec": {
   "display_name": "Python 3 (ipykernel)",
   "language": "python",
   "name": "python3"
  },
  "language_info": {
   "codemirror_mode": {
    "name": "ipython",
    "version": 3
   },
   "file_extension": ".py",
   "mimetype": "text/x-python",
   "name": "python",
   "nbconvert_exporter": "python",
   "pygments_lexer": "ipython3",
   "version": "3.12.4"
  }
 },
 "nbformat": 4,
 "nbformat_minor": 5
}
