{
 "cells": [
  {
   "cell_type": "code",
   "execution_count": 59,
   "id": "c329ae72-770a-4e05-91fe-98b7e4d34b49",
   "metadata": {},
   "outputs": [],
   "source": [
    "from itertools import product"
   ]
  },
  {
   "cell_type": "code",
   "execution_count": 103,
   "id": "131cbcc6-ff83-482e-8d7c-f63036a3b709",
   "metadata": {},
   "outputs": [],
   "source": [
    "grid = []\n",
    "with open('input.txt', 'r') as fl:\n",
    "    for ln in fl:\n",
    "        grid.append(ln.strip())\n",
    "# dimensions\n",
    "n,m = len(grid), len(grid[0])\n",
    "# directions\n",
    "dirs = {\n",
    "    'N':(-1,0),\n",
    "    'S':(1,0),\n",
    "    'E':(0,1),\n",
    "    'W':(0,-1),\n",
    "    'NE':(-1,1),\n",
    "    'NW':(-1,-1),\n",
    "    'SE':(1,1),\n",
    "    'SW':(1,-1)\n",
    "}\n",
    "seq = ('X','M','A','S')"
   ]
  },
  {
   "cell_type": "code",
   "execution_count": 105,
   "id": "e341f81f-a771-4a6a-8c22-e353510196b6",
   "metadata": {},
   "outputs": [],
   "source": [
    "def search_position(i,j):\n",
    "    total = 0\n",
    "    # are we on an X? \n",
    "    if grid[i][j] == seq[0]:\n",
    "        # search in each direction\n",
    "        for d in dirs.values():\n",
    "            # step out 3 times\n",
    "            for k in range(1, len(seq)):\n",
    "                ii, jj = i + d[0]*k, j + d[1]*k\n",
    "                # dont go over bounds\n",
    "                if 0 <= ii < n and 0 <= jj < m:\n",
    "                    # no match, move to new direction\n",
    "                    if grid[ii][jj] != seq[k]:\n",
    "                        break\n",
    "                    elif k == (len(seq)-1):\n",
    "                        # match and last one, add it!\n",
    "                        total += 1\n",
    "    return total"
   ]
  },
  {
   "cell_type": "code",
   "execution_count": 107,
   "id": "6fb2e458-e304-4412-8ba1-a15972d05098",
   "metadata": {},
   "outputs": [],
   "source": [
    "def check_x(i,j):\n",
    "    # we are on an A and not by the edge\n",
    "    if grid[i][j] == 'A' and 0 < i < n-1 and 0 < j < m-1:\n",
    "        if grid[i-1][j-1] == 'M' and grid[i+1][j-1] == 'M' and\\\n",
    "            grid[i-1][j+1] == 'S' and grid[i+1][j+1] == 'S':\n",
    "            return 1\n",
    "        elif grid[i-1][j-1] == 'S' and grid[i+1][j-1] == 'S' and\\\n",
    "            grid[i-1][j+1] == 'M' and grid[i+1][j+1] == 'M':\n",
    "            return 1\n",
    "        elif grid[i-1][j-1] == 'M' and grid[i+1][j-1] == 'S' and\\\n",
    "            grid[i-1][j+1] == 'M' and grid[i+1][j+1] == 'S':\n",
    "            return 1\n",
    "        elif grid[i-1][j-1] == 'S' and grid[i+1][j-1] == 'M' and\\\n",
    "            grid[i-1][j+1] == 'S' and grid[i+1][j+1] == 'M':\n",
    "            return 1\n",
    "    return 0"
   ]
  },
  {
   "cell_type": "code",
   "execution_count": 109,
   "id": "cac21d1c-23c0-4af6-a62a-10b50d5417fb",
   "metadata": {},
   "outputs": [
    {
     "name": "stdout",
     "output_type": "stream",
     "text": [
      "2524\n"
     ]
    }
   ],
   "source": [
    "total = 0\n",
    "for i, j in product(range(n),range(m)):\n",
    "    total += search_position(i,j)\n",
    "print(total)"
   ]
  },
  {
   "cell_type": "code",
   "execution_count": 111,
   "id": "11964f04-ff46-4cc1-b31b-c21c9290a089",
   "metadata": {},
   "outputs": [
    {
     "name": "stdout",
     "output_type": "stream",
     "text": [
      "1873\n"
     ]
    }
   ],
   "source": [
    "total = 0\n",
    "for i, j in product(range(n),range(m)):\n",
    "    total += check_x(i,j)\n",
    "print(total)"
   ]
  }
 ],
 "metadata": {
  "kernelspec": {
   "display_name": "Python 3 (ipykernel)",
   "language": "python",
   "name": "python3"
  },
  "language_info": {
   "codemirror_mode": {
    "name": "ipython",
    "version": 3
   },
   "file_extension": ".py",
   "mimetype": "text/x-python",
   "name": "python",
   "nbconvert_exporter": "python",
   "pygments_lexer": "ipython3",
   "version": "3.12.4"
  }
 },
 "nbformat": 4,
 "nbformat_minor": 5
}
