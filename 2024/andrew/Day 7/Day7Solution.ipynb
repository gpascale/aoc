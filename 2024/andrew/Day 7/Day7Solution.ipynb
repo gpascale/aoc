{
 "cells": [
  {
   "cell_type": "code",
   "execution_count": 1,
   "id": "c6d1c88f-c6c8-4e62-a98d-e0be616e3f37",
   "metadata": {},
   "outputs": [],
   "source": [
    "puzzles = []\n",
    "with open('input.txt','r') as fl:\n",
    "    for ln in fl:\n",
    "        target, sequence = ln.strip().split(':')\n",
    "        sequence = tuple(int(n) for n in sequence.strip().split(' '))\n",
    "        target = int(target)\n",
    "        puzzles.append((target, sequence))\n",
    "    "
   ]
  },
  {
   "cell_type": "code",
   "execution_count": 2,
   "id": "f6a2ca98-27e6-4297-a052-3f1ba98a8670",
   "metadata": {},
   "outputs": [],
   "source": [
    "from itertools import product\n",
    "def brute_force(target, sequence, cat=False):\n",
    "    n_ops = len(sequence) - 1\n",
    "    operators = 'AM'\n",
    "    if cat:\n",
    "        operators += 'C'\n",
    "    ops_list = product(operators, repeat=n_ops)\n",
    "    for ops in ops_list:\n",
    "        result = sequence[0]\n",
    "        for i, op in enumerate(ops):\n",
    "            if op == 'A':\n",
    "                result += sequence[i+1]\n",
    "            elif op == 'M':\n",
    "                result *= sequence[i+1]\n",
    "            elif op == 'C':\n",
    "                result = int(str(result) + str(sequence[i+1]))\n",
    "        if result == target:\n",
    "            return True\n",
    "    return False"
   ]
  },
  {
   "cell_type": "code",
   "execution_count": 3,
   "id": "8e50bb0f-7dea-4a11-8f33-70977d2ff67a",
   "metadata": {},
   "outputs": [
    {
     "name": "stdout",
     "output_type": "stream",
     "text": [
      "1038838357795\n"
     ]
    }
   ],
   "source": [
    "# test brute force\n",
    "result = 0\n",
    "for target, sequence in puzzles:\n",
    "    if brute_force(target, sequence, cat=False):\n",
    "        result += target\n",
    "print(result)"
   ]
  },
  {
   "cell_type": "code",
   "execution_count": 4,
   "id": "e4a73f80-6541-40f4-91b5-e0bb1db40ebb",
   "metadata": {},
   "outputs": [
    {
     "name": "stdout",
     "output_type": "stream",
     "text": [
      "254136560217241\n"
     ]
    }
   ],
   "source": [
    "# test brute force ... ok this worked well enough. I guess no math needed ... \n",
    "result = 0\n",
    "for target, sequence in puzzles:\n",
    "    if brute_force(target, sequence, cat=True):\n",
    "        result += target\n",
    "print(result)"
   ]
  }
 ],
 "metadata": {
  "kernelspec": {
   "display_name": "Python 3 (ipykernel)",
   "language": "python",
   "name": "python3"
  },
  "language_info": {
   "codemirror_mode": {
    "name": "ipython",
    "version": 3
   },
   "file_extension": ".py",
   "mimetype": "text/x-python",
   "name": "python",
   "nbconvert_exporter": "python",
   "pygments_lexer": "ipython3",
   "version": "3.12.4"
  }
 },
 "nbformat": 4,
 "nbformat_minor": 5
}
