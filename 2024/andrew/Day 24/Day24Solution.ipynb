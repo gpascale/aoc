{
 "cells": [
  {
   "cell_type": "code",
   "execution_count": 1,
   "id": "952f5e00-f172-4e8f-b6f5-f99f4c508c63",
   "metadata": {
    "tags": []
   },
   "outputs": [],
   "source": [
    "verbose=False\n",
    "\n",
    "AND = lambda x1, x2: x1 and x2\n",
    "OR = lambda x1, x2: x1 or x2\n",
    "XOR = lambda x1, x2: 1 if x1 != x2 else 0\n",
    "pad_level = lambda l: \"0\"*(2-len(str(l))) + str(l)\n",
    "\n",
    "class Input:\n",
    "    def __init__(self, v, name=\"\"):\n",
    "        self.v = v\n",
    "        self.name=name\n",
    "        self.children = []\n",
    "        \n",
    "    def calc(self, to_kids = False):\n",
    "        if to_kids:\n",
    "            for child in self.children:\n",
    "                child.set_value(self.v)        \n",
    "        return self.v\n",
    "\n",
    "class Gate:\n",
    "    def __init__(self, p1, p2, op, name=\"\"):\n",
    "        # a class with both parents *linked* and\n",
    "        # an operation\n",
    "        self.name = name\n",
    "        self.p1 = p1\n",
    "        self.p2 = p2\n",
    "        self.op_name = op\n",
    "        if op == 'AND':\n",
    "            self.op = AND\n",
    "        elif op == 'OR':\n",
    "            self.op = OR\n",
    "        elif op == 'XOR':\n",
    "            self.op = XOR\n",
    "        \n",
    "        # current input values\n",
    "        self.v1 = None\n",
    "        self.v2 = None\n",
    "        \n",
    "        # we want to know the children to pass down also\n",
    "        self.children = []\n",
    "        \n",
    "        # make sure the other gates know about their kids\n",
    "        self.p1.children.append(self)\n",
    "        self.p2.children.append(self)   \n",
    "        \n",
    "    def calc(self, to_kids = False):\n",
    "        if self.v1 is not None and self.v2 is not None:\n",
    "            out = self.op(self.v1, self.v2)\n",
    "        else:\n",
    "            raise ValueError(\"need 2 values\")\n",
    "        if to_kids:\n",
    "            for child in self.children:\n",
    "                child.set_value(out)\n",
    "        return out\n",
    "            \n",
    "    def set_value(self, v):\n",
    "        if self.v1 is None:\n",
    "            self.v1 = v\n",
    "        elif self.v2 is None:\n",
    "            self.v2 = v\n",
    "        else:\n",
    "            raise ValueError(\"both values set\")\n",
    "            \n",
    "    def add_child(self, gate):\n",
    "        self.children.append(gate)\n",
    "        \n",
    "    def is_ready(self):\n",
    "        return True if self.v1 is not None and self.v2 is not None else False\n",
    "    \n",
    "    def __repr__(self):\n",
    "        return f\"Gate {self.name}: {self.p1.name} {self.op_name} {self.p2.name}\"\n",
    "            "
   ]
  },
  {
   "cell_type": "code",
   "execution_count": 2,
   "id": "c41db3dc-1025-4737-a368-9359ffc82d66",
   "metadata": {
    "tags": []
   },
   "outputs": [],
   "source": [
    "gate_confs = {}\n",
    "inputs = {}\n",
    "with open('input.txt', 'r') as fl:\n",
    "    for ln in fl:\n",
    "        if ':' in ln:\n",
    "            name, val = ln.split(':')\n",
    "            inputs[name] = Input(int(val.strip()), name=name)\n",
    "        elif '->' in ln:\n",
    "            p1, op, p2, _a, name = ln.strip().split(' ')\n",
    "            gate_confs[name] = {'p1':p1, 'p2':p2, 'op':op}"
   ]
  },
  {
   "cell_type": "code",
   "execution_count": 3,
   "id": "70344eb5-c822-4c9d-892e-f166485b3245",
   "metadata": {
    "tags": []
   },
   "outputs": [],
   "source": [
    "def init_gates(gate_confs, inputs, swaps = {}):\n",
    "    gates = {}\n",
    "    to_init = set(gate_confs.keys())\n",
    "    while len(to_init) > 0:\n",
    "        for name in to_init:\n",
    "            confs = gate_confs[name]\n",
    "            if name in swaps:\n",
    "                name = swaps[name]           \n",
    "            p1, p2, op = confs['p1'], confs['p2'], confs['op']\n",
    "            if (p1 in gates or p1 in inputs) and (p2 in gates or p2 in inputs):\n",
    "                p1 = gates[p1] if p1 in gates else inputs[p1]\n",
    "                p2 = gates[p2] if p2 in gates else inputs[p2]            \n",
    "                gates[name] = Gate(p1, p2, op, name)\n",
    "\n",
    "        to_init = set(gate_confs.keys()) - set(gates.keys()) - set(inputs.keys())\n",
    "        to_init = set(list(map(lambda gt: swaps.get(gt,gt), to_init)))\n",
    "    return gates\n",
    "# got this via slewthing below some level at a time. \n",
    "gate_swaps = {'z21':'shh', 'shh':'z21',\n",
    "              'vgs':'dtk', 'dtk':'vgs',\n",
    "              'z33':'dqr', 'dqr':'z33',\n",
    "              'z39':'pfw', 'pfw':'z39'}\n",
    "gates = init_gates(gate_confs, inputs, gate_swaps)"
   ]
  },
  {
   "cell_type": "code",
   "execution_count": 4,
   "id": "99fec710-1493-403c-ade5-93ad435efa7b",
   "metadata": {
    "tags": []
   },
   "outputs": [],
   "source": [
    "for name, inp in inputs.items():\n",
    "    out = inp.calc(to_kids=True)\n",
    "    if verbose:\n",
    "        print(name, out)\n",
    "\n",
    "to_eval = set(gates.keys())\n",
    "\n",
    "while len(to_eval) > 0:\n",
    "    ran = set()\n",
    "    for name in to_eval:\n",
    "        gate = gates[name]\n",
    "        if not gate.is_ready():\n",
    "            if verbose:\n",
    "                print(name, 'not ready.', gate.v1, gate.v2)\n",
    "        else:\n",
    "            out = gate.calc(to_kids = True)\n",
    "            ran.add(name)\n",
    "            if verbose:\n",
    "                print(name, 'passing', out, 'to children')\n",
    "    to_eval = to_eval - ran\n",
    "    "
   ]
  },
  {
   "cell_type": "code",
   "execution_count": 5,
   "id": "7e3c4b62-991a-47cc-968b-2e64548dff01",
   "metadata": {
    "tags": []
   },
   "outputs": [],
   "source": [
    "result = {}\n",
    "addx = {}\n",
    "addy = {}\n",
    "for name, gate in gates.items():\n",
    "    if name[0]=='z':\n",
    "        i = int(name[1:])\n",
    "        result[i] = gate.calc()\n",
    "    \n",
    "for name, inp in inputs.items():\n",
    "    i = int(name[1:])    \n",
    "    if name[0] == 'x':\n",
    "        addx[i] = inp.v\n",
    "    elif name[0] == 'y':\n",
    "        addy[i] = inp.v\n",
    "n = max(result) + 1"
   ]
  },
  {
   "cell_type": "code",
   "execution_count": 6,
   "id": "cd8fd001-e5d4-49f9-88a0-12c4f92e5285",
   "metadata": {
    "tags": []
   },
   "outputs": [],
   "source": [
    "z = int(''.join(reversed([str(result[i]) for i in range(len(result))])), base=2)\n",
    "x = int(''.join(reversed([str(addx[i]) for i in range(len(addx))])), base=2)\n",
    "y = int(''.join(reversed([str(addy[i]) for i in range(len(addy))])), base=2)"
   ]
  },
  {
   "cell_type": "code",
   "execution_count": 7,
   "id": "9114ddf5-1daa-41f2-be01-6c1d56a4efa0",
   "metadata": {
    "tags": []
   },
   "outputs": [
    {
     "data": {
      "text/plain": [
       "(42325053295186, 22044444944409, 20280608350777)"
      ]
     },
     "execution_count": 7,
     "metadata": {},
     "output_type": "execute_result"
    }
   ],
   "source": [
    "z, x, y"
   ]
  },
  {
   "cell_type": "code",
   "execution_count": 8,
   "id": "79557a6d-07b2-4b6f-a65b-2224e474774d",
   "metadata": {
    "tags": []
   },
   "outputs": [
    {
     "data": {
      "text/plain": [
       "'dqr,dtk,pfw,shh,vgs,z21,z33,z39'"
      ]
     },
     "execution_count": 8,
     "metadata": {},
     "output_type": "execute_result"
    }
   ],
   "source": [
    "','.join(sorted(set(list(gate_swaps.values()) + list(gate_swaps.keys()))))"
   ]
  },
  {
   "cell_type": "code",
   "execution_count": null,
   "id": "74e7bd2a-f578-4e87-9d71-e05890d56c28",
   "metadata": {},
   "outputs": [],
   "source": []
  },
  {
   "cell_type": "code",
   "execution_count": null,
   "id": "ffbc66c8-e060-4eda-b541-dd59d76ba464",
   "metadata": {},
   "outputs": [],
   "source": []
  },
  {
   "cell_type": "code",
   "execution_count": null,
   "id": "e013c935-d102-41fe-9e43-6879a92be01b",
   "metadata": {},
   "outputs": [],
   "source": []
  },
  {
   "cell_type": "code",
   "execution_count": null,
   "id": "7ab8c67b-84db-46d1-a5df-7b2616312d96",
   "metadata": {},
   "outputs": [],
   "source": []
  },
  {
   "cell_type": "code",
   "execution_count": null,
   "id": "4da497d4-5924-4000-bf3c-f2b024877617",
   "metadata": {},
   "outputs": [],
   "source": []
  },
  {
   "cell_type": "code",
   "execution_count": 9,
   "id": "52d2039b-dbf0-475f-a3e9-a5554e0ee44e",
   "metadata": {},
   "outputs": [],
   "source": [
    "# slewthing"
   ]
  },
  {
   "cell_type": "code",
   "execution_count": 10,
   "id": "860f104c-521f-4c6b-8172-091d60f38527",
   "metadata": {
    "tags": []
   },
   "outputs": [],
   "source": [
    "gate_swaps = {'z21':'shh', 'shh':'z21',\n",
    "              'vgs':'dtk', 'dtk':'vgs',\n",
    "              'z33':'dqr', 'dqr':'z33',\n",
    "              'z39':'pfw', 'pfw':'z39'}\n",
    "gates = init_gates(gate_confs, inputs, gate_swaps)"
   ]
  },
  {
   "cell_type": "code",
   "execution_count": 11,
   "id": "c5ed46f7-8d4a-4d9d-95d3-709e0feaa7eb",
   "metadata": {
    "tags": []
   },
   "outputs": [],
   "source": [
    "bad_gates = []\n",
    "\n",
    "# find the first half adders\n",
    "algo_gates = {}\n",
    "for nm in inputs:\n",
    "    if nm[0]=='y':\n",
    "        level = int(nm[1:])\n",
    "        if level == 0:\n",
    "            op_type = 'fulladd'\n",
    "        else:\n",
    "            op_type = 'halfadd'\n",
    "        level_inputs = (\"y\"+pad_level(level), \"x\"+pad_level(level))\n",
    "        for gate in inputs[nm].children:\n",
    "            if gate.p1.name in level_inputs and gate.p2.name in level_inputs:\n",
    "                if gate.op_name == 'XOR':\n",
    "                    if level != 0 and gate.name == 'z'+pad_level(level):\n",
    "                        bad_gates.append(f'{str(level)}_{op_type}_res')\n",
    "                    algo_gates[gate] = f'{str(level)}_{op_type}_res'\n",
    "                elif gate.op_name == 'AND':\n",
    "                    if gate.name == 'z'+pad_level(level):\n",
    "                        bad_gates.append(f'{str(level)}_{op_type}_rem')                    \n",
    "                    algo_gates[gate] = f'{str(level)}_{op_type}_rem'\n",
    "                "
   ]
  },
  {
   "cell_type": "code",
   "execution_count": 12,
   "id": "5f76e88b-155b-4fd3-87b8-6fadf8063bda",
   "metadata": {
    "tags": []
   },
   "outputs": [
    {
     "name": "stdout",
     "output_type": "stream",
     "text": [
      "Gate ndb: mcg AND vcn 1_halfadd2_rem\n",
      "Gate ndb: mcg AND vcn 1_halfadd2_rem\n",
      "Gate z01: mcg XOR vcn 1_fulladd_res\n"
     ]
    }
   ],
   "source": [
    "# run this over and over until i cant then figure out how it's\n",
    "# broken and figure out the next swap\n",
    "inv_algo_gates = {v:k for k,v in algo_gates.items()}       \n",
    "for gate, algo_step in list(algo_gates.items()):\n",
    "    level, op_type, out_type = algo_step.split('_')\n",
    "    if op_type == 'halfadd' and out_type == 'res':\n",
    "        #print(algo_step, gate, gate.children)\n",
    "        for child in gate.children:\n",
    "            if child.op_name == 'XOR'and child not in algo_gates:\n",
    "                prev_remainder = '_'.join((str(int(level)-1), 'fulladd', 'rem'))\n",
    "                if prev_remainder in inv_algo_gates and \\\n",
    "                    inv_algo_gates[prev_remainder] in (child.p1, child.p2) and \\\n",
    "                    child.name == 'z' + pad_level(level):\n",
    "                    algo_gates[child] = f'{int(level)}_fulladd_res'\n",
    "                    print(child, f'{int(level)}_fulladd_res' )\n",
    "                    \n",
    "    if op_type == 'fulladd' and out_type == 'rem':\n",
    "        #print(algo_step, gate, gate.children)\n",
    "        for child in gate.children:\n",
    "            next_res = f'{int(level)+1}_halfadd_res'\n",
    "            if child.op_name == 'AND' and child not in algo_gates:\n",
    "                if ((child.p1 in algo_gates and algo_gates[child.p1] == next_res) or \\\n",
    "                   (child.p2 in algo_gates and algo_gates[child.p2] == next_res)) and \\\n",
    "                   child.name[0] != 'z':\n",
    "                    algo_gates[child] = f'{int(level)+1}_halfadd2_rem'\n",
    "                    print(child, f'{int(level)+1}_halfadd2_rem')\n",
    "                    \n",
    "    if op_type == 'halfadd2' and out_type == 'rem':\n",
    "        #print(algo_step, gate, gate.children)\n",
    "        for child in gate.children:\n",
    "            half_rem = f'{int(level)}_halfadd_rem'\n",
    "            if child.op_name == 'OR'and child not in algo_gates:\n",
    "                if ((child.p1 in algo_gates and algo_gates[child.p1] == half_rem) or \\\n",
    "                   (child.p2 in algo_gates and algo_gates[child.p2] == half_rem)) and \\\n",
    "                   child.name[0] != 'z':\n",
    "                    algo_gates[child] = f'{int(level)}_fulladd_rem' \n",
    "                    print(child, f'{int(level)}_fulladd_rem' )"
   ]
  },
  {
   "cell_type": "code",
   "execution_count": null,
   "id": "c5dbb679-fb01-461e-bf12-624fed14f590",
   "metadata": {},
   "outputs": [],
   "source": []
  },
  {
   "cell_type": "code",
   "execution_count": null,
   "id": "2604f2d6-9603-4099-8fba-601d192334cd",
   "metadata": {},
   "outputs": [],
   "source": []
  }
 ],
 "metadata": {
  "kernelspec": {
   "display_name": "Python 3 (ipykernel)",
   "language": "python",
   "name": "python3"
  },
  "language_info": {
   "codemirror_mode": {
    "name": "ipython",
    "version": 3
   },
   "file_extension": ".py",
   "mimetype": "text/x-python",
   "name": "python",
   "nbconvert_exporter": "python",
   "pygments_lexer": "ipython3",
   "version": "3.11.5"
  }
 },
 "nbformat": 4,
 "nbformat_minor": 5
}
