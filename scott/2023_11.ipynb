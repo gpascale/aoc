{
 "cells": [
  {
   "cell_type": "code",
   "execution_count": 1,
   "metadata": {},
   "outputs": [
    {
     "name": "stdout",
     "output_type": "stream",
     "text": [
      "Part 1 : 9605127\n",
      "Part 2 : 458192146944\n"
     ]
    }
   ],
   "source": [
    "import numpy as np\n",
    "text = open('2023_11.txt', 'r').read()\n",
    "\n",
    "text2 = '''...#......\n",
    ".......#..\n",
    "#.........\n",
    "..........\n",
    "......#...\n",
    ".#........\n",
    ".........#\n",
    "..........\n",
    ".......#..\n",
    "#...#.....'''\n",
    "\n",
    "def pretty_print(data2D):\n",
    "    for data in data2D:\n",
    "        print(\"\".join(data))\n",
    "\n",
    "data2D = [list(row) for row in text.split(\"\\n\") if row != \"\"]\n",
    "\n",
    "blankrows = []\n",
    "blankcols = []\n",
    "for rowindex in range(0, len(data2D)):\n",
    "    if '#' not in data2D[rowindex]:\n",
    "        blankrows.append(rowindex)\n",
    "for colindex in range(0, len(data2D[0])):\n",
    "    if '#' not in [row[colindex] for row in data2D]:\n",
    "        blankcols.append(colindex)\n",
    "\n",
    "pairs = []\n",
    "for rowindex in range(0, len(data2D)):\n",
    "    for colindex in range(0, len(data2D[0])):\n",
    "        if data2D[rowindex][colindex] == '#':\n",
    "            pairs.append((rowindex, colindex))\n",
    "\n",
    "pairs = [list(pair) for pair in pairs]\n",
    "#print(pairs)\n",
    "count = 1\n",
    "for xfact in [2-1, 1000000-1]:\n",
    "    for rowindex in range(0,len(blankrows)):\n",
    "        for pindex in range(0,len(pairs)):\n",
    "            if pairs[pindex][0] > blankrows[rowindex]:\n",
    "                pairs[pindex][0]+=xfact\n",
    "        for r2ind in range(rowindex+1,len(blankrows)):\n",
    "            blankrows[r2ind]+=xfact\n",
    "    # same for cols\n",
    "    for colindex in range(0,len(blankcols)):\n",
    "        for pindex in range(0,len(pairs)):\n",
    "            if pairs[pindex][1] > blankcols[colindex]:\n",
    "                pairs[pindex][1]+=xfact\n",
    "        for c2ind in range(colindex+1,len(blankcols)):\n",
    "            blankcols[c2ind]+=xfact\n",
    "    #print(pairs)\n",
    "\n",
    "    dist = 0\n",
    "\n",
    "    for p1 in pairs:\n",
    "        for p2 in pairs:\n",
    "            xdist = abs(p1[0] - p2[0])\n",
    "            ydist = abs(p1[1] - p2[1])\n",
    "            dist += xdist + ydist\n",
    "    dist /= 2\n",
    "    print('Part',count,':',int(dist))\n",
    "    count +=1\n"
   ]
  }
 ],
 "metadata": {
  "kernelspec": {
   "display_name": "Python 3",
   "language": "python",
   "name": "python3"
  },
  "language_info": {
   "codemirror_mode": {
    "name": "ipython",
    "version": 3
   },
   "file_extension": ".py",
   "mimetype": "text/x-python",
   "name": "python",
   "nbconvert_exporter": "python",
   "pygments_lexer": "ipython3",
   "version": "3.11.2"
  }
 },
 "nbformat": 4,
 "nbformat_minor": 2
}
