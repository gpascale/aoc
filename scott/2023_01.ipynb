{
 "cells": [
  {
   "cell_type": "code",
   "execution_count": 3,
   "metadata": {},
   "outputs": [
    {
     "name": "stdout",
     "output_type": "stream",
     "text": [
      "Part 1: 54388\n"
     ]
    }
   ],
   "source": [
    "text = open('2023_01.txt', 'r').read()\n",
    "lines = text.split('\\n')\n",
    "\n",
    "def extract_integer_from_line(line, reversed=False):\n",
    "    if reversed:\n",
    "        line = line[::-1]\n",
    "    if len(line) > 0:\n",
    "        ind = 0\n",
    "        while ind < len(line):\n",
    "            if line[ind].isdigit():\n",
    "                return int(line[ind:ind+1])\n",
    "            ind=ind+1\n",
    "    return 0\n",
    "\n",
    "total = 0\n",
    "for line in lines:\n",
    "    first_val = extract_integer_from_line(line)\n",
    "    last_val = extract_integer_from_line(line, reversed=True)\n",
    "    #print(line, first_val, last_val)\n",
    "    total+=10*first_val+last_val\n",
    "    \n",
    "print('Part 1:',total)\n"
   ]
  },
  {
   "cell_type": "code",
   "execution_count": 4,
   "metadata": {},
   "outputs": [
    {
     "name": "stdout",
     "output_type": "stream",
     "text": [
      "Part 2:  53515\n"
     ]
    }
   ],
   "source": [
    "import re\n",
    "\n",
    "def first_digit(text,reversed=False):\n",
    "    tokens = ['one', '1', 'two', '2', 'three', '3', 'four', '4', 'five', '5', 'six', '6', 'seven', '7', 'eight', '8', 'nine', '9']\n",
    "    if reversed:\n",
    "        text = text[::-1]\n",
    "        # reverse each of the tokens\n",
    "        tokens = [token[::-1] for token in tokens]\n",
    "\n",
    "    # Create a regular expression pattern to match any of the tokens\n",
    "    pattern = '|'.join(map(re.escape, tokens))\n",
    "\n",
    "    # Searching for the first occurrence of any token in the text\n",
    "    match = re.search(pattern, text)\n",
    "    if match:\n",
    "        matched_token = match.group()  # The matched token\n",
    "        # Find the index of the matched token in the tokens list\n",
    "        token_index_in_list = tokens.index(matched_token)\n",
    "        return int(token_index_in_list/2)+1\n",
    "    else:\n",
    "        return 0\n",
    "\n",
    "total = 0\n",
    "for line in lines:\n",
    "    total+=10*first_digit(line)+first_digit(line, reversed=True)\n",
    "    \n",
    "print('Part 2: ',total)"
   ]
  }
 ],
 "metadata": {
  "kernelspec": {
   "display_name": "Python 3",
   "language": "python",
   "name": "python3"
  },
  "language_info": {
   "codemirror_mode": {
    "name": "ipython",
    "version": 3
   },
   "file_extension": ".py",
   "mimetype": "text/x-python",
   "name": "python",
   "nbconvert_exporter": "python",
   "pygments_lexer": "ipython3",
   "version": "3.11.2"
  }
 },
 "nbformat": 4,
 "nbformat_minor": 2
}
