{
 "cells": [
  {
   "cell_type": "code",
   "execution_count": 2,
   "metadata": {},
   "outputs": [
    {
     "name": "stdout",
     "output_type": "stream",
     "text": [
      "Part 1: 1974232246\n",
      "Part 2: 928\n"
     ]
    }
   ],
   "source": [
    "import numpy as np\n",
    "text = open('2023_09.txt', 'r').read()\n",
    "lines = text.split(\"\\n\")\n",
    "lines = [line for line in lines if line != \"\"]\n",
    "\n",
    "def pred_next(a):\n",
    "    if all(a == 0):\n",
    "        return 0\n",
    "    else:\n",
    "        return a[-1]+pred_next(np.diff(a))\n",
    "    \n",
    "total = 0\n",
    "for line in lines:\n",
    "    line = line.split(\" \")\n",
    "    line = np.array([int(num) for num in line])\n",
    "    total += pred_next(line)\n",
    "    \n",
    "print('Part 1:',total)\n",
    "\n",
    "def pred_prev(a):\n",
    "    if all(a == 0):\n",
    "        return 0\n",
    "    else:\n",
    "        return a[0]-pred_prev(np.diff(a))\n",
    "\n",
    "lefttotal = 0\n",
    "for line in lines:\n",
    "    # convert line of #'s and spaces to array of ints\n",
    "    line = line.split(\" \")\n",
    "    line = np.array([int(num) for num in line])\n",
    "    lefttotal += pred_prev(line)\n",
    "    \n",
    "print('Part 2:',lefttotal)\n",
    "\n",
    "    "
   ]
  }
 ],
 "metadata": {
  "kernelspec": {
   "display_name": "Python 3",
   "language": "python",
   "name": "python3"
  },
  "language_info": {
   "codemirror_mode": {
    "name": "ipython",
    "version": 3
   },
   "file_extension": ".py",
   "mimetype": "text/x-python",
   "name": "python",
   "nbconvert_exporter": "python",
   "pygments_lexer": "ipython3",
   "version": "3.11.2"
  }
 },
 "nbformat": 4,
 "nbformat_minor": 2
}
