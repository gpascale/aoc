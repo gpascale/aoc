{
 "cells": [
  {
   "cell_type": "code",
   "execution_count": 75,
   "id": "f70a71c4-0364-4a88-8cef-9e58cb361cdc",
   "metadata": {
    "tags": []
   },
   "outputs": [],
   "source": [
    "import numpy as np"
   ]
  },
  {
   "cell_type": "code",
   "execution_count": 128,
   "id": "8f1fff07-4c0f-4a85-9d3f-e58096c4a1f4",
   "metadata": {
    "tags": []
   },
   "outputs": [],
   "source": [
    "# get the puzzles\n",
    "with open('input.txt') as fl:\n",
    "    lns = fl.readlines()"
   ]
  },
  {
   "cell_type": "code",
   "execution_count": 129,
   "id": "6bb0cdb3-acba-4258-93bf-c4c7810d1893",
   "metadata": {
    "tags": []
   },
   "outputs": [],
   "source": [
    "puzzles = []\n",
    "puzzle = []\n",
    "for ln in lns:\n",
    "    ln = ln.strip()\n",
    "    if len(ln) == 0:\n",
    "        puzzles.append(np.asarray(puzzle))\n",
    "        puzzle = []\n",
    "    else:\n",
    "        puzzle.append([1 if s == '#' else 0 for s in ln])\n",
    "puzzles.append(np.asarray(puzzle))"
   ]
  },
  {
   "cell_type": "code",
   "execution_count": 130,
   "id": "e0259891-fa6f-4ffc-b640-5f8b1f2eef61",
   "metadata": {
    "tags": []
   },
   "outputs": [],
   "source": [
    "def check_1d_sym(a, diff = 0):\n",
    "    res = []\n",
    "    for i in range(0, len(a)-1):\n",
    "        err = 0\n",
    "        for j in range(0, len(a)):\n",
    "            l, r = i-j, i+j+1\n",
    "            if (l < 0 or r >= len(a)):\n",
    "                if err == diff:\n",
    "                    res.append(i)\n",
    "            elif a[l] != a[r]:\n",
    "                err += abs(a[l] - a[r])\n",
    "                if err > diff:\n",
    "                    break\n",
    "    return list(set(res))"
   ]
  },
  {
   "cell_type": "code",
   "execution_count": 131,
   "id": "7010d228-d16c-4330-9fd6-282df0f51148",
   "metadata": {
    "tags": []
   },
   "outputs": [],
   "source": [
    "def check_2d_sym(mat, i, diff = 0):\n",
    "    err = 0\n",
    "    for j in range(0, mat.shape[1]):\n",
    "        l, r = i-j, i+j+1\n",
    "        if (l < 0 or r >= mat.shape[1]):\n",
    "            if err == diff:\n",
    "                return True\n",
    "        for k in range(mat.shape[0]):\n",
    "            if mat[k][l] != mat[k][r]:\n",
    "                err += abs(mat[k][l] - mat[k][r])\n",
    "                if err > 1:\n",
    "                    return False\n",
    "    return True"
   ]
  },
  {
   "cell_type": "code",
   "execution_count": 132,
   "id": "c4aff3ae-e571-4914-9091-2555c7cc1119",
   "metadata": {
    "tags": []
   },
   "outputs": [],
   "source": [
    "# solve the puzzle just change diff to 0 for part 1. \n",
    "def solve_puzzle(puzzle, diff=1):\n",
    "    row_sum, col_sum = puzzle.sum(axis=1), puzzle.sum(axis=0)\n",
    "    # find potential syms\n",
    "    row_syms, col_syms = check_1d_sym(row_sum, diff), check_1d_sym(col_sum, diff)\n",
    "    # new, we just need to check the full columns\n",
    "    if len(row_syms) > 0:\n",
    "        for ind in row_syms:\n",
    "            if check_2d_sym(puzzle.T, ind, diff):\n",
    "                return ('r', ind)\n",
    "    if len(col_syms) > 0:\n",
    "        for ind in col_syms:\n",
    "            if check_2d_sym(puzzle, ind, diff):\n",
    "                return ('c', ind)\n",
    "    return False"
   ]
  },
  {
   "cell_type": "code",
   "execution_count": 133,
   "id": "c278c86b-4067-4306-95c7-8f79ce1e2328",
   "metadata": {
    "tags": []
   },
   "outputs": [],
   "source": [
    "total = 0\n",
    "for puzzle in puzzles:\n",
    "    dim, i = solve_puzzle(puzzle)\n",
    "    i += 1\n",
    "    if dim == 'r':\n",
    "        i *= 100\n",
    "    total += i"
   ]
  },
  {
   "cell_type": "code",
   "execution_count": 134,
   "id": "1b3eb82e-465b-4878-8752-be3a00c9ec64",
   "metadata": {
    "tags": []
   },
   "outputs": [
    {
     "data": {
      "text/plain": [
       "23479"
      ]
     },
     "execution_count": 134,
     "metadata": {},
     "output_type": "execute_result"
    }
   ],
   "source": [
    "total"
   ]
  }
 ],
 "metadata": {
  "kernelspec": {
   "display_name": "Python 3 (ipykernel)",
   "language": "python",
   "name": "python3"
  },
  "language_info": {
   "codemirror_mode": {
    "name": "ipython",
    "version": 3
   },
   "file_extension": ".py",
   "mimetype": "text/x-python",
   "name": "python",
   "nbconvert_exporter": "python",
   "pygments_lexer": "ipython3",
   "version": "3.11.5"
  }
 },
 "nbformat": 4,
 "nbformat_minor": 5
}
