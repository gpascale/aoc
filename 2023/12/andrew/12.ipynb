{
 "cells": [
  {
   "cell_type": "code",
   "execution_count": 1,
   "id": "35f67797-f1f4-4893-a210-207025539acc",
   "metadata": {
    "tags": []
   },
   "outputs": [],
   "source": [
    "from tqdm import tqdm"
   ]
  },
  {
   "cell_type": "code",
   "execution_count": 2,
   "id": "e9fd94a7-a18f-4228-81ef-da6289b8b137",
   "metadata": {},
   "outputs": [],
   "source": [
    "with open('input.txt')as fl:\n",
    "    lns = fl.readlines()\n",
    "puzzles = []\n",
    "part2 = True # change for part 1 vs 2\n",
    "for ln in lns:\n",
    "    springs, counts = ln.strip().split(' ')\n",
    "    if part2:\n",
    "        springs = '?'.join([springs]*5)\n",
    "        counts = ','.join([counts]*5)\n",
    "    counts = tuple(int(i) for i in counts.split(','))\n",
    "    puzzles.append((springs, counts))"
   ]
  },
  {
   "cell_type": "code",
   "execution_count": 3,
   "id": "c0500407-8885-45e7-88a5-95a1dd88a4a3",
   "metadata": {
    "tags": []
   },
   "outputs": [],
   "source": [
    "# tool to get the next contig from a start but we can't skip a # and if last dont\n",
    "# leave any left and if first dont skip the first #\n",
    "def get_next_contig(start, count, springs, dontskip = False, last = False, first = False):\n",
    "    for i in range(start, len(springs) - count + 1):\n",
    "        if dontskip and i - 1 > 0 and springs[i-1] == '#':\n",
    "            return -1\n",
    "        if all( v in {'#','?'} for v in springs[i:(i+count)]) and \\\n",
    "                not ( (i - 1 >= 0 and springs[i-1] == '#') or \\\n",
    "                   ( (i+count)<len(springs) and springs[i+count] == '#') ) and \\\n",
    "                not (last and any( v == '#' for v in springs[(i+count):]) ) and \\\n",
    "                not (first and any(v == '#' for v in springs[:i])):\n",
    "            return i\n",
    "    return -1"
   ]
  },
  {
   "cell_type": "code",
   "execution_count": 4,
   "id": "3fe8256c-4322-402b-9679-611b65c4c985",
   "metadata": {
    "tags": []
   },
   "outputs": [],
   "source": [
    "# recursively count the contigs past current point using caching for speed \n",
    "def count_contigs(start, counts, springs, n=None, cache = None):\n",
    "    total, i, c = 0, 0, counts[0]\n",
    "    n = len(counts) if n is None else n\n",
    "    cache = dict() if cache is None else cache\n",
    "    while True:\n",
    "        i = get_next_contig(start, c, springs, dontskip=True, \n",
    "                            last=len(counts)==1, first=len(counts)==n)\n",
    "        if i == -1:\n",
    "            break # bail out because this is impossible\n",
    "        else:\n",
    "            if len(counts) > 1:\n",
    "                cnt = cache.get((i+c+1, tuple(counts[1:])), None)\n",
    "                if cnt is None:\n",
    "                    cnt = count_contigs(i+c+1, counts[1:], springs, n=n, cache=cache)\n",
    "                    cache[(i+c+1, tuple(counts[1:]))] = cnt\n",
    "                total += cnt\n",
    "            else:\n",
    "                total += 1\n",
    "        start = i+1\n",
    "    return total"
   ]
  },
  {
   "cell_type": "code",
   "execution_count": 5,
   "id": "2f29aaf1-4ebd-40ee-bbdf-1cd3942c8f70",
   "metadata": {
    "tags": []
   },
   "outputs": [
    {
     "name": "stderr",
     "output_type": "stream",
     "text": [
      "100%|██████████| 1000/1000 [00:01<00:00, 859.01it/s]\n"
     ]
    },
    {
     "data": {
      "text/plain": [
       "6555315065024"
      ]
     },
     "execution_count": 5,
     "metadata": {},
     "output_type": "execute_result"
    }
   ],
   "source": [
    "sum(count_contigs(0, counts, springs) for springs, counts in tqdm(puzzles))"
   ]
  }
 ],
 "metadata": {
  "kernelspec": {
   "display_name": "Python 3 (ipykernel)",
   "language": "python",
   "name": "python3"
  },
  "language_info": {
   "codemirror_mode": {
    "name": "ipython",
    "version": 3
   },
   "file_extension": ".py",
   "mimetype": "text/x-python",
   "name": "python",
   "nbconvert_exporter": "python",
   "pygments_lexer": "ipython3",
   "version": "3.11.5"
  }
 },
 "nbformat": 4,
 "nbformat_minor": 5
}
