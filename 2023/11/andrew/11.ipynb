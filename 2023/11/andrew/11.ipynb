{
 "cells": [
  {
   "cell_type": "code",
   "execution_count": 1,
   "id": "d7a10bb9-7c8a-48c9-bd57-f175be31c513",
   "metadata": {
    "tags": []
   },
   "outputs": [],
   "source": [
    "from scipy.spatial import distance\n",
    "import numpy as np"
   ]
  },
  {
   "cell_type": "code",
   "execution_count": 2,
   "id": "f812511b-9aa4-41ae-998a-8054178bc30f",
   "metadata": {
    "tags": []
   },
   "outputs": [],
   "source": [
    "def pretty_print(gals):\n",
    "    ui, uj = set([v[0] for v in gals]), set([v[1] for v in gals])\n",
    "    mi, mj = max(ui), max(uj)\n",
    "    for i in range(mi+1):\n",
    "        s = ''\n",
    "        for j in range(mj+1):\n",
    "            s += '#' if (i,j) in gals else '.'\n",
    "        print(s)"
   ]
  },
  {
   "cell_type": "code",
   "execution_count": 3,
   "id": "291bddf3-bdb9-4506-a518-612db6ee8859",
   "metadata": {
    "tags": []
   },
   "outputs": [],
   "source": [
    "# get the original galaxies before expanding\n",
    "gals = []\n",
    "with open('input.txt') as fl:\n",
    "    for i, ln in enumerate(fl.readlines()):\n",
    "        ln = ln.strip()\n",
    "        for j, v in enumerate(ln):\n",
    "            if v == '#':\n",
    "                gals.append((i,j))"
   ]
  },
  {
   "cell_type": "code",
   "execution_count": 4,
   "id": "35da676d-64ca-4d6f-8d64-ec8bd96576ad",
   "metadata": {
    "tags": []
   },
   "outputs": [],
   "source": [
    "# change v to 2 to solve part 1\n",
    "v = 1000000-1\n",
    "# expand space\n",
    "ui, uj = set([v[0] for v in gals]), set([v[1] for v in gals])\n",
    "mi, mj = max(ui), max(uj)\n",
    "to_exp_i = set(range(0, mi+1)) - ui\n",
    "to_exp_j = set(range(0, mj+1)) - uj\n",
    "\n",
    "# expand i dimension\n",
    "new_gals = gals.copy()\n",
    "for i in sorted(list(to_exp_i)):\n",
    "    for g, gal in enumerate(gals):\n",
    "        if gal[0] > i:\n",
    "            gal = new_gals[g]\n",
    "            gal = (gal[0]+v, gal[1])\n",
    "            new_gals[g] = gal\n",
    "gals = new_gals.copy()\n",
    "\n",
    "# expand j dimension\n",
    "new_gals = gals.copy()\n",
    "for j in sorted(list(to_exp_j)):\n",
    "    for g, gal in enumerate(gals):\n",
    "        if gal[1]>j:\n",
    "            gal = new_gals[g]\n",
    "            gal = (gal[0], gal[1]+v)\n",
    "            new_gals[g] = gal\n",
    "gals = new_gals.copy()"
   ]
  },
  {
   "cell_type": "raw",
   "id": "0a972f25-de71-4dfc-b790-3d50a881b9c4",
   "metadata": {
    "tags": []
   },
   "source": [
    "pretty_print(gals)"
   ]
  },
  {
   "cell_type": "code",
   "execution_count": 5,
   "id": "73a1b7fd-3b9c-4089-a2b2-81feb50f88ec",
   "metadata": {
    "tags": []
   },
   "outputs": [
    {
     "data": {
      "text/plain": [
       "array([[0.0000000e+00, 3.0000450e+06, 5.0000720e+06, ..., 1.5000228e+07,\n",
       "        1.6000243e+07, 1.6000255e+07],\n",
       "       [3.0000450e+06, 0.0000000e+00, 2.0000270e+06, ..., 1.2000183e+07,\n",
       "        1.3000198e+07, 1.3000210e+07],\n",
       "       [5.0000720e+06, 2.0000270e+06, 0.0000000e+00, ..., 1.0000156e+07,\n",
       "        1.1000171e+07, 1.1000183e+07],\n",
       "       ...,\n",
       "       [1.5000228e+07, 1.2000183e+07, 1.0000156e+07, ..., 0.0000000e+00,\n",
       "        1.0000150e+06, 1.0000270e+06],\n",
       "       [1.6000243e+07, 1.3000198e+07, 1.1000171e+07, ..., 1.0000150e+06,\n",
       "        0.0000000e+00, 1.2000000e+01],\n",
       "       [1.6000255e+07, 1.3000210e+07, 1.1000183e+07, ..., 1.0000270e+06,\n",
       "        1.2000000e+01, 0.0000000e+00]])"
      ]
     },
     "execution_count": 5,
     "metadata": {},
     "output_type": "execute_result"
    }
   ],
   "source": [
    "# get the distances, scipy makes this trivial\n",
    "dists = distance.cdist(gals, gals, 'cityblock')\n",
    "dists"
   ]
  },
  {
   "cell_type": "code",
   "execution_count": 6,
   "id": "8338771e-729f-4eb5-9f3e-53fb13e105e0",
   "metadata": {
    "tags": []
   },
   "outputs": [
    {
     "data": {
      "text/plain": [
       "618800410814"
      ]
     },
     "execution_count": 6,
     "metadata": {},
     "output_type": "execute_result"
    }
   ],
   "source": [
    "int(np.sum(np.triu(dists)))"
   ]
  }
 ],
 "metadata": {
  "kernelspec": {
   "display_name": "Python 3 (ipykernel)",
   "language": "python",
   "name": "python3"
  },
  "language_info": {
   "codemirror_mode": {
    "name": "ipython",
    "version": 3
   },
   "file_extension": ".py",
   "mimetype": "text/x-python",
   "name": "python",
   "nbconvert_exporter": "python",
   "pygments_lexer": "ipython3",
   "version": "3.11.5"
  }
 },
 "nbformat": 4,
 "nbformat_minor": 5
}
