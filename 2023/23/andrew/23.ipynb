{
 "cells": [
  {
   "cell_type": "code",
   "execution_count": 1,
   "id": "03aaebc3-ac12-4292-b2d4-b2513414d41b",
   "metadata": {
    "tags": []
   },
   "outputs": [],
   "source": [
    "import numpy as np\n",
    "from copy import deepcopy\n",
    "with open('input.txt') as fl:\n",
    "    maze = np.array([[v for v in ln.strip() ] for ln in fl.readlines()])"
   ]
  },
  {
   "cell_type": "code",
   "execution_count": 2,
   "id": "fd2a2cac-c1f8-4cce-93ba-e749896b6ca5",
   "metadata": {
    "tags": []
   },
   "outputs": [],
   "source": [
    "def pretty_print(routes):\n",
    "    all_routes = set()\n",
    "    for route in routes:\n",
    "        all_routes.update(route['history'])\n",
    "    for i in range(maze.shape[0]):\n",
    "        s = ''\n",
    "        for j in range(maze.shape[1]):\n",
    "            if (i,j) in all_routes:\n",
    "                s += 'O'\n",
    "            else:\n",
    "                s += maze[i][j]\n",
    "        print(s)"
   ]
  },
  {
   "cell_type": "code",
   "execution_count": 3,
   "id": "0750dd4f-efa3-481e-ae3e-dc24eba7450b",
   "metadata": {
    "tags": []
   },
   "outputs": [],
   "source": [
    "dirs = {'^':(-1,0), 'v':(1,0), '>':(0,1), '<':(0,-1)}\n",
    "uphill = {'^':'v', 'v':'^', '>':'<', '<':'>'}"
   ]
  },
  {
   "cell_type": "code",
   "execution_count": 4,
   "id": "2968b909-6b66-4272-9b44-24b1988a8569",
   "metadata": {
    "tags": []
   },
   "outputs": [],
   "source": [
    "# last junc ... (pos, dir)\n",
    "# cache, bad junc (pos, dir, block)"
   ]
  },
  {
   "cell_type": "code",
   "execution_count": 5,
   "id": "53fccd46-f1ed-409c-9385-e369523fc3f4",
   "metadata": {
    "tags": []
   },
   "outputs": [
    {
     "data": {
      "text/plain": [
       "2230"
      ]
     },
     "execution_count": 5,
     "metadata": {},
     "output_type": "execute_result"
    }
   ],
   "source": [
    "# part1\n",
    "start, end = (0,1), (maze.shape[0]-1, np.where(maze[-1, :]=='.')[0][0])\n",
    "route = {'position':start, 'prev_pos':(-99999,-99999), 'history':set([start]), 'tile':'.'}\n",
    "routes = [route]\n",
    "bad_routes = []\n",
    "completed_routes = []\n",
    "while len(routes) > 0:\n",
    "    next_routes = []\n",
    "    for route in routes:\n",
    "        # if on a slope, we simply follow\n",
    "        moved = False\n",
    "        if route['tile'] in dirs:\n",
    "            i0, j0 = route['position']\n",
    "            di, dj = dirs[route['tile']]\n",
    "            i, j = i0+di, j0+dj\n",
    "            if (i,j) not in route['history']:\n",
    "                route['position'] = (i,j)\n",
    "                route['history'].add((i,j))\n",
    "                route['tile'] = maze[i][j]\n",
    "                next_routes.append(route)\n",
    "                moved=True\n",
    "        # otherwise, check all directions and maybe do more than one\n",
    "        else:\n",
    "            i0, j0 = route['position']    \n",
    "            good_dirs = []\n",
    "            for d, (di, dj) in dirs.items():\n",
    "                i, j = i0+di, j0+dj\n",
    "                if not (maze[i][j] == '#' or maze[i][j] == uphill[d]):\n",
    "                    if (i,j) != route['prev_pos']:\n",
    "                        if (i,j) not in route['history']:\n",
    "                            good_dirs.append((d, (i,j)))\n",
    "\n",
    "            for d, (i,j) in good_dirs:\n",
    "                new_route = deepcopy(route) if len(good_dirs)>1 else route\n",
    "                new_route['prev_pos'] = new_route['position']\n",
    "                new_route['position'] = (i,j)\n",
    "                new_route['history'].add((i,j))\n",
    "                new_route['tile'] = maze[i][j]\n",
    "                next_routes.append(new_route)\n",
    "                moved=True\n",
    "                \n",
    "        if not moved:\n",
    "            bad_routes.append(route)\n",
    "            \n",
    "    routes = [r for r in next_routes if r['position'] != end]\n",
    "    completed_routes.extend([r for r in next_routes if r['position'] == end])\n",
    "max([len(r['history']) for r in completed_routes]) - 1   "
   ]
  },
  {
   "cell_type": "code",
   "execution_count": null,
   "id": "082b3201-f226-4e42-8ba0-6f743f35dc9f",
   "metadata": {},
   "outputs": [],
   "source": []
  },
  {
   "cell_type": "code",
   "execution_count": null,
   "id": "459747ec-fb06-44a8-b1e0-3334533110a7",
   "metadata": {},
   "outputs": [],
   "source": []
  },
  {
   "cell_type": "code",
   "execution_count": 6,
   "id": "99ce0cd3-0301-4184-a57b-96ada895c487",
   "metadata": {
    "tags": []
   },
   "outputs": [],
   "source": [
    "# part 2 \n",
    "start, end = (0,1), (maze.shape[0]-1, np.where(maze[-1, :]=='.')[0][0])\n",
    "def get_adjacent_juncs(i,j):\n",
    "    start = (i,j)\n",
    "    route = {'position':start, 'prev_pos':(-99999,-99999), 'history':set([start]), 'tile':'.'}\n",
    "    routes = [route]\n",
    "    completed_routes = []\n",
    "    it = 0\n",
    "    \n",
    "    while len(routes) > 0:\n",
    "        next_routes = []\n",
    "        for route in routes:\n",
    "            i0, j0 = route['position']    \n",
    "            good_dirs = []\n",
    "            for d, (di, dj) in dirs.items():\n",
    "                i, j = i0+di, j0+dj\n",
    "                if 0<=i<maze.shape[0] and 0<=j<maze.shape[1] and not maze[i][j] == '#':\n",
    "                    if (i,j) != route['prev_pos']:\n",
    "                        if (i,j) not in route['history']:\n",
    "                            good_dirs.append((d, (i,j)))  \n",
    "            #print(it, good_dirs)\n",
    "\n",
    "            if (it>0 and len(good_dirs) > 1) or (i0, j0) == end:\n",
    "                completed_routes.append(route)\n",
    "            else:\n",
    "                for d, (i,j) in good_dirs:\n",
    "                    new_route = deepcopy(route) if len(good_dirs)>1 else route\n",
    "                    new_route['prev_pos'] = new_route['position']\n",
    "                    new_route['position'] = (i,j)\n",
    "                    new_route['history'].add((i,j))\n",
    "                    new_route['tile'] = maze[i][j]\n",
    "                    next_routes.append(new_route)\n",
    "            routes = next_routes\n",
    "        it += 1    \n",
    "        \n",
    "    return [(r['position'], len(r['history'])-1) for r in completed_routes]\n",
    "        "
   ]
  },
  {
   "cell_type": "code",
   "execution_count": 7,
   "id": "bd51b435-3513-4379-8888-8969f19a5ac0",
   "metadata": {
    "tags": []
   },
   "outputs": [],
   "source": [
    "# build the weighted graph\n",
    "graph = {}\n",
    "p_len = -1\n",
    "all_juncs = set([start])\n",
    "new_juncs = set([start])\n",
    "while len(new_juncs) > 0:\n",
    "    juncs = new_juncs\n",
    "    new_juncs = set([])\n",
    "    for junc in juncs:\n",
    "        res = get_adjacent_juncs(*junc)\n",
    "        for (i,j), dst in res:\n",
    "            if (i,j) not in all_juncs:\n",
    "                new_juncs.add((i,j))\n",
    "                all_juncs.add((i,j))\n",
    "        graph[junc] = res\n"
   ]
  },
  {
   "cell_type": "code",
   "execution_count": 8,
   "id": "97791f4a-a24c-4e58-a02d-18056b4c3e42",
   "metadata": {
    "tags": []
   },
   "outputs": [
    {
     "data": {
      "text/plain": [
       "6542"
      ]
     },
     "execution_count": 8,
     "metadata": {},
     "output_type": "execute_result"
    }
   ],
   "source": [
    "paths = [([start,], 0)]\n",
    "new_paths = paths\n",
    "max_dist = 0\n",
    "while len(new_paths) > 0:\n",
    "    paths = new_paths\n",
    "    new_paths = []\n",
    "    for path, total_dist in paths:\n",
    "        junc = path[-1]\n",
    "        prev_juncs = path[:-1]\n",
    "        for next_junc, dist in graph[junc]:\n",
    "            if next_junc not in prev_juncs:\n",
    "                new_paths.append((path + [next_junc], total_dist+dist))\n",
    "                if next_junc == end:\n",
    "                    max_dist = max(max_dist, total_dist+dist)\n",
    "max_dist"
   ]
  }
 ],
 "metadata": {
  "kernelspec": {
   "display_name": "Python 3 (ipykernel)",
   "language": "python",
   "name": "python3"
  },
  "language_info": {
   "codemirror_mode": {
    "name": "ipython",
    "version": 3
   },
   "file_extension": ".py",
   "mimetype": "text/x-python",
   "name": "python",
   "nbconvert_exporter": "python",
   "pygments_lexer": "ipython3",
   "version": "3.11.5"
  }
 },
 "nbformat": 4,
 "nbformat_minor": 5
}
