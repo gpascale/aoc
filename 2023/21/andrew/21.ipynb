{
 "cells": [
  {
   "cell_type": "code",
   "execution_count": 1,
   "id": "de8503c1-3fd6-4882-a559-9396c28375bc",
   "metadata": {
    "tags": []
   },
   "outputs": [],
   "source": [
    "with open('input.txt') as fl:\n",
    "    lns = fl.readlines()\n",
    "steps = 64"
   ]
  },
  {
   "cell_type": "code",
   "execution_count": 2,
   "id": "aa4de173-b36d-4967-ac99-d8c43eba81fd",
   "metadata": {
    "tags": []
   },
   "outputs": [],
   "source": [
    "n, m = len(lns), len(lns[0].strip())\n",
    "rocks = set()\n",
    "for i, ln in enumerate(lns):\n",
    "    for j, v in enumerate(ln.strip()):\n",
    "        if v == '#':\n",
    "            rocks.add((i,j))\n",
    "        elif v == 'S':\n",
    "            puzzle_start = (i,j)\n"
   ]
  },
  {
   "cell_type": "code",
   "execution_count": 3,
   "id": "8698b128-ea4a-49a0-af46-3afe86dacce5",
   "metadata": {
    "tags": []
   },
   "outputs": [],
   "source": [
    "dirs = {'N':(-1,0), 'S':(1,0), 'E':(0,-1), 'W':(0,1)}"
   ]
  },
  {
   "cell_type": "code",
   "execution_count": 4,
   "id": "35389885-97a4-4725-9d6a-d5e008c3e5df",
   "metadata": {
    "tags": []
   },
   "outputs": [],
   "source": [
    "def walk(steps):\n",
    "    len_hist = []\n",
    "    internal = {}\n",
    "    locations = {puzzle_start:0}\n",
    "    len_hist = []\n",
    "    for it in range(steps):\n",
    "        new_locations = {}\n",
    "        for i, j in locations.keys():\n",
    "            for di, dj in dirs.values():\n",
    "                pos = (i+di, j+dj)\n",
    "                grid_pos = (pos[0] % n, pos[1] % m)\n",
    "                if grid_pos not in rocks:\n",
    "                    if pos not in internal:\n",
    "                        internal[pos] = it + 1\n",
    "                        new_locations[pos] = it + 1\n",
    "        locations = new_locations\n",
    "    locations.update(internal)\n",
    "    return locations\n",
    "\n",
    "def count_walk(steps):\n",
    "    return len([pos for pos, t in walk(steps).items() if t%2 == steps%2])"
   ]
  },
  {
   "cell_type": "code",
   "execution_count": 5,
   "id": "e1f6aca8-4eee-4c9c-8d6a-ef9d955336ff",
   "metadata": {
    "tags": []
   },
   "outputs": [
    {
     "data": {
      "text/plain": [
       "3617"
      ]
     },
     "execution_count": 5,
     "metadata": {},
     "output_type": "execute_result"
    }
   ],
   "source": [
    "# part 1\n",
    "count_walk(64)"
   ]
  },
  {
   "cell_type": "code",
   "execution_count": 6,
   "id": "ed5fa652-fa93-4aa9-81b7-795d51f1d43f",
   "metadata": {
    "tags": []
   },
   "outputs": [],
   "source": [
    "# part 2"
   ]
  },
  {
   "cell_type": "code",
   "execution_count": 7,
   "id": "c6b9068e-01eb-459e-92fb-c52b5ff1c7c4",
   "metadata": {
    "tags": []
   },
   "outputs": [],
   "source": [
    "to_edge = n // 2"
   ]
  },
  {
   "cell_type": "code",
   "execution_count": 8,
   "id": "1ceafdb1-18e5-47ab-a2e7-90dbb5b8e9cd",
   "metadata": {
    "tags": []
   },
   "outputs": [
    {
     "data": {
      "text/plain": [
       "[3703, 32957, 91379, 178969, 295727, 441653, 616747]"
      ]
     },
     "execution_count": 8,
     "metadata": {},
     "output_type": "execute_result"
    }
   ],
   "source": [
    "coefs = [count_walk(to_edge + i * n ) for i in range(7)]\n",
    "coefs"
   ]
  },
  {
   "cell_type": "code",
   "execution_count": 9,
   "id": "eb7f6ae7-7471-4b57-b9eb-e0847ff44488",
   "metadata": {
    "tags": []
   },
   "outputs": [],
   "source": [
    "# what if i just tried a system of equations since this must repeat and the goal is a multiple of the\n",
    "# width once im at the edge ... \n",
    "pa = (coefs[0] + coefs[2] - 2*coefs[1]) / 2\n",
    "pc = coefs[0]\n",
    "pb = coefs[1] - coefs[0] - pa\n",
    "guess = lambda x: pa*x**2 + pb*x + pc"
   ]
  },
  {
   "cell_type": "code",
   "execution_count": 10,
   "id": "74715be3-badd-49b0-83f7-f464d2291e92",
   "metadata": {
    "tags": []
   },
   "outputs": [
    {
     "name": "stdout",
     "output_type": "stream",
     "text": [
      "178969.0 295727.0 441653.0 616747.0\n"
     ]
    }
   ],
   "source": [
    "# holy shit\n",
    "print(guess(3),guess(4),guess(5), guess(6))"
   ]
  },
  {
   "cell_type": "code",
   "execution_count": 11,
   "id": "2e086981-1e45-4c94-93bd-339ae585f42e",
   "metadata": {
    "tags": []
   },
   "outputs": [
    {
     "data": {
      "text/plain": [
       "596857397104703.0"
      ]
     },
     "execution_count": 11,
     "metadata": {},
     "output_type": "execute_result"
    }
   ],
   "source": [
    "guess((26501365 - 65) // n)"
   ]
  },
  {
   "cell_type": "code",
   "execution_count": 12,
   "id": "23c49d80-4c7a-4b22-a071-79c73f701cf3",
   "metadata": {
    "tags": []
   },
   "outputs": [],
   "source": [
    "# lol ... that worked ... jesus i wasted hours on this"
   ]
  }
 ],
 "metadata": {
  "kernelspec": {
   "display_name": "Python 3 (ipykernel)",
   "language": "python",
   "name": "python3"
  },
  "language_info": {
   "codemirror_mode": {
    "name": "ipython",
    "version": 3
   },
   "file_extension": ".py",
   "mimetype": "text/x-python",
   "name": "python",
   "nbconvert_exporter": "python",
   "pygments_lexer": "ipython3",
   "version": "3.11.5"
  }
 },
 "nbformat": 4,
 "nbformat_minor": 5
}
