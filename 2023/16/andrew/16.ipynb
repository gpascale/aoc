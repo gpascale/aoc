{
 "cells": [
  {
   "cell_type": "code",
   "execution_count": 1,
   "id": "4cb9d48c-bde6-472a-b048-a1597794c6ab",
   "metadata": {
    "tags": []
   },
   "outputs": [
    {
     "name": "stdout",
     "output_type": "stream",
     "text": [
      ".|...\\....\n",
      "|.-.\\.....\n",
      ".....|-...\n",
      "........|.\n",
      "..........\n",
      ".........\\\n",
      "..../.\\\\..\n",
      ".-.-/..|..\n",
      ".|....-|.\\\n",
      "..//.|...."
     ]
    }
   ],
   "source": [
    "!cat test.txt"
   ]
  },
  {
   "cell_type": "code",
   "execution_count": 2,
   "id": "10cc50dd-02c9-41f4-ac21-825a17bf5b0c",
   "metadata": {
    "tags": []
   },
   "outputs": [],
   "source": [
    "import numpy as np"
   ]
  },
  {
   "cell_type": "code",
   "execution_count": 86,
   "id": "3f410124-5da7-4fb4-a4d1-8995e2f91e04",
   "metadata": {
    "tags": []
   },
   "outputs": [],
   "source": [
    "with open('input.txt') as fl:\n",
    "    grid = np.array([ [v for v in ln.strip()] for ln in fl.readlines()])"
   ]
  },
  {
   "cell_type": "code",
   "execution_count": 87,
   "id": "bec7c10f-bae6-4ab7-9d62-c8edebfc990f",
   "metadata": {
    "tags": []
   },
   "outputs": [],
   "source": [
    "dirs = {'N':(-1,0), 'S':(1,0), 'E':(0,1), 'W':(0,-1)}\n",
    "mirrors = {'/':{'E':'N', 'S':'W', 'W':'S', 'N':'E'},\n",
    "           '\\\\':{'E':'S', 'S':'E', 'W':'N', 'N':'W'}}\n",
    "splits = {'|':{'E':('N','S'), 'W':('N','S'), 'N':('N',), 'S':('S',)},\n",
    "          '-':{'N':('E','W'), 'S':('E','W'), 'E':('E',), 'W':('W',)}}"
   ]
  },
  {
   "cell_type": "code",
   "execution_count": 88,
   "id": "0651a1dc-2f68-4504-ad62-0de00be11441",
   "metadata": {
    "tags": []
   },
   "outputs": [],
   "source": [
    "def pretty_print(grid, history=set(),mx=50, my=50):\n",
    "    points = set((i,j) for i,j,d in history)\n",
    "    for i in range(min(mx,grid.shape[0])):\n",
    "        s = ''\n",
    "        for j in range(min(my, grid.shape[1])):\n",
    "            if (i,j) in points:\n",
    "                s += '#'\n",
    "            else:\n",
    "                s += grid[i][j]\n",
    "        print(s)"
   ]
  },
  {
   "cell_type": "code",
   "execution_count": 89,
   "id": "2165894c-80b7-4ebf-98ae-df8b2d75cb6f",
   "metadata": {
    "tags": []
   },
   "outputs": [],
   "source": [
    "# need to progressively move the beems also keeping track of the history\n",
    "# if a beem is traversing the exact same path and direction, stop\n",
    "def trace_beams(start = (0,-1,'E')):\n",
    "    beams = [start]\n",
    "    history = set()\n",
    "    it = 0\n",
    "    while len(beams)>0:\n",
    "        prev_len = new_len\n",
    "        new_beams = []\n",
    "        for beam in beams:\n",
    "            i,j,d = beam\n",
    "            # move the beam\n",
    "            di, dj = dirs[d]\n",
    "            i+=di; j+=dj\n",
    "            # check to see if we went off the edge\n",
    "            if i<0 or i>=grid.shape[0] or j<0 or j>=grid.shape[1]:\n",
    "                new_ds = ('DEL',) # figure out how to delete\n",
    "            elif (i,j,d) in history and grid[i][j] == '.':\n",
    "                new_ds = ('DEL',)\n",
    "            else:\n",
    "                g = grid[i][j]\n",
    "                # figure out whether we need to deal with a spitter or a mirror\n",
    "                if g in ('/','\\\\'):\n",
    "                    new_ds = (mirrors[g][d],)\n",
    "                elif g in ('|','-'):\n",
    "                    new_ds = splits[g][d]\n",
    "                else:\n",
    "                    new_ds = (d,)\n",
    "            new_beams.append((i,j,new_ds))\n",
    "        beams = []\n",
    "        for i,j,ds in new_beams:\n",
    "            if ds[0] != 'DEL':\n",
    "                for d in ds:\n",
    "                    history.add((i,j,d))\n",
    "                    beams.append((i,j,d))\n",
    "    return len(set((i,j) for i,j,d in history))"
   ]
  },
  {
   "cell_type": "code",
   "execution_count": 90,
   "id": "1318913e-3d29-4a01-a984-3268032a6f95",
   "metadata": {
    "tags": []
   },
   "outputs": [
    {
     "data": {
      "text/plain": [
       "7496"
      ]
     },
     "execution_count": 90,
     "metadata": {},
     "output_type": "execute_result"
    }
   ],
   "source": [
    "trace_beams()"
   ]
  },
  {
   "cell_type": "code",
   "execution_count": 91,
   "id": "f18b8c91-7c55-494d-9490-c7bb22cf4e54",
   "metadata": {
    "tags": []
   },
   "outputs": [],
   "source": [
    "# part 2"
   ]
  },
  {
   "cell_type": "code",
   "execution_count": 92,
   "id": "d2169e5a-bdcd-4df5-a8b9-ebe41a654796",
   "metadata": {
    "tags": []
   },
   "outputs": [],
   "source": [
    "# West side\n",
    "mx = 0\n",
    "mx = max(mx, max(trace_beams((i,-1,'E')) for i in range(grid.shape[0])))\n",
    "# East side\n",
    "mx = max(mx, max(trace_beams((i,grid.shape[1],'W')) for i in range(grid.shape[0])))\n",
    "# North side\n",
    "mx = max(mx, max(trace_beams((-1,j,'S')) for j in range(grid.shape[1])))\n",
    "# south side\n",
    "mx = max(mx, max(trace_beams((grid.shape[0],j,'N')) for j in range(grid.shape[1])))"
   ]
  },
  {
   "cell_type": "code",
   "execution_count": 93,
   "id": "5ed11606-6b30-456d-99a7-ab69093a8253",
   "metadata": {
    "tags": []
   },
   "outputs": [
    {
     "data": {
      "text/plain": [
       "7932"
      ]
     },
     "execution_count": 93,
     "metadata": {},
     "output_type": "execute_result"
    }
   ],
   "source": [
    "mx"
   ]
  }
 ],
 "metadata": {
  "kernelspec": {
   "display_name": "Python 3 (ipykernel)",
   "language": "python",
   "name": "python3"
  },
  "language_info": {
   "codemirror_mode": {
    "name": "ipython",
    "version": 3
   },
   "file_extension": ".py",
   "mimetype": "text/x-python",
   "name": "python",
   "nbconvert_exporter": "python",
   "pygments_lexer": "ipython3",
   "version": "3.11.5"
  }
 },
 "nbformat": 4,
 "nbformat_minor": 5
}
