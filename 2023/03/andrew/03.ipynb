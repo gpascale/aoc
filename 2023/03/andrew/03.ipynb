{
 "cells": [
  {
   "cell_type": "code",
   "execution_count": 80,
   "id": "661da349-00a4-4be0-86c0-71a7eb518c6f",
   "metadata": {
    "tags": []
   },
   "outputs": [],
   "source": [
    "class Symbol:\n",
    "    def __init__(self, x, y, sym):\n",
    "        self.x, self.y, self.sym, self.len = int(x), int(y), sym, len(sym)\n",
    "        \n",
    "    def __str__(self):\n",
    "        return '(' + str(self.x) + ', ' + str(self.y) + '): ' + self.sym\n",
    "        \n",
    "class PartNumber(Symbol):\n",
    "    def __init__(self, x, y, num):\n",
    "        super().__init__(x, y, num)\n",
    "        self.num = int(self.sym)\n",
    "        \n",
    "    def check_symbols(self, symbols, return_sym=False):\n",
    "        symbols = {(s.x, s.y):s for s in symbols}\n",
    "        x, y, l = self.x, self.y, self.len\n",
    "        \n",
    "        to_check = [(x-1, y), (x + l, y),\n",
    "                    (x-1, y-1), (x + l, y-1), \n",
    "                    (x-1, y+1), (x + l, y+1)]\n",
    "        for i in range(l):\n",
    "            to_check.append((x+i, y+1))\n",
    "            to_check.append((x+i, y-1))\n",
    "            \n",
    "        for check in to_check:\n",
    "            if check in symbols:\n",
    "                if return_sym:\n",
    "                    return symbols[check]\n",
    "                else:\n",
    "                    return True\n",
    "        \n",
    "        return False"
   ]
  },
  {
   "cell_type": "code",
   "execution_count": 105,
   "id": "db1d7448-7e4a-4ab9-a6ae-e0dca9c58ceb",
   "metadata": {
    "tags": []
   },
   "outputs": [],
   "source": [
    "with open('input.txt') as fl:\n",
    "    lns = fl.readlines()"
   ]
  },
  {
   "cell_type": "code",
   "execution_count": 106,
   "id": "c4a4677f-c3e0-42e9-bc53-72f9a18ea1c0",
   "metadata": {
    "tags": []
   },
   "outputs": [],
   "source": [
    "num = ''\n",
    "numbers = []\n",
    "symbols = []\n",
    "for y, ln in enumerate(lns):\n",
    "    for x, val in enumerate(ln.strip() + '.'):\n",
    "        if val.isnumeric():\n",
    "            num += val\n",
    "        else:\n",
    "            if len(num) > 0:\n",
    "                numbers.append(PartNumber(x-len(num),y,num))\n",
    "                num = ''\n",
    "            if val != '.':\n",
    "                symbols.append(Symbol(x,y,val))"
   ]
  },
  {
   "cell_type": "code",
   "execution_count": 107,
   "id": "e30a314d-a656-4c9b-86ab-80dd6e97ada2",
   "metadata": {
    "tags": []
   },
   "outputs": [],
   "source": [
    "good_numbers = [part.num for part in numbers if part.check_symbols(symbols)]"
   ]
  },
  {
   "cell_type": "code",
   "execution_count": 108,
   "id": "0059c750-b666-4d8d-931c-72f021430c1a",
   "metadata": {
    "tags": []
   },
   "outputs": [
    {
     "data": {
      "text/plain": [
       "537832"
      ]
     },
     "execution_count": 108,
     "metadata": {},
     "output_type": "execute_result"
    }
   ],
   "source": [
    "sum(good_numbers)"
   ]
  },
  {
   "cell_type": "code",
   "execution_count": 109,
   "id": "c4a603fc-d27d-4ff6-9cfa-3328be3113bb",
   "metadata": {
    "tags": []
   },
   "outputs": [],
   "source": [
    "# part 2, find the gears"
   ]
  },
  {
   "cell_type": "code",
   "execution_count": 110,
   "id": "48f2aba0-3e96-424d-ae5b-8bb8b162e950",
   "metadata": {
    "tags": []
   },
   "outputs": [
    {
     "data": {
      "text/plain": [
       "81939900"
      ]
     },
     "execution_count": 110,
     "metadata": {},
     "output_type": "execute_result"
    }
   ],
   "source": [
    "# find all the matches symbols\n",
    "matches = [(part, part.check_symbols(symbols, return_sym=True)) \n",
    "            for part in numbers if part.check_symbols(symbols)]\n",
    "# filter to just gears\n",
    "matches = [match for match in matches if match[1].sym == '*']\n",
    "# map gears to numbers\n",
    "gears_map = {}\n",
    "for match, gear in matches:\n",
    "    num_list = gears_map.get(gear)\n",
    "    if num_list is None:\n",
    "        num_list = []\n",
    "    num_list.append(match)\n",
    "    gears_map[gear] = num_list\n",
    "# filter to gears with exactly two numbers\n",
    "gears_map = {gear:lst for gear, lst in gears_map.items() if len(lst)==2}\n",
    "# calculate powers and sum\n",
    "sum([v[0].num*v[1].num for v in gears_map.values()])"
   ]
  }
 ],
 "metadata": {
  "kernelspec": {
   "display_name": "Python 3 (ipykernel)",
   "language": "python",
   "name": "python3"
  },
  "language_info": {
   "codemirror_mode": {
    "name": "ipython",
    "version": 3
   },
   "file_extension": ".py",
   "mimetype": "text/x-python",
   "name": "python",
   "nbconvert_exporter": "python",
   "pygments_lexer": "ipython3",
   "version": "3.11.5"
  }
 },
 "nbformat": 4,
 "nbformat_minor": 5
}
