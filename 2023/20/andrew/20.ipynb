{
 "cells": [
  {
   "cell_type": "code",
   "execution_count": 1,
   "id": "dac0317d-f0a6-4b23-ac80-a9fbe5bc6b8f",
   "metadata": {
    "tags": []
   },
   "outputs": [],
   "source": [
    "from tqdm import tqdm"
   ]
  },
  {
   "cell_type": "code",
   "execution_count": 2,
   "id": "a259721b-a7e9-450d-8644-b9cafbdddabe",
   "metadata": {
    "tags": []
   },
   "outputs": [],
   "source": [
    "HIGH = 1\n",
    "LOW = 0\n",
    "\n",
    "class Module:\n",
    "    # class variables to track everything\n",
    "    pulses = {HIGH:0, LOW:0}\n",
    "    \n",
    "    def __init__(self, name, targets):\n",
    "        self.name = name\n",
    "        self.targets = targets\n",
    "        \n",
    "        \n",
    "    def get_pulse(self, source, level):\n",
    "        pass\n",
    "        \n",
    "    def _send_pulses(self, level):\n",
    "        Module.pulses[level] += len(self.targets)\n",
    "        return (self.name, level, self.targets)\n",
    "    \n",
    "    def add_source(self, source):\n",
    "        pass\n",
    "    \n",
    "class Button(Module):\n",
    "    def __init__(self, name='button', targets = ['broadcaster']):\n",
    "        super().__init__(name=name, targets=targets)\n",
    "        \n",
    "    def send_pulse(self):\n",
    "        return super()._send_pulses(LOW)    \n",
    "    \n",
    "class Broadcaster(Module):\n",
    "    def __init__(self, name='broadcaster', targets = []):\n",
    "        super().__init__(name=name, targets=targets)\n",
    "        \n",
    "    def get_pulse(self, source, level):\n",
    "        return super()._send_pulses(level)\n",
    "\n",
    "\n",
    "class FlipFlop(Module):\n",
    "    def __init__(self, name, targets):\n",
    "        self.on = False\n",
    "        super().__init__(name=name, targets=targets)\n",
    "        \n",
    "    def get_pulse(self, source, level):\n",
    "        if level == LOW:\n",
    "            self.on = not self.on\n",
    "            if self.on:\n",
    "                return self._send_pulses(HIGH)\n",
    "            else:\n",
    "                return self._send_pulses(LOW)\n",
    "\n",
    "class Conjunction(Module):\n",
    "    def __init__(self, name, targets):\n",
    "        self.memory = {}\n",
    "        super().__init__(name=name, targets=targets)\n",
    "        \n",
    "    def add_source(self, source):\n",
    "        self.memory[source] = LOW\n",
    "        \n",
    "    def get_pulse(self, source, level):\n",
    "        self.memory[source] = level\n",
    "        if all(m == HIGH for m in self.memory.values()):\n",
    "            return self._send_pulses(LOW)\n",
    "        else:\n",
    "            return self._send_pulses(HIGH)\n",
    "    "
   ]
  },
  {
   "cell_type": "code",
   "execution_count": 6,
   "id": "54f364a1-7367-46c7-b87b-c2b35d2939fc",
   "metadata": {
    "tags": []
   },
   "outputs": [],
   "source": [
    "def reset():\n",
    "    Module.pulses = {HIGH:0, LOW:0}\n",
    "    with open('input.txt') as fl:\n",
    "        lns = fl.readlines()\n",
    "    config = {'button': Button()}\n",
    "    for ln in lns:\n",
    "        source, targets = ln.strip().split(' -> ')\n",
    "        targets = [t.strip() for t in targets.split(',')]\n",
    "        if source == 'broadcaster':\n",
    "            config[source] = Broadcaster(targets = targets)\n",
    "        elif source.startswith('%'):\n",
    "            config[source[1:]] = FlipFlop(name=source[1:], targets = targets)\n",
    "        elif source.startswith('&'):\n",
    "            config[source[1:]] = Conjunction(name=source[1:], targets = targets)\n",
    "        else:\n",
    "            config[source] = Module(name=source, targets=[])\n",
    "    # now add the sources\n",
    "    for ln in lns:\n",
    "        source, targets = ln.strip().split(' -> ')\n",
    "        targets = [t.strip() for t in targets.split(',')]\n",
    "        for target in targets:\n",
    "            if target not in config:\n",
    "                config[target] = Module(name=source, targets=[])\n",
    "            if type(config[target]) is Conjunction:\n",
    "                config[target].add_source(source.strip('%&'))\n",
    "    return config"
   ]
  },
  {
   "cell_type": "code",
   "execution_count": 23,
   "id": "6e551669-6772-41ad-bba0-e09dc37fa7f3",
   "metadata": {
    "tags": []
   },
   "outputs": [],
   "source": [
    "def run_next(config, to_run):\n",
    "    next_round = []\n",
    "    for source, level, targets in to_run:\n",
    "        for target in targets:\n",
    "            next_round.append(config[target].get_pulse(source, level))\n",
    "        to_run = [v for v in next_round if v is not None]\n",
    "    return to_run\n",
    "\n",
    "def run_round(config, stop=None):\n",
    "    to_run = [config['button'].send_pulse()]\n",
    "    to_run\n",
    "    # process as round\n",
    "    while len(to_run) > 0:\n",
    "        to_run = run_next(config, to_run)\n",
    "        if stop is not None:\n",
    "            for s, l, targets in to_run:\n",
    "                for t in targets:\n",
    "                    if s == stop[0] and l == stop[1] and t == stop[2]:\n",
    "                        return 'STOP'\n",
    "        #print(to_run)"
   ]
  },
  {
   "cell_type": "code",
   "execution_count": 24,
   "id": "2dad7f91-bdd0-486b-9a16-9e97a618017b",
   "metadata": {
    "tags": []
   },
   "outputs": [
    {
     "data": {
      "text/plain": [
       "731517480"
      ]
     },
     "execution_count": 24,
     "metadata": {},
     "output_type": "execute_result"
    }
   ],
   "source": [
    "# part 1\n",
    "config = reset()\n",
    "for i in range(1000):\n",
    "    run_round(config)\n",
    "Module.pulses[0] * Module.pulses[1]"
   ]
  },
  {
   "cell_type": "code",
   "execution_count": 26,
   "id": "3dd47f53-43b9-4773-9b9f-576124ac52d3",
   "metadata": {
    "tags": []
   },
   "outputs": [
    {
     "data": {
      "text/plain": [
       "244178746156661"
      ]
     },
     "execution_count": 26,
     "metadata": {},
     "output_type": "execute_result"
    }
   ],
   "source": [
    "# part 2 ... looking at the puzzle, it's clear that these 4 need to be HIGH at the same time\n",
    "# so find the LCM of the time to get there (and assume they cycle)\n",
    "score = 1\n",
    "for source in ['pv','qh','xm','hz']:\n",
    "    config = reset()\n",
    "    it = 1\n",
    "    while run_round(config, stop=(source, HIGH,'kh')) != 'STOP':\n",
    "        it += 1\n",
    "    score *= it\n",
    "score"
   ]
  }
 ],
 "metadata": {
  "kernelspec": {
   "display_name": "Python 3 (ipykernel)",
   "language": "python",
   "name": "python3"
  },
  "language_info": {
   "codemirror_mode": {
    "name": "ipython",
    "version": 3
   },
   "file_extension": ".py",
   "mimetype": "text/x-python",
   "name": "python",
   "nbconvert_exporter": "python",
   "pygments_lexer": "ipython3",
   "version": "3.11.5"
  }
 },
 "nbformat": 4,
 "nbformat_minor": 5
}
