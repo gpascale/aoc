{
 "cells": [
  {
   "cell_type": "code",
   "execution_count": 1,
   "id": "8c0f0d73-ce7e-4262-bad9-2371c8580279",
   "metadata": {
    "tags": []
   },
   "outputs": [],
   "source": [
    "with open('input.txt') as fl:\n",
    "    scores = {}\n",
    "    for ln in fl.readlines():\n",
    "        score = 0\n",
    "        matches = 0\n",
    "        card, numbers = ln.strip().split(':')\n",
    "        winning, test = numbers.strip().split('|')\n",
    "        winning = set([int(n) for n in winning.strip().split(' ') if len(n)>0])\n",
    "        test = [int(n) for n in test.strip().split(' ') if len(n)>0]\n",
    "        for n in test:\n",
    "            if n in winning:\n",
    "                score = score * 2 if score > 0 else 1\n",
    "                matches += 1\n",
    "        scores[int(card.strip().split(' ')[-1])] = (score, matches)"
   ]
  },
  {
   "cell_type": "code",
   "execution_count": 2,
   "id": "0ba1b291-90c8-45ad-a163-485649529067",
   "metadata": {
    "tags": []
   },
   "outputs": [
    {
     "data": {
      "text/plain": [
       "25010"
      ]
     },
     "execution_count": 2,
     "metadata": {},
     "output_type": "execute_result"
    }
   ],
   "source": [
    "# part 1\n",
    "sum([v[0] for v in scores.values()])"
   ]
  },
  {
   "cell_type": "code",
   "execution_count": 3,
   "id": "c005af62-abc3-49f6-a7b4-4cc40ed10bdd",
   "metadata": {
    "tags": []
   },
   "outputs": [],
   "source": [
    "# part 2"
   ]
  },
  {
   "cell_type": "code",
   "execution_count": 4,
   "id": "e74ae3a3-0663-48fc-b994-a2ac5f61878f",
   "metadata": {
    "tags": []
   },
   "outputs": [],
   "source": [
    "copies = {card:1 for card in scores.keys()}\n",
    "for card in range(1, len(copies)+1):\n",
    "    num_match = scores[card][1]\n",
    "    inv = copies[card]\n",
    "    for c in range(card+1, card + num_match+1):\n",
    "        copies[c] = copies[c] + inv"
   ]
  },
  {
   "cell_type": "code",
   "execution_count": 5,
   "id": "12755c03-3c17-4a9c-805e-5273d9686fe6",
   "metadata": {
    "tags": []
   },
   "outputs": [
    {
     "data": {
      "text/plain": [
       "9924412"
      ]
     },
     "execution_count": 5,
     "metadata": {},
     "output_type": "execute_result"
    }
   ],
   "source": [
    "sum(copies.values())"
   ]
  }
 ],
 "metadata": {
  "kernelspec": {
   "display_name": "Python 3 (ipykernel)",
   "language": "python",
   "name": "python3"
  },
  "language_info": {
   "codemirror_mode": {
    "name": "ipython",
    "version": 3
   },
   "file_extension": ".py",
   "mimetype": "text/x-python",
   "name": "python",
   "nbconvert_exporter": "python",
   "pygments_lexer": "ipython3",
   "version": "3.11.5"
  }
 },
 "nbformat": 4,
 "nbformat_minor": 5
}
