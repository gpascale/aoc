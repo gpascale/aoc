{
 "cells": [
  {
   "cell_type": "code",
   "execution_count": 1,
   "metadata": {},
   "outputs": [
    {
     "name": "stdout",
     "output_type": "stream",
     "text": [
      "Part 1: 7951\n",
      "Part 2: 8148\n"
     ]
    }
   ],
   "source": [
    "import numpy as np\n",
    "# NOTE - I replaced all '\\' with 'p' in the input file\n",
    "# because the '\\' character is a special character in python \n",
    "# so things like '\\\\' are interpreted as a single '\\' character\n",
    "# which is not what we want.\n",
    "text = open('2023_16.txt', 'r').read()\n",
    "\n",
    "text1 = r'''.|...p....\n",
    "|.-.p.....\n",
    ".....|-...\n",
    "........|.\n",
    "..........\n",
    ".........p\n",
    "..../.pp..\n",
    ".-.-/..|..\n",
    ".|....-|.p\n",
    "..//.|....'''\n",
    "\n",
    "def pretty_print(data2D):\n",
    "    for data in data2D:\n",
    "        print(\"\".join(data))\n",
    "\n",
    "data2D = [list(row) for row in text.split(\"\\n\") if row != \"\"]\n",
    "\n",
    "# count the number of times char appears in data2D\n",
    "def countchar(data2D, char):\n",
    "    count = 0\n",
    "    for i in range(len(data2D)):\n",
    "        for j in range(len(data2D[i])):\n",
    "            if data2D[i][j] == char:\n",
    "                count +=1\n",
    "    return count\n",
    "    \n",
    "#pretty_print(data2D)\n",
    "\n",
    "beams = [[0,0,0,1]]\n",
    "def calc_actcells(data2D,beams):\n",
    "    actcells = np.empty((len(data2D),len(data2D[0])), dtype=str)\n",
    "    for i in range(len(data2D)):\n",
    "        for j in range(len(data2D[i])):\n",
    "            actcells[i][j] = '.'\n",
    "            \n",
    "    donebeams = set([])\n",
    "    while (len(beams) > 0):\n",
    "        newbeams = []\n",
    "        for beam in beams:\n",
    "            r,c,dr,dc = beam\n",
    "            if (r < 0) or (r >= len(data2D)) or (c < 0) or (c >= len(data2D[r])):\n",
    "                continue\n",
    "            actcells[r][c] = '#'\n",
    "            if (data2D[r][c] == '.') or ((data2D[r][c] == '-') and (dr == 0)) or ((data2D[r][c] == '|') and (dc == 0)):\n",
    "                if (r+dr,c+dc,dr,dc) not in donebeams:\n",
    "                    newbeams.append([r+dr,c+dc,dr,dc])\n",
    "            elif data2D[r][c] == 'p':\n",
    "                if (r+dc,c+dr,dc,dr) not in donebeams:\n",
    "                    newbeams.append([r+dc,c+dr,dc,dr])\n",
    "            elif data2D[r][c] == '/':\n",
    "                if (r-dc,c-dr,-dc,-dr) not in donebeams:\n",
    "                    newbeams.append([r-dc,c-dr,-dc,-dr])    \n",
    "            elif (data2D[r][c] == '|') or (data2D[r][c] == '-'): # we are perpendicular to the beam\n",
    "                if (r+abs(dc),c+abs(dr),abs(dc),abs(dr)) not in donebeams:\n",
    "                    newbeams.append([r+abs(dc),c+abs(dr),abs(dc),abs(dr)])\n",
    "                if (r-abs(dc),c-abs(dr),-abs(dc),-abs(dr)) not in donebeams:\n",
    "                    newbeams.append([r-abs(dc),c-abs(dr),-abs(dc),-abs(dr)])\n",
    "            else:\n",
    "                print(\"Error\")\n",
    "        donebeams = donebeams.union(set([tuple(beam) for beam in beams]))\n",
    "        beams = newbeams\n",
    "    return actcells\n",
    "\n",
    "actcells = calc_actcells(data2D,beams)\n",
    "#pretty_print(actcells)\n",
    "\n",
    "print('Part 1:',countchar(actcells, '#'))\n",
    "\n",
    "maxact = 0\n",
    "for boundary in range(4):\n",
    "    if boundary == 0:\n",
    "        beams = [[0,0,1,0]]\n",
    "        beamsind = 1\n",
    "        beamsrange = range(len(data2D[0]))\n",
    "    elif boundary == 1:\n",
    "        beams = [[0,len(data2D[0])-1,0,-1]]\n",
    "        beamsind = 0\n",
    "        beamsrange = range(len(data2D))\n",
    "    elif boundary == 2:\n",
    "        beams = [[len(data2D)-1,0,-1,0]]\n",
    "        beamsind = 1\n",
    "        beamsrange = range(len(data2D[0]))\n",
    "    elif boundary == 3:\n",
    "        beams = [[0,0,0,1]]\n",
    "        beamsind = 0\n",
    "        beamsrange = range(len(data2D))\n",
    "\n",
    "    for startpos in beamsrange:\n",
    "        beams[0][beamsind] = startpos\n",
    "        actcells = calc_actcells(data2D,beams)\n",
    "        maxact = max(maxact,countchar(actcells, '#'))\n",
    "        \n",
    "        \n",
    "print('Part 2:',maxact)\n",
    "\n"
   ]
  },
  {
   "cell_type": "code",
   "execution_count": 35,
   "metadata": {},
   "outputs": [
    {
     "name": "stdout",
     "output_type": "stream",
     "text": [
      "[]\n"
     ]
    }
   ],
   "source": [
    "print(beams)"
   ]
  }
 ],
 "metadata": {
  "kernelspec": {
   "display_name": "Python 3",
   "language": "python",
   "name": "python3"
  },
  "language_info": {
   "codemirror_mode": {
    "name": "ipython",
    "version": 3
   },
   "file_extension": ".py",
   "mimetype": "text/x-python",
   "name": "python",
   "nbconvert_exporter": "python",
   "pygments_lexer": "ipython3",
   "version": "3.11.2"
  }
 },
 "nbformat": 4,
 "nbformat_minor": 2
}
