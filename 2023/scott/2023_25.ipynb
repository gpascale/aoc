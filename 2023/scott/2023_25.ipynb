{
 "cells": [
  {
   "cell_type": "code",
   "execution_count": 1,
   "metadata": {},
   "outputs": [
    {
     "name": "stdout",
     "output_type": "stream",
     "text": [
      "{('jkn', 'cfn'), ('gst', 'rph'), ('ljm', 'sfd')}\n",
      "[753, 792] 596376\n",
      "Part 1: 596376\n"
     ]
    }
   ],
   "source": [
    "import networkx as nx\n",
    "text = open('2023_25.txt', 'r').read()\n",
    "\n",
    "text1 = '''jqt: rhn xhk nvd\n",
    "rsh: frs pzl lsr\n",
    "xhk: hfx\n",
    "cmg: qnr nvd lhk bvb\n",
    "rhn: xhk bvb hfx\n",
    "bvb: xhk hfx\n",
    "pzl: lsr hfx nvd\n",
    "qnr: nvd\n",
    "ntq: jqt hfx bvb xhk\n",
    "nvd: lhk\n",
    "lsr: lhk\n",
    "rzs: qnr cmg lsr rsh\n",
    "frs: qnr lhk lsr'''\n",
    "\n",
    "G = nx.Graph()\n",
    "for line in text.split('\\n'):\n",
    "    if not line:\n",
    "        continue\n",
    "    line = line.split(':')\n",
    "    node = line[0].strip()\n",
    "    children = line[1].strip().split(' ')\n",
    "    #print(node, children)\n",
    "    for child in children:\n",
    "        G.add_edge(node, child)\n",
    "cut = nx.minimum_edge_cut(G)\n",
    "print(cut)\n",
    "G.remove_edges_from(cut)\n",
    "x = nx.connected_components(G)\n",
    "y=([len(c) for c in x])\n",
    "print(y,y[0]*y[1])\n",
    "print('Part 1:', y[0]*y[1])\n"
   ]
  }
 ],
 "metadata": {
  "kernelspec": {
   "display_name": "Python 3",
   "language": "python",
   "name": "python3"
  },
  "language_info": {
   "codemirror_mode": {
    "name": "ipython",
    "version": 3
   },
   "file_extension": ".py",
   "mimetype": "text/x-python",
   "name": "python",
   "nbconvert_exporter": "python",
   "pygments_lexer": "ipython3",
   "version": "3.11.2"
  }
 },
 "nbformat": 4,
 "nbformat_minor": 2
}
