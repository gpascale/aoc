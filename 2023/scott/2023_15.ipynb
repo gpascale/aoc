{
 "cells": [
  {
   "cell_type": "code",
   "execution_count": 1,
   "metadata": {},
   "outputs": [
    {
     "name": "stdout",
     "output_type": "stream",
     "text": [
      "Part 1: 506437\n"
     ]
    }
   ],
   "source": [
    "text = open('2023_15.txt', 'r').read()\n",
    "text1 = '''rn=1,cm-,qp=3,cm=2,qp-,pc=4,ot=9,ab=5,pc-,pc=6,ot=7\\n'''\n",
    "cur = 0\n",
    "tot = 0\n",
    "for c in text:\n",
    "    if c==',' or c=='\\n':\n",
    "        tot+=cur\n",
    "        cur=0\n",
    "    else:\n",
    "        cur+=ord(c)\n",
    "        cur*=17\n",
    "        cur%=256    \n",
    "print('Part 1:',tot)\n",
    "\n"
   ]
  },
  {
   "cell_type": "code",
   "execution_count": 2,
   "metadata": {},
   "outputs": [
    {
     "name": "stdout",
     "output_type": "stream",
     "text": [
      "Part 2: 288521\n"
     ]
    }
   ],
   "source": [
    "c = open('2023_15.txt', 'r').read()\n",
    "c1 = '''rn=1,cm-,qp=3,cm=2,qp-,pc=4,ot=9,ab=5,pc-,pc=6,ot=7\\n'''\n",
    "\n",
    "def equalbox(box,cur,label,val):\n",
    "    for i in box[cur]:\n",
    "        if i[0]==label:\n",
    "            i[1]=val\n",
    "            return box\n",
    "    box[cur].append([label,val])\n",
    "    return box\n",
    "def minusbox(box,cur,label):\n",
    "    # check if box is empty\n",
    "    if len(box[cur])==0:\n",
    "        return box\n",
    "    for i in box[cur]:\n",
    "        if i[0]==label:\n",
    "            # remove i\n",
    "            box[cur].remove(i)\n",
    "            return box\n",
    "    return box\n",
    "def focusingpower(box):\n",
    "    fp = 0\n",
    "    for bind,b in enumerate(box):\n",
    "        for sind,s in enumerate(b):\n",
    "            #print(bind,sind,s)\n",
    "            fp+=(1+bind)*(1+sind)*int(s[1])\n",
    "    return fp\n",
    "i=0\n",
    "label = []\n",
    "# create 1000 empty boxes\n",
    "box = [[] for i in range(1000)]\n",
    "while i<len(c):\n",
    "    if c[i]==',' or c[i]=='\\n':\n",
    "        #print(cur)\n",
    "        cur=0\n",
    "    elif c[i]=='=':\n",
    "        i+=1\n",
    "        label = ''.join(label)\n",
    "        #print('Box',cur,':',label,'=',c[i])\n",
    "        box = equalbox(box,cur,label,c[i])\n",
    "        cur=0\n",
    "        label=[]\n",
    "    elif c[i]=='-':\n",
    "        label = ''.join(label)\n",
    "        #print('Box',cur,':',label,'-')\n",
    "        box = minusbox(box,cur,label)\n",
    "        cur = 0\n",
    "        label=[]\n",
    "    else:\n",
    "        label.append(c[i])\n",
    "        cur+=ord(c[i])\n",
    "        cur*=17\n",
    "        cur%=256\n",
    "    i+=1\n",
    "    \n",
    "print('Part 2:',focusingpower(box))"
   ]
  }
 ],
 "metadata": {
  "kernelspec": {
   "display_name": "Python 3",
   "language": "python",
   "name": "python3"
  },
  "language_info": {
   "codemirror_mode": {
    "name": "ipython",
    "version": 3
   },
   "file_extension": ".py",
   "mimetype": "text/x-python",
   "name": "python",
   "nbconvert_exporter": "python",
   "pygments_lexer": "ipython3",
   "version": "3.11.2"
  }
 },
 "nbformat": 4,
 "nbformat_minor": 2
}
