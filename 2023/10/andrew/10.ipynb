{
 "cells": [
  {
   "cell_type": "code",
   "execution_count": null,
   "id": "e492be63-19b5-47f7-a200-4bac4f5aa447",
   "metadata": {
    "tags": []
   },
   "outputs": [],
   "source": [
    "from itertools import product"
   ]
  },
  {
   "cell_type": "code",
   "execution_count": null,
   "id": "a77b7118-1395-4253-96db-92f69b685887",
   "metadata": {
    "tags": []
   },
   "outputs": [],
   "source": [
    "with open('input.txt') as fl:\n",
    "    lns = fl.readlines()\n",
    "grid = [list(ln.strip()) for ln in lns]\n",
    "n, m = len(grid), len(grid[0])"
   ]
  },
  {
   "cell_type": "code",
   "execution_count": null,
   "id": "8ca5336c-8bcd-4009-9c65-76bc68eb2fcd",
   "metadata": {
    "tags": []
   },
   "outputs": [],
   "source": [
    "# find the start\n",
    "for i, j in product(range(n), range(m)):\n",
    "    if grid[i][j] == 'S': break\n",
    "start_pos = (i, j)"
   ]
  },
  {
   "cell_type": "code",
   "execution_count": null,
   "id": "332c2088-d8cd-492f-a5d5-1226650cc275",
   "metadata": {
    "tags": []
   },
   "outputs": [],
   "source": [
    "# the first move is special, need to look in all 4 directions\n",
    "# and find the two I can move\n",
    "pos = []\n",
    "i, j = start_pos\n",
    "if grid[i-1][j] in {'|','7','F'}: # north\n",
    "    pos.append((i-1, j))\n",
    "if grid[i+1][j] in {'|', 'J', 'L'}: # south\n",
    "    pos.append((i+1, j))\n",
    "if grid[i][j-1] in {'-','F','L'}: # west\n",
    "    pos.append((i, j-1))\n",
    "if grid[i][j+1] in {'-','7','J'}: # west\n",
    "    pos.append((i, j+1))\n",
    "\n",
    "# now we can walk the loop until both positions are the same\n",
    "mvs = 1\n",
    "prev_pos = [start_pos, start_pos]\n",
    "paths = [pos[0]],[pos[1]]\n",
    "while pos[0] != pos[1]:\n",
    "    for k in range(len(pos)):\n",
    "        i, j = pos[k]\n",
    "        v = grid[i][j]\n",
    "        if v == '|':\n",
    "            new_pos = (i+1,j) if (i+1,j) != prev_pos[k] else (i-1,j)\n",
    "        elif v == '-':\n",
    "            new_pos = (i,j+1) if (i,j+1) != prev_pos[k] else (i,j-1)\n",
    "        elif v == '7':\n",
    "            new_pos = (i+1,j) if (i+1,j) != prev_pos[k] else (i,j-1)\n",
    "        elif v == 'F':\n",
    "            new_pos = (i+1,j) if (i+1,j) != prev_pos[k] else (i,j+1)\n",
    "        elif v == 'J':\n",
    "            new_pos = (i-1,j) if (i-1,j) != prev_pos[k] else (i,j-1)\n",
    "        elif v == 'L':\n",
    "            new_pos = (i-1,j) if (i-1,j) != prev_pos[k] else (i,j+1)\n",
    "        prev_pos[k] = pos[k]\n",
    "        pos[k] = new_pos\n",
    "        paths[k].append(new_pos)\n",
    "    mvs += 1"
   ]
  },
  {
   "cell_type": "code",
   "execution_count": null,
   "id": "3716b5bb-8781-4e90-9e35-d812c8f72fb3",
   "metadata": {
    "tags": []
   },
   "outputs": [],
   "source": [
    "mvs"
   ]
  },
  {
   "cell_type": "code",
   "execution_count": null,
   "id": "9878422b-1e98-4e81-89eb-ce8e2269feb0",
   "metadata": {
    "tags": []
   },
   "outputs": [],
   "source": [
    "# part 2 ... fuck me this is gonna suck"
   ]
  },
  {
   "cell_type": "code",
   "execution_count": null,
   "id": "be70b7b9-6224-40dd-b1f9-2024659b8401",
   "metadata": {
    "tags": []
   },
   "outputs": [],
   "source": [
    "# get the completed loop\n",
    "loop = paths[0].copy()\n",
    "loop.extend(paths[1][-2::-1])\n",
    "loop.insert(0, start_pos)"
   ]
  },
  {
   "cell_type": "code",
   "execution_count": null,
   "id": "585f51bf-222b-4bbe-a14a-c9289e578987",
   "metadata": {
    "tags": []
   },
   "outputs": [],
   "source": [
    "# now we pad the grid with empty space placeholders to let the \n",
    "# 'slip in between' case happen, all indexes must be multiplied by 2\n",
    "padded_grid = []\n",
    "for i in range(len(grid)):\n",
    "    row = []\n",
    "    for v, e in zip(grid[i],['*']*len(grid[0])):\n",
    "        row.append(v); row.append(e)\n",
    "    padded_grid.append(row)\n",
    "    padded_grid.append(['*']*len(grid[0]*2))"
   ]
  },
  {
   "cell_type": "code",
   "execution_count": null,
   "id": "28bbcbff-cfe8-4ef2-8efd-b67526d2044f",
   "metadata": {
    "tags": []
   },
   "outputs": [],
   "source": [
    "# now make a padded loop\n",
    "padded_loop = [(2*i,2*j) for (i,j) in loop]\n",
    "filled_loop = []\n",
    "for ind in range(len(padded_loop)):\n",
    "    pos, next_pos = padded_loop[ind], padded_loop[(ind+1)%len(padded_loop)]\n",
    "    diff = next_pos[0]-pos[0], next_pos[1]-pos[1]\n",
    "    filled_loop.append(pos)\n",
    "    filled_loop.append((pos[0] + diff[0]//2, pos[1]+diff[1]//2)) \n",
    "padded_loop = filled_loop"
   ]
  },
  {
   "cell_type": "code",
   "execution_count": null,
   "id": "ef6a9c34-2a99-4824-8ca2-9856ccf6517a",
   "metadata": {
    "tags": []
   },
   "outputs": [],
   "source": [
    "# now we need to take all of the non path space and merge into blobs\n",
    "# until there's nothing left\n",
    "to_merge = set(product(range(len(padded_grid)), range(len(padded_grid[0]))))\n",
    "to_merge -= set(padded_loop)\n",
    "# now merge a blob\n",
    "blob_list = []\n",
    "while len(to_merge)>0:\n",
    "    blob = [to_merge.pop()]\n",
    "    new_ones = blob.copy()\n",
    "    while len(new_ones)>0:\n",
    "        to_try = new_ones.copy()\n",
    "        new_ones = []\n",
    "        for pos in to_try:\n",
    "            for shift in [(1,0), (-1,0), (0, 1), (0, -1)]:\n",
    "                new_pos = pos[0] + shift[0], pos[1] + shift[1]\n",
    "                if new_pos[0]>=0 and new_pos[1]>=0 and new_pos in to_merge \\\n",
    "                        and new_pos not in blob and new_pos not in padded_loop:\n",
    "                    blob.append(new_pos)\n",
    "                    new_ones.append(new_pos)\n",
    "                    to_merge.remove(new_pos)\n",
    "    blob_list.append(blob)"
   ]
  },
  {
   "cell_type": "code",
   "execution_count": null,
   "id": "4dab126a-d9b4-41a2-b3fa-5860040cf164",
   "metadata": {
    "tags": []
   },
   "outputs": [],
   "source": [
    "# now we just need to clean up the blob list ... remove anything that \n",
    "# touches the edge then remove all the filler to get the count.\n",
    "n, m = len(padded_grid), len(padded_grid[0])\n",
    "contained = []\n",
    "for blob in blob_list:\n",
    "    xs, ys = [p[0] for p in blob], [p[1] for p in blob]\n",
    "    if min(xs)>0 and max(xs)<n and min(ys)>0 and max(ys)<m:\n",
    "        contained.extend(blob)\n",
    "contained = [(x//2, y//2) for x,y in contained if x%2==0 and y%2==0]"
   ]
  },
  {
   "cell_type": "code",
   "execution_count": null,
   "id": "7ef2fb42-a3d8-4a3d-bb1d-6cd393d8cbdc",
   "metadata": {
    "tags": []
   },
   "outputs": [],
   "source": [
    "len(contained)"
   ]
  }
 ],
 "metadata": {
  "kernelspec": {
   "display_name": "Python 3 (ipykernel)",
   "language": "python",
   "name": "python3"
  },
  "language_info": {
   "codemirror_mode": {
    "name": "ipython",
    "version": 3
   },
   "file_extension": ".py",
   "mimetype": "text/x-python",
   "name": "python",
   "nbconvert_exporter": "python",
   "pygments_lexer": "ipython3",
   "version": "3.11.5"
  }
 },
 "nbformat": 4,
 "nbformat_minor": 5
}
