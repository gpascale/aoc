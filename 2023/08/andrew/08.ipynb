{
 "cells": [
  {
   "cell_type": "code",
   "execution_count": null,
   "id": "76670462-8c29-4498-8275-e170fb36edad",
   "metadata": {
    "tags": []
   },
   "outputs": [],
   "source": [
    "with open('input.txt') as fl:\n",
    "    lns = fl.readlines()\n",
    "instructions = list(lns[0].strip())\n",
    "l = len(instructions)\n",
    "move_index = {'L':0,'R':1}\n",
    "network = {}\n",
    "for ln in lns[2:]:\n",
    "    node, neighbors = ln.split('=')\n",
    "    node = node.strip()\n",
    "    left, right = neighbors.strip().replace('(','').replace(')','').replace(' ','').split(',')\n",
    "    network[node] = (left, right)"
   ]
  },
  {
   "cell_type": "code",
   "execution_count": null,
   "id": "a8499ccd-cd06-480d-b8db-bca82921d544",
   "metadata": {
    "tags": []
   },
   "outputs": [],
   "source": [
    "#part 1\n",
    "node = 'AAA'\n",
    "i = 0\n",
    "while True:\n",
    "    move = instructions[i % l]\n",
    "    node = network[node][move_index[move]]\n",
    "    i += 1\n",
    "    if node == 'ZZZ':\n",
    "        break\n",
    "print(i)"
   ]
  },
  {
   "cell_type": "code",
   "execution_count": null,
   "id": "cf7466b0-3444-448d-b089-148b943584a9",
   "metadata": {
    "tags": []
   },
   "outputs": [],
   "source": [
    "start_nodes = [k for k in network.keys() if k[2] == 'A']\n",
    "end_nodes = [k for k in network.keys() if k[2] == 'Z']\n"
   ]
  },
  {
   "cell_type": "code",
   "execution_count": null,
   "id": "69651b81-aad1-47f4-b812-f23f5379c684",
   "metadata": {
    "tags": []
   },
   "outputs": [],
   "source": [
    "print(start_nodes)\n",
    "print(end_nodes)"
   ]
  },
  {
   "cell_type": "code",
   "execution_count": null,
   "id": "d13645b8-9deb-478d-8028-f57a84c1cb52",
   "metadata": {
    "tags": []
   },
   "outputs": [],
   "source": [
    "def get_next_Z(start_node, start_index):\n",
    "    node = start_node\n",
    "    i = start_index\n",
    "    while True:\n",
    "        move = instructions[i % l]\n",
    "        node = network[node][move_index[move]]\n",
    "        i += 1\n",
    "        if node[2] == 'Z':\n",
    "            break\n",
    "    return node, i"
   ]
  },
  {
   "cell_type": "code",
   "execution_count": null,
   "id": "901c3a87-7f92-4b45-afa8-5b43e9f23377",
   "metadata": {
    "tags": []
   },
   "outputs": [],
   "source": [
    "# first, run each ghost until they get to a Z\n",
    "ghost_positions = [(node, 0) for node in start_nodes]\n",
    "for ghost, (node, i) in enumerate(ghost_positions):\n",
    "    node, i = get_next_Z(node,i)\n",
    "    ghost_positions[ghost] = (node, i, i % l, i // l)"
   ]
  },
  {
   "cell_type": "code",
   "execution_count": null,
   "id": "8991dde1-9a15-4f7a-8d07-ae1e36d33b05",
   "metadata": {
    "tags": []
   },
   "outputs": [],
   "source": [
    "ghost_positions"
   ]
  },
  {
   "cell_type": "code",
   "execution_count": null,
   "id": "88b7aa03-d17e-4c1a-9fd4-b753e8b46288",
   "metadata": {
    "tags": []
   },
   "outputs": [],
   "source": [
    "# nice not only do they get to a Z on even cycles,\n",
    "# but i figured out that they stay with the same Z on even cycles of\n",
    "# different lengths. "
   ]
  },
  {
   "cell_type": "code",
   "execution_count": null,
   "id": "cf834204-2f68-4378-8b1e-423cc4557bf7",
   "metadata": {
    "tags": []
   },
   "outputs": [],
   "source": [
    "for ghost, (node, i, _i, _ii) in enumerate(ghost_positions):\n",
    "    node, i = get_next_Z(node,i)\n",
    "    ghost_positions[ghost] = (node, i, i % l, i // l - _ii)"
   ]
  },
  {
   "cell_type": "code",
   "execution_count": null,
   "id": "ecc998b4-3af7-4fcd-8a24-1db594390356",
   "metadata": {
    "tags": []
   },
   "outputs": [],
   "source": [
    "ghost_positions"
   ]
  },
  {
   "cell_type": "code",
   "execution_count": null,
   "id": "07f4f862-8848-42ee-acad-f0ac98df17f5",
   "metadata": {
    "tags": []
   },
   "outputs": [],
   "source": [
    "# wow .. AND they are on the same cycle length once they get there"
   ]
  },
  {
   "cell_type": "code",
   "execution_count": null,
   "id": "28e82ba3-ed38-46c9-8519-e63223b74133",
   "metadata": {
    "tags": []
   },
   "outputs": [],
   "source": [
    "# get the least common multiple and mult by the instruction length\n",
    "n = 1\n",
    "for p in ghost_positions:\n",
    "    n *= p[-1]"
   ]
  },
  {
   "cell_type": "code",
   "execution_count": null,
   "id": "2fb6b1a8-b977-436d-b62e-acd37896d0f1",
   "metadata": {
    "tags": []
   },
   "outputs": [],
   "source": [
    "n*l"
   ]
  }
 ],
 "metadata": {
  "kernelspec": {
   "display_name": "Python 3 (ipykernel)",
   "language": "python",
   "name": "python3"
  },
  "language_info": {
   "codemirror_mode": {
    "name": "ipython",
    "version": 3
   },
   "file_extension": ".py",
   "mimetype": "text/x-python",
   "name": "python",
   "nbconvert_exporter": "python",
   "pygments_lexer": "ipython3",
   "version": "3.11.5"
  }
 },
 "nbformat": 4,
 "nbformat_minor": 5
}
