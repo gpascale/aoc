{
 "cells": [
  {
   "cell_type": "code",
   "execution_count": 1,
   "id": "1890f10f",
   "metadata": {},
   "outputs": [],
   "source": [
    "import re"
   ]
  },
  {
   "cell_type": "code",
   "execution_count": 2,
   "id": "f8b1f1fc",
   "metadata": {},
   "outputs": [],
   "source": [
    "# read the file\n",
    "with open('input.txt') as fl:\n",
    "    lns = [l.strip() for l in fl.readlines()]"
   ]
  },
  {
   "cell_type": "code",
   "execution_count": 3,
   "id": "f2a54bbc",
   "metadata": {},
   "outputs": [],
   "source": [
    "# shit to replace\n",
    "replace_dict = {\n",
    "    'one':1,\n",
    "    'two':2,\n",
    "    'three':3,\n",
    "    'four':4,\n",
    "    'five':5,\n",
    "    'six':6,\n",
    "    'seven':7,\n",
    "    'eight':8,\n",
    "    'nine':9\n",
    "}\n",
    "digits = [str(i) for i in range(1,10)]\n",
    "# shit to look for (only use digits for part 1)\n",
    "check_list = digits + list(replace_dict.keys())\n",
    "# looker\n",
    "finder = lambda s, v: [m.start() for m in re.finditer(v, s)]"
   ]
  },
  {
   "cell_type": "code",
   "execution_count": 4,
   "id": "4ca05f3e",
   "metadata": {},
   "outputs": [
    {
     "name": "stdout",
     "output_type": "stream",
     "text": [
      "55686\n"
     ]
    }
   ],
   "source": [
    "vals = []\n",
    "for ln in lns:\n",
    "    # check for all the things and store where we found them\n",
    "    find_list = {}\n",
    "    for c in check_list:\n",
    "        ii = finder(ln, c)\n",
    "        for i in ii:\n",
    "            find_list[i] = c\n",
    "    # get the index of the first and last\n",
    "    mn, mx = min(find_list.keys()), max(find_list.keys())\n",
    "    \n",
    "    # swap words for numbers\n",
    "    v0 = str(replace_dict.get(find_list[mn], find_list[mn]))\n",
    "    v1 = str(replace_dict.get(find_list[mx], find_list[mx]))\n",
    "    val = int(v0+v1)\n",
    "    vals.append(val)\n",
    "print(sum(vals))"
   ]
  },
  {
   "cell_type": "code",
   "execution_count": null,
   "id": "b93d25b8",
   "metadata": {},
   "outputs": [],
   "source": []
  }
 ],
 "metadata": {
  "kernelspec": {
   "display_name": "Python 3 (ipykernel)",
   "language": "python",
   "name": "python3"
  },
  "language_info": {
   "codemirror_mode": {
    "name": "ipython",
    "version": 3
   },
   "file_extension": ".py",
   "mimetype": "text/x-python",
   "name": "python",
   "nbconvert_exporter": "python",
   "pygments_lexer": "ipython3",
   "version": "3.11.5"
  }
 },
 "nbformat": 4,
 "nbformat_minor": 5
}
