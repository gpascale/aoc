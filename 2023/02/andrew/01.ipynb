{
 "cells": [
  {
   "cell_type": "code",
   "execution_count": 1,
   "id": "8569aae8-6c7f-4248-a402-fbf60a9a1581",
   "metadata": {
    "tags": []
   },
   "outputs": [],
   "source": [
    "import numpy as np\n",
    "\n",
    "def check_round(rnd):\n",
    "    total_cubes = {\n",
    "        'red':12,\n",
    "        'green':13,\n",
    "        'blue':14\n",
    "    }\n",
    "    for color, mx in total_cubes.items():\n",
    "        if rnd.get(color, 0) > mx:\n",
    "            return False\n",
    "    return True\n",
    "\n",
    "def parse_round(rnd):\n",
    "    draws = rnd.strip().split(',')\n",
    "    # get the color counts\n",
    "    res = {}\n",
    "    for draw in draws:\n",
    "        num, color = draw.strip().split(' ')\n",
    "        res[color.strip()] = int(num.strip())\n",
    "    res['feasible'] = check_round(res)\n",
    "    return res\n",
    "\n",
    "def check_game(rounds):\n",
    "    for rnd in rounds:\n",
    "        if not rnd['feasible']:\n",
    "            return False\n",
    "    return True\n",
    "\n",
    "def game_power(game):\n",
    "    min_cubes = {\n",
    "        'red':0,\n",
    "        'green':0,\n",
    "        'blue':0\n",
    "    }\n",
    "    for rnd in game:\n",
    "        for color, num in min_cubes.items():\n",
    "            min_cubes[color] = max(rnd.get(color,0), num)\n",
    "    return np.prod(list(min_cubes.values()))\n",
    "\n",
    "def parse_game(ln):\n",
    "    # get the game and rounds strings\n",
    "    game, rounds = ln.strip().split(':')\n",
    "    # get the game id\n",
    "    game_id = int(game.split(' ')[1])\n",
    "    # parse the rounds\n",
    "    rounds = [parse_round(rnd) for rnd in rounds.split(';')]\n",
    "    # return all game info inclusing checking for feasibility and calculating power\n",
    "    return {'id': game_id, 'rounds':rounds, \n",
    "            'feasible': check_game(rounds), 'power':game_power(rounds)}\n",
    "                  "
   ]
  },
  {
   "cell_type": "code",
   "execution_count": 2,
   "id": "95542fd4-a9b7-4739-aefc-e07fe29417a6",
   "metadata": {
    "tags": []
   },
   "outputs": [],
   "source": [
    "with open('input.txt') as fl:\n",
    "    games = [parse_game(ln) for ln in fl.readlines()]\n",
    "    good_ids = [game['id'] for game in games if game['feasible']]"
   ]
  },
  {
   "cell_type": "code",
   "execution_count": 3,
   "id": "632554ea-db1d-44ff-a5a9-0fb0cbc3281f",
   "metadata": {
    "tags": []
   },
   "outputs": [
    {
     "data": {
      "text/plain": [
       "2545"
      ]
     },
     "execution_count": 3,
     "metadata": {},
     "output_type": "execute_result"
    }
   ],
   "source": [
    "sum(good_ids)"
   ]
  },
  {
   "cell_type": "code",
   "execution_count": 4,
   "id": "349ef35a-c234-41fb-a450-0418f69be07c",
   "metadata": {
    "tags": []
   },
   "outputs": [
    {
     "data": {
      "text/plain": [
       "78111"
      ]
     },
     "execution_count": 4,
     "metadata": {},
     "output_type": "execute_result"
    }
   ],
   "source": [
    "sum([game['power'] for game in games])"
   ]
  }
 ],
 "metadata": {
  "kernelspec": {
   "display_name": "Python 3 (ipykernel)",
   "language": "python",
   "name": "python3"
  },
  "language_info": {
   "codemirror_mode": {
    "name": "ipython",
    "version": 3
   },
   "file_extension": ".py",
   "mimetype": "text/x-python",
   "name": "python",
   "nbconvert_exporter": "python",
   "pygments_lexer": "ipython3",
   "version": "3.11.5"
  }
 },
 "nbformat": 4,
 "nbformat_minor": 5
}
