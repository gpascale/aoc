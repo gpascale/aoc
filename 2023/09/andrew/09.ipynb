{
 "cells": [
  {
   "cell_type": "code",
   "execution_count": 1,
   "id": "a586db4b-0944-4811-a32a-2916f330ac02",
   "metadata": {
    "tags": []
   },
   "outputs": [],
   "source": [
    "import numpy as np"
   ]
  },
  {
   "cell_type": "code",
   "execution_count": 2,
   "id": "91d25eaf-d614-454f-b70e-94bc7f8290a8",
   "metadata": {
    "tags": []
   },
   "outputs": [],
   "source": [
    "def project_seq(seq):\n",
    "    seq = seq.copy()\n",
    "    # get all the diffs\n",
    "    diffs = [np.diff(seq)]\n",
    "    while True:\n",
    "        if np.all(diffs[-1]==0):\n",
    "            break\n",
    "        else:\n",
    "            diffs.append(np.diff(diffs[-1]))\n",
    "\n",
    "    # now run back through appending the forecasts\n",
    "    for i in range(len(diffs)-2, -1, -1):\n",
    "        # forward\n",
    "        diffs[i] = list(diffs[i])\n",
    "        diffs[i].append(diffs[i][-1] + diffs[i+1][-1])\n",
    "        # backward\n",
    "        diffs[i].insert(0, diffs[i][0] - diffs[i+1][0])\n",
    "    seq.append(seq[-1]+diffs[0][-1])\n",
    "    seq.insert(0, seq[0] - diffs[0][0])\n",
    "    return seq"
   ]
  },
  {
   "cell_type": "code",
   "execution_count": 3,
   "id": "6b8a471b-5f52-4deb-93ca-1144a8e73c56",
   "metadata": {
    "tags": []
   },
   "outputs": [],
   "source": [
    "with open('input.txt') as fl:\n",
    "    sequences = [[int(n) for n in ln.strip().split(' ')] for ln in fl.readlines()]\n",
    "new_sequences = [project_seq(seq) for seq in sequences]\n",
    "score1 = sum([seq[-1] for seq in new_sequences])\n",
    "score2 = sum([seq[0] for seq in new_sequences])"
   ]
  },
  {
   "cell_type": "code",
   "execution_count": 4,
   "id": "1f854e35-09e3-4266-94bb-a70b81105025",
   "metadata": {
    "tags": []
   },
   "outputs": [
    {
     "data": {
      "text/plain": [
       "1725987467"
      ]
     },
     "execution_count": 4,
     "metadata": {},
     "output_type": "execute_result"
    }
   ],
   "source": [
    "score1"
   ]
  },
  {
   "cell_type": "code",
   "execution_count": 5,
   "id": "292dadb0-2c55-4c50-bffc-2aaa02c13614",
   "metadata": {
    "tags": []
   },
   "outputs": [
    {
     "data": {
      "text/plain": [
       "971"
      ]
     },
     "execution_count": 5,
     "metadata": {},
     "output_type": "execute_result"
    }
   ],
   "source": [
    "score2"
   ]
  }
 ],
 "metadata": {
  "kernelspec": {
   "display_name": "Python 3 (ipykernel)",
   "language": "python",
   "name": "python3"
  },
  "language_info": {
   "codemirror_mode": {
    "name": "ipython",
    "version": 3
   },
   "file_extension": ".py",
   "mimetype": "text/x-python",
   "name": "python",
   "nbconvert_exporter": "python",
   "pygments_lexer": "ipython3",
   "version": "3.11.5"
  }
 },
 "nbformat": 4,
 "nbformat_minor": 5
}
