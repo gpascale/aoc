{
 "cells": [
  {
   "cell_type": "code",
   "execution_count": 1,
   "id": "82df835e-d45b-423b-81b8-68ff27eec976",
   "metadata": {
    "tags": []
   },
   "outputs": [],
   "source": [
    "class Mapper:\n",
    "    def __init__(self, map_triples):\n",
    "        self.dest, self.source, self.length = [], [], []\n",
    "        map_triples = sorted(map_triples, key=lambda x: x[1])\n",
    "        for triple in map_triples:\n",
    "            self.dest.append(triple[0])\n",
    "            self.source.append(triple[1])\n",
    "            self.length.append(triple[2])\n",
    "        self.n_maps = len(map_triples)\n",
    "        \n",
    "    def __call__(self, item, return_id=False):\n",
    "        for i in range(self.n_maps):\n",
    "            source, dest, length = self.source[i], self.dest[i], self.length[i]\n",
    "            if item >= source and item < (source + length):\n",
    "                if return_id:\n",
    "                    return i\n",
    "                return dest + (item - source)\n",
    "        if return_id:\n",
    "            return -1\n",
    "        return item\n",
    "    \n",
    "    def map_interval(self, start, length):\n",
    "        new_intervals = []\n",
    "        while True:\n",
    "            i = self(start, return_id=True)\n",
    "            if i != -1:\n",
    "                # the start is inside an inverval\n",
    "                source_start, dest_start, map_length = \\\n",
    "                    self.source[i], self.dest[i], self.length[i]\n",
    "                if start + length - 1 < source_start + map_length:\n",
    "                    # the end is inside the same interval\n",
    "                    new_intervals.append((dest_start + (start - source_start), length))\n",
    "                    return new_intervals\n",
    "                else:\n",
    "                    # the end is past the end of this interval\n",
    "                    new_intervals.append((dest_start + (start - source_start), \n",
    "                                          source_start + map_length - start))\n",
    "                    # reset and we start again\n",
    "                    start = source_start + map_length\n",
    "                    length = length - new_intervals[-1][-1]\n",
    "                \n",
    "            else: # the start is outside an interval\n",
    "                # find the first interval\n",
    "                found = False\n",
    "                for i in range(self.n_maps):\n",
    "                    if start < self.source[i]: # this is the first interval after\n",
    "                        # process the default map\n",
    "                        if start+length-1 < self.source[i]:\n",
    "                            new_intervals.append((start, length))\n",
    "                            return new_intervals\n",
    "                        else:\n",
    "                            new_intervals.append((start, self.source[i] - start))\n",
    "                            start = self.source[i]\n",
    "                            length = length - new_intervals[-1][-1]\n",
    "                            found = True\n",
    "                            break\n",
    "                # we didn't find one\n",
    "                if not found:\n",
    "                    new_intervals.append((start, length))\n",
    "                    return new_intervals\n",
    "                    \n",
    "                \n",
    "                    "
   ]
  },
  {
   "cell_type": "code",
   "execution_count": 2,
   "id": "e603f9db-c5df-4ecc-b307-20ed642b0d22",
   "metadata": {
    "tags": []
   },
   "outputs": [],
   "source": [
    "map_chain = {}\n",
    "source_name, dest_name, triples = '','',[]\n",
    "with open('input.txt') as fl:\n",
    "    lns = fl.readlines()\n",
    "    seeds = [int(n) for n in lns[0].split(':')[1].strip().split(' ')]\n",
    "    for ln in lns[1:]:\n",
    "        ln = ln.strip()\n",
    "        if len(ln) > 0:\n",
    "            vals = ln.split(' ')\n",
    "            if not vals[0].isnumeric():\n",
    "                # store the previous\n",
    "                map_chain[source_name] = (dest_name, Mapper(triples))\n",
    "                # setup the next\n",
    "                names = vals[0].split('-')\n",
    "                source_name, dest_name = names[0], names[2]\n",
    "                triples = []\n",
    "            else:\n",
    "                triples.append(tuple(int(n) for n in vals))\n",
    "    map_chain[source_name] = (dest_name, Mapper(triples))\n",
    "    del map_chain['']\n",
    "                "
   ]
  },
  {
   "cell_type": "code",
   "execution_count": 3,
   "id": "c927ab92-cb9a-4c7b-a9df-c345bb2e9bd3",
   "metadata": {
    "tags": []
   },
   "outputs": [],
   "source": [
    "def map_seed(seed, map_chain=map_chain):\n",
    "    item = seed\n",
    "    source_name = 'seed'\n",
    "    while True:\n",
    "        try:\n",
    "            dest_name, mapper = map_chain[source_name]\n",
    "        except KeyError:\n",
    "            return item\n",
    "        item = mapper(item)\n",
    "        source_name = dest_name\n",
    "        \n",
    "    "
   ]
  },
  {
   "cell_type": "code",
   "execution_count": 4,
   "id": "7a9d9b97-1ed2-4f71-936e-a454c78148b0",
   "metadata": {
    "tags": []
   },
   "outputs": [
    {
     "data": {
      "text/plain": [
       "910845529"
      ]
     },
     "execution_count": 4,
     "metadata": {},
     "output_type": "execute_result"
    }
   ],
   "source": [
    "# part 1\n",
    "min([map_seed(seed) for seed in seeds])"
   ]
  },
  {
   "cell_type": "code",
   "execution_count": 5,
   "id": "e4e5f854-d54b-4fe0-a05f-84cd89ec9062",
   "metadata": {
    "tags": []
   },
   "outputs": [],
   "source": [
    "# part 2\n",
    "seed_intervals = [(seeds[i], seeds[i+1]) for i in range(0, len(seeds), 2)]\n",
    "new_intervals = seed_intervals\n",
    "source_name = 'seed'\n",
    "while True:\n",
    "    try:\n",
    "        dest_name, mapper = map_chain[source_name]\n",
    "    except KeyError:\n",
    "        break\n",
    "    mapped_intervals = [mapper.map_interval(i[0],i[1]) for i in new_intervals]\n",
    "    new_intervals = mapped_intervals[0]\n",
    "    for i in mapped_intervals[1:]:\n",
    "        new_intervals.extend(i)\n",
    "    \n",
    "    source_name = dest_name"
   ]
  },
  {
   "cell_type": "code",
   "execution_count": 6,
   "id": "016857ab-3bc7-4620-9c65-17cb74d1fe5d",
   "metadata": {
    "tags": []
   },
   "outputs": [
    {
     "data": {
      "text/plain": [
       "77435348"
      ]
     },
     "execution_count": 6,
     "metadata": {},
     "output_type": "execute_result"
    }
   ],
   "source": [
    "min([i[0] for i in new_intervals])"
   ]
  }
 ],
 "metadata": {
  "kernelspec": {
   "display_name": "Python 3 (ipykernel)",
   "language": "python",
   "name": "python3"
  },
  "language_info": {
   "codemirror_mode": {
    "name": "ipython",
    "version": 3
   },
   "file_extension": ".py",
   "mimetype": "text/x-python",
   "name": "python",
   "nbconvert_exporter": "python",
   "pygments_lexer": "ipython3",
   "version": "3.11.5"
  }
 },
 "nbformat": 4,
 "nbformat_minor": 5
}
