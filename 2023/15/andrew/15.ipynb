{
 "cells": [
  {
   "cell_type": "code",
   "execution_count": 9,
   "id": "abc76eea-955e-4736-8ef6-43060f46d7d1",
   "metadata": {
    "tags": []
   },
   "outputs": [],
   "source": [
    "def my_hash(s):\n",
    "    h = 0\n",
    "    for v in s:\n",
    "        h += ord(v)\n",
    "        h *= 17\n",
    "        h %= 256\n",
    "    return h"
   ]
  },
  {
   "cell_type": "code",
   "execution_count": 65,
   "id": "452f6c3d-cc4a-47db-8bd8-a8cd89c05621",
   "metadata": {
    "tags": []
   },
   "outputs": [],
   "source": [
    "with open('input.txt') as fl:\n",
    "    ln = fl.readline().strip()"
   ]
  },
  {
   "cell_type": "code",
   "execution_count": 66,
   "id": "37b579c0-5c4e-4ded-a3ba-a68b82966c20",
   "metadata": {
    "tags": []
   },
   "outputs": [
    {
     "data": {
      "text/plain": [
       "512950"
      ]
     },
     "execution_count": 66,
     "metadata": {},
     "output_type": "execute_result"
    }
   ],
   "source": [
    "#part 1\n",
    "sum([my_hash(s.strip()) for s in ln.split(',')])"
   ]
  },
  {
   "cell_type": "code",
   "execution_count": 98,
   "id": "06f1bbad-f7bc-489e-8114-866190555b5b",
   "metadata": {
    "tags": []
   },
   "outputs": [],
   "source": [
    "# part 2\n",
    "boxes = [dict() for i in range(256)]\n",
    "for inst in ln.split(','):\n",
    "    match inst.strip('-').split('='):\n",
    "        case [l, f]: boxes[my_hash(l)][l] = int(f)\n",
    "        case [l]:    boxes[my_hash(l)].pop(l, 0)"
   ]
  },
  {
   "cell_type": "code",
   "execution_count": 101,
   "id": "a512382c-efb1-4790-8554-c06c08c6d512",
   "metadata": {
    "tags": []
   },
   "outputs": [
    {
     "name": "stdout",
     "output_type": "stream",
     "text": [
      "247153\n"
     ]
    }
   ],
   "source": [
    "print(sum(i*j*p for i,box in enumerate(boxes, 1) \n",
    "                for j,p in enumerate(box.values(), 1)))"
   ]
  },
  {
   "cell_type": "code",
   "execution_count": null,
   "id": "b22bc84f-f8a4-4404-95b1-d61fc9080a18",
   "metadata": {},
   "outputs": [],
   "source": []
  }
 ],
 "metadata": {
  "kernelspec": {
   "display_name": "Python 3 (ipykernel)",
   "language": "python",
   "name": "python3"
  },
  "language_info": {
   "codemirror_mode": {
    "name": "ipython",
    "version": 3
   },
   "file_extension": ".py",
   "mimetype": "text/x-python",
   "name": "python",
   "nbconvert_exporter": "python",
   "pygments_lexer": "ipython3",
   "version": "3.11.5"
  }
 },
 "nbformat": 4,
 "nbformat_minor": 5
}
