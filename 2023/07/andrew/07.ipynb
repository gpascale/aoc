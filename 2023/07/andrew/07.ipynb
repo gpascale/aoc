{
 "cells": [
  {
   "cell_type": "code",
   "execution_count": 1,
   "id": "9ce384e1-20b1-4ee4-b787-e917f50de512",
   "metadata": {
    "tags": []
   },
   "outputs": [],
   "source": [
    "# need to write a custom sort key to compare two hands\n",
    "from collections import Counter\n",
    "from functools import cmp_to_key\n",
    "import re\n",
    "from itertools import combinations_with_replacement\n",
    "\n",
    "card_values = {'A':14, 'K':13, 'Q':12, 'J':11, 'T':10, '9':9, \n",
    "               '8':8, '7':7, '6':6, '5':5, '4':4, '3':3, '2':2, 'W':1}\n",
    "\n",
    "cards_no_J = ['A', 'K', 'Q', 'T', '9', '8', '7', '6', '5', '4', '3', '2']\n",
    "\n",
    "hand_values = {'HC':1, 'P':2, '2P':3, '3K':4, 'FH':5, '4K':6, '5K':7}\n",
    "\n",
    "def get_hand(h):\n",
    "    if 'W' in h:\n",
    "        return get_best_hand(h)\n",
    "    counts = Counter(h)\n",
    "    sets = tuple(sorted(list(counts.values())))    \n",
    "    if sets == (1,1,1,1,1):\n",
    "        return 'HC'\n",
    "    elif sets == (1,1,1,2):\n",
    "        return 'P'\n",
    "    elif sets == (1, 2, 2):\n",
    "        return '2P'\n",
    "    elif sets == (1, 1, 3):\n",
    "        return '3K'\n",
    "    elif sets == (2, 3):\n",
    "        return 'FH'\n",
    "    elif sets == (1, 4):\n",
    "        return '4K'\n",
    "    elif sets == (5,):\n",
    "        return '5K'\n",
    "    \n",
    "def get_best_hand(h):\n",
    "    hl = list(h)\n",
    "    indexes = [m.start() for m in re.finditer('W', h)]\n",
    "    combs = list(combinations_with_replacement(cards_no_J, len(indexes)))\n",
    "    hand, value = '', 0\n",
    "    for comb in combs:\n",
    "        new_hand = hl.copy()\n",
    "        for v, i in zip(comb, indexes):\n",
    "            new_hand[i] = v\n",
    "        new_hand = get_hand(''.join(new_hand))\n",
    "        new_value = hand_values[new_hand]\n",
    "        if new_value > value:\n",
    "            hand = new_hand\n",
    "            value = new_value\n",
    "    return hand\n",
    "\n",
    "def comp(h1, h2, part2=True): # set to false for part 1\n",
    "    if part2:\n",
    "        h1 = h1.replace('J','W')\n",
    "        h2 = h2.replace('J','W')\n",
    "    # return true if h1 is better than h2\n",
    "    \n",
    "    # first, check for hands\n",
    "    h1_value = hand_values[get_hand(h1)]\n",
    "    h2_value = hand_values[get_hand(h2)]\n",
    "    \n",
    "    if h1_value != h2_value:\n",
    "        return h1_value > h2_value\n",
    "    else:\n",
    "        for c1, c2 in zip(h1,h2):\n",
    "            c1_value = card_values[c1]\n",
    "            c2_value = card_values[c2]\n",
    "            if c1_value != c2_value:\n",
    "                return c1_value > c2_value\n",
    "            \n",
    "    return None\n",
    "\n",
    "sort_key = lambda h1, h2: 1 if comp(h1,h2) else -1"
   ]
  },
  {
   "cell_type": "code",
   "execution_count": 2,
   "id": "9552bc03-36e3-4095-a507-e97c4f0e9611",
   "metadata": {
    "tags": []
   },
   "outputs": [],
   "source": [
    "with open('input.txt') as fl:\n",
    "    hands = {ln.split(' ')[0].strip():int(ln.split(' ')[1].strip()) for ln in fl.readlines()}\n",
    "sorted_hands = sorted(hands.keys(), key=cmp_to_key(sort_key))"
   ]
  },
  {
   "cell_type": "code",
   "execution_count": 3,
   "id": "ee8a9137-1f66-4e6f-8684-341c624ef271",
   "metadata": {
    "tags": []
   },
   "outputs": [],
   "source": [
    "score = 0\n",
    "for i, hand in enumerate(sorted_hands):\n",
    "    score += (i+1)*hands[hand]"
   ]
  },
  {
   "cell_type": "code",
   "execution_count": 4,
   "id": "7eba05bf-feba-4e33-8f28-5109bb922de7",
   "metadata": {
    "tags": []
   },
   "outputs": [
    {
     "data": {
      "text/plain": [
       "251421071"
      ]
     },
     "execution_count": 4,
     "metadata": {},
     "output_type": "execute_result"
    }
   ],
   "source": [
    "score"
   ]
  },
  {
   "cell_type": "code",
   "execution_count": null,
   "id": "f01f001c-3bc0-4690-a1f0-fa29df652256",
   "metadata": {},
   "outputs": [],
   "source": []
  }
 ],
 "metadata": {
  "kernelspec": {
   "display_name": "Python 3 (ipykernel)",
   "language": "python",
   "name": "python3"
  },
  "language_info": {
   "codemirror_mode": {
    "name": "ipython",
    "version": 3
   },
   "file_extension": ".py",
   "mimetype": "text/x-python",
   "name": "python",
   "nbconvert_exporter": "python",
   "pygments_lexer": "ipython3",
   "version": "3.11.5"
  }
 },
 "nbformat": 4,
 "nbformat_minor": 5
}
