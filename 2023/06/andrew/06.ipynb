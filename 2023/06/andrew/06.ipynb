{
 "cells": [
  {
   "cell_type": "code",
   "execution_count": 31,
   "id": "709aef47-bbd9-4d95-8695-266fd773cc48",
   "metadata": {
    "tags": []
   },
   "outputs": [],
   "source": [
    "import numpy as np\n",
    "from tqdm import tqdm\n",
    "with open('input.txt') as fl:\n",
    "    lns = fl.readlines()\n",
    "times = [int(i) for i in lns[0].split(':')[1].strip().split(' ') if len(i) > 0]\n",
    "dists = [int(i) for i in lns[1].split(':')[1].strip().split(' ') if len(i) > 0]"
   ]
  },
  {
   "cell_type": "code",
   "execution_count": 32,
   "id": "d15cfb4c-b08c-4434-9f91-98d60ffb4cd0",
   "metadata": {
    "tags": []
   },
   "outputs": [],
   "source": [
    "def calc_times(time, dist):\n",
    "    n = 0\n",
    "    for t in tqdm(range(1,time)):\n",
    "        speed = t\n",
    "        remaining_time = time - t\n",
    "        distance = speed * remaining_time\n",
    "        if distance > dist:\n",
    "            n += 1\n",
    "    return n"
   ]
  },
  {
   "cell_type": "code",
   "execution_count": 33,
   "id": "e2ecbd8c-afe3-4932-86ad-68bf02bab53e",
   "metadata": {
    "tags": []
   },
   "outputs": [
    {
     "name": "stderr",
     "output_type": "stream",
     "text": [
      "100%|██████████| 39/39 [00:00<00:00, 143867.95it/s]\n",
      "100%|██████████| 80/80 [00:00<00:00, 592834.49it/s]\n",
      "100%|██████████| 76/76 [00:00<00:00, 668274.85it/s]\n",
      "100%|██████████| 71/71 [00:00<00:00, 704008.47it/s]\n"
     ]
    },
    {
     "data": {
      "text/plain": [
       "861300"
      ]
     },
     "execution_count": 33,
     "metadata": {},
     "output_type": "execute_result"
    }
   ],
   "source": [
    "np.prod([calc_times(t,d) for t,d in zip(times, dists)])"
   ]
  },
  {
   "cell_type": "code",
   "execution_count": 34,
   "id": "cd891be2-4349-49f0-9e6d-a75c1c4b2e03",
   "metadata": {
    "tags": []
   },
   "outputs": [],
   "source": [
    "# part 2\n",
    "time = int(lns[0].split(':')[1].replace(' ', ''))\n",
    "dist = int(lns[1].split(':')[1].replace(' ', ''))"
   ]
  },
  {
   "cell_type": "code",
   "execution_count": 36,
   "id": "a18c758e-483f-4d89-96cc-5fd506510814",
   "metadata": {
    "tags": []
   },
   "outputs": [
    {
     "name": "stderr",
     "output_type": "stream",
     "text": [
      "100%|██████████| 40817771/40817771 [00:07<00:00, 5277247.79it/s]\n"
     ]
    },
    {
     "data": {
      "text/plain": [
       "28101347"
      ]
     },
     "execution_count": 36,
     "metadata": {},
     "output_type": "execute_result"
    }
   ],
   "source": [
    "calc_times(time, dist)"
   ]
  }
 ],
 "metadata": {
  "kernelspec": {
   "display_name": "Python 3 (ipykernel)",
   "language": "python",
   "name": "python3"
  },
  "language_info": {
   "codemirror_mode": {
    "name": "ipython",
    "version": 3
   },
   "file_extension": ".py",
   "mimetype": "text/x-python",
   "name": "python",
   "nbconvert_exporter": "python",
   "pygments_lexer": "ipython3",
   "version": "3.11.5"
  }
 },
 "nbformat": 4,
 "nbformat_minor": 5
}
