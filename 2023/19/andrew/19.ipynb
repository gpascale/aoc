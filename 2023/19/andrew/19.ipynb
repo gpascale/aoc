{
 "cells": [
  {
   "cell_type": "code",
   "execution_count": 32,
   "id": "97f58c9d-d743-4dfc-8006-f7a293ccc6ca",
   "metadata": {
    "tags": []
   },
   "outputs": [],
   "source": [
    "class Rule:\n",
    "    def __init__(self, rule_string):\n",
    "        rules = rule_string.split(',')\n",
    "        self.rules = []\n",
    "        for rule in rules[:-1]:\n",
    "            vname = rule[0]\n",
    "            rule,result = rule.split(':')\n",
    "            rule = eval('lambda x,m,a,s: ' + rule)\n",
    "            self.rules.append((rule, result))\n",
    "        self.rules.append((lambda x,m,a,s: True, rules[-1]))\n",
    "        \n",
    "    def __call__(self, x,m,a,s):\n",
    "        for rule, result in self.rules:\n",
    "            if rule(x,m,a,s):\n",
    "                return result\n",
    "        return \"ERR\""
   ]
  },
  {
   "cell_type": "code",
   "execution_count": 33,
   "id": "e441354c-b72f-404b-b910-81dee83e5843",
   "metadata": {
    "tags": []
   },
   "outputs": [],
   "source": [
    "with open('input.txt') as fl:\n",
    "    lns = fl.readlines()\n",
    "rules = {}\n",
    "for i, ln in enumerate(lns):\n",
    "    ln = ln.strip()\n",
    "    if len(ln)==0:\n",
    "        break\n",
    "    else:\n",
    "        name, rule_string = ln.strip('}').split('{')\n",
    "        rules[name] = Rule(rule_string)\n",
    "items = []\n",
    "for ln in lns[(i+1):]:\n",
    "    items.append(eval(ln.strip().replace('=','\\':').replace('{','{\\'').replace(',',',\\'')))"
   ]
  },
  {
   "cell_type": "code",
   "execution_count": 34,
   "id": "e28bea8a-52fa-4be9-91fe-22aa031178e4",
   "metadata": {
    "tags": []
   },
   "outputs": [],
   "source": [
    "# run the rules for each item\n",
    "score = 0\n",
    "for item in items:\n",
    "    result = 'NA'\n",
    "    rule = rules['in']\n",
    "    while True:\n",
    "        result = rule(**item)\n",
    "        if result in ('A','R'):\n",
    "            if result == 'A':\n",
    "                score += sum(item.values())\n",
    "            # item['RES'] = result\n",
    "            break\n",
    "        else:\n",
    "            rule = rules[result]"
   ]
  },
  {
   "cell_type": "code",
   "execution_count": 35,
   "id": "a68b7ab8-bc44-43d5-8c2d-f55174bc5b2b",
   "metadata": {
    "tags": []
   },
   "outputs": [
    {
     "data": {
      "text/plain": [
       "280909"
      ]
     },
     "execution_count": 35,
     "metadata": {},
     "output_type": "execute_result"
    }
   ],
   "source": [
    "score"
   ]
  },
  {
   "cell_type": "code",
   "execution_count": 28,
   "id": "ca977ca2-e13a-4a05-bd92-881e865344c4",
   "metadata": {
    "tags": []
   },
   "outputs": [
    {
     "data": {
      "text/plain": [
       "[{'x': 787, 'm': 2655, 'a': 1222, 's': 2876, 'RES': 'A'},\n",
       " {'x': 1679, 'm': 44, 'a': 2067, 's': 496, 'RES': 'R'},\n",
       " {'x': 2036, 'm': 264, 'a': 79, 's': 2244, 'RES': 'A'},\n",
       " {'x': 2461, 'm': 1339, 'a': 466, 's': 291, 'RES': 'R'},\n",
       " {'x': 2127, 'm': 1623, 'a': 2188, 's': 1013, 'RES': 'A'}]"
      ]
     },
     "execution_count": 28,
     "metadata": {},
     "output_type": "execute_result"
    }
   ],
   "source": [
    "items"
   ]
  },
  {
   "cell_type": "code",
   "execution_count": null,
   "id": "e13da677-1bff-45dc-a8fa-e12a5f00773b",
   "metadata": {},
   "outputs": [],
   "source": []
  },
  {
   "cell_type": "code",
   "execution_count": 22,
   "id": "6d5dfce2-04b3-4151-a2eb-6f37db41ffc7",
   "metadata": {
    "tags": []
   },
   "outputs": [
    {
     "data": {
      "text/plain": [
       "[{'x': 787, 'm': 2655, 'a': 1222, 's': 2876},\n",
       " {'x': 1679, 'm': 44, 'a': 2067, 's': 496},\n",
       " {'x': 2036, 'm': 264, 'a': 79, 's': 2244},\n",
       " {'x': 2461, 'm': 1339, 'a': 466, 's': 291},\n",
       " {'x': 2127, 'm': 1623, 'a': 2188, 's': 1013}]"
      ]
     },
     "execution_count": 22,
     "metadata": {},
     "output_type": "execute_result"
    }
   ],
   "source": [
    "items"
   ]
  },
  {
   "cell_type": "code",
   "execution_count": 16,
   "id": "0cf22e25-78f2-4d9e-aec1-19b4f93b0984",
   "metadata": {
    "tags": []
   },
   "outputs": [
    {
     "data": {
      "text/plain": [
       "{'px': <__main__.Rule at 0x10edb9a10>,\n",
       " 'pv': <__main__.Rule at 0x10dcaf0d0>,\n",
       " 'lnx': <__main__.Rule at 0x10ee0a3d0>,\n",
       " 'rfg': <__main__.Rule at 0x10ee08c90>,\n",
       " 'qs': <__main__.Rule at 0x10ee08d50>,\n",
       " 'qkq': <__main__.Rule at 0x10ee08a90>,\n",
       " 'crn': <__main__.Rule at 0x10ee08810>,\n",
       " 'in': <__main__.Rule at 0x10ee090d0>,\n",
       " 'qqz': <__main__.Rule at 0x10ee08f50>,\n",
       " 'gd': <__main__.Rule at 0x10ee08d90>,\n",
       " 'hdj': <__main__.Rule at 0x10ee09510>}"
      ]
     },
     "execution_count": 16,
     "metadata": {},
     "output_type": "execute_result"
    }
   ],
   "source": [
    "rules"
   ]
  },
  {
   "cell_type": "code",
   "execution_count": 14,
   "id": "3db8485f-0e22-467d-9880-136c93086084",
   "metadata": {
    "tags": []
   },
   "outputs": [],
   "source": [
    "r = Rule(\"a<2006:qkq,m>2090:A,rfg\")"
   ]
  },
  {
   "cell_type": "code",
   "execution_count": 11,
   "id": "d666d322-6792-4c68-81a6-52272b65560a",
   "metadata": {
    "tags": []
   },
   "outputs": [],
   "source": []
  },
  {
   "cell_type": "code",
   "execution_count": 10,
   "id": "fc70bbf7-9d81-48e5-84de-c0bf6ac8716e",
   "metadata": {
    "tags": []
   },
   "outputs": [
    {
     "data": {
      "text/plain": [
       "False"
      ]
     },
     "execution_count": 10,
     "metadata": {},
     "output_type": "execute_result"
    }
   ],
   "source": []
  }
 ],
 "metadata": {
  "kernelspec": {
   "display_name": "Python 3 (ipykernel)",
   "language": "python",
   "name": "python3"
  },
  "language_info": {
   "codemirror_mode": {
    "name": "ipython",
    "version": 3
   },
   "file_extension": ".py",
   "mimetype": "text/x-python",
   "name": "python",
   "nbconvert_exporter": "python",
   "pygments_lexer": "ipython3",
   "version": "3.11.5"
  }
 },
 "nbformat": 4,
 "nbformat_minor": 5
}
