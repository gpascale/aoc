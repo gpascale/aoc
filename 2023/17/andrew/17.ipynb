{
 "cells": [
  {
   "cell_type": "code",
   "execution_count": 1,
   "id": "af08ca77-2de6-41d0-9d18-897fc4aeb7f9",
   "metadata": {
    "tags": []
   },
   "outputs": [],
   "source": [
    "import numpy as np\n",
    "from tqdm import tqdm"
   ]
  },
  {
   "cell_type": "code",
   "execution_count": 2,
   "id": "e84c0ea0-0c9f-4e4b-95f9-f7615476ed0b",
   "metadata": {
    "tags": []
   },
   "outputs": [],
   "source": [
    "with open('input.txt') as fl:\n",
    "    grid = np.array([ [ int(v) for v in ln.strip() ] for ln in fl.readlines()])"
   ]
  },
  {
   "cell_type": "code",
   "execution_count": 3,
   "id": "d001579d-4367-4366-8117-5a2d285495b3",
   "metadata": {
    "tags": []
   },
   "outputs": [],
   "source": [
    "direction_delta = {'N':(-1,0), 'S':(1,0), 'W':(0,-1), 'E':(0,1)}\n",
    "potential_turns = {'N':('E','W'), 'S':('E','W'), 'E':('N','S'), 'W':('N','S'),\n",
    "                   'F':('N','S','E','W')}\n",
    "\n",
    "class Route:\n",
    "    def __init__(self, pos, target, direction, loss=0, #history=[], \n",
    "                 mx=grid.shape[0], my=grid.shape[1]):\n",
    "        self.pos = pos\n",
    "        self.target = target\n",
    "        self.direction = direction\n",
    "        self.loss = loss\n",
    "        #self.history = history.copy()\n",
    "        self.mx, self.my = mx, my\n",
    "        \n",
    "    def get_distance(self):\n",
    "        return abs(self.pos[0] - self.target[0]) + abs(self.pos[1] - self.target[1])\n",
    "    \n",
    "    def get_new_routes(self, min_steps=4, max_steps=10):\n",
    "        new_routes = []\n",
    "        new_directions = list(potential_turns[self.direction])\n",
    "        # create the new routes\n",
    "        for direction in new_directions:\n",
    "            delta = direction_delta[direction]\n",
    "            loss = 0\n",
    "            for i in range(1,max_steps+1):\n",
    "                new_pos = (self.pos[0] + i*delta[0], self.pos[1] + i*delta[1])\n",
    "                if 0 <= new_pos[0] < self.mx and 0 <= new_pos[1] < self.my:\n",
    "                    loss += grid[new_pos[0], new_pos[1]]\n",
    "                    if i >= min_steps:\n",
    "                        new_routes.append(Route(new_pos, self.target, direction, self.loss + loss))\n",
    "        return new_routes    \n",
    "    \n",
    "    def __str__(self):\n",
    "        return 'Route(pos='+str(self.pos)+ ', dir=' + self.direction +\\\n",
    "                ', loss='+str(self.loss) +\\\n",
    "                ', distance=' + str(self.get_distance()) + ')'\n",
    "    \n",
    "    def __repr__(self):\n",
    "        return self.__str__()\n",
    "                    \n",
    "            \n",
    "    "
   ]
  },
  {
   "cell_type": "code",
   "execution_count": 4,
   "id": "e2261dc4-bc09-43ec-a03c-07dc7e16c92d",
   "metadata": {
    "tags": []
   },
   "outputs": [
    {
     "name": "stderr",
     "output_type": "stream",
     "text": [
      "56it [00:17,  8.30it/s]"
     ]
    },
    {
     "name": "stdout",
     "output_type": "stream",
     "text": [
      "801\n"
     ]
    }
   ],
   "source": [
    "best_routes = {}\n",
    "best_routes[((0,0),'F')] = Route(pos=(0,0), target=(grid.shape[0]-1, grid.shape[1]-1), direction='F')\n",
    "improved_pos = [((0,0),'F')]\n",
    "\n",
    "#min_step, max_step = 1, 3 # part1\n",
    "min_step, max_step = 4, 10 # part2\n",
    "\n",
    "# increase the threshold for how far from the target i will continue to consider\n",
    "pbar = tqdm()\n",
    "while len(improved_pos) > 0:\n",
    "    pbar.update()\n",
    "    new_routes = []\n",
    "    for pos in improved_pos:\n",
    "        new_routes.extend(best_routes[pos].get_new_routes(min_step, max_step))\n",
    "    \n",
    "    improved_pos = []\n",
    "    for route in new_routes:\n",
    "        pos = (route.pos, route.direction)\n",
    "        if pos not in best_routes:\n",
    "            best_routes[pos] = route\n",
    "            improved_pos.append(pos)\n",
    "        else:\n",
    "            if route.loss < best_routes[pos].loss:\n",
    "                best_routes[pos] = route\n",
    "                improved_pos.append(pos)\n",
    "    improved_pos = list(set(improved_pos))\n",
    "            \n",
    "    min_loss = min(r.loss for r in new_routes)\n",
    "    \n",
    "print(min([r.loss for r in best_routes.values() if r.pos == r.target]))"
   ]
  }
 ],
 "metadata": {
  "kernelspec": {
   "display_name": "Python 3 (ipykernel)",
   "language": "python",
   "name": "python3"
  },
  "language_info": {
   "codemirror_mode": {
    "name": "ipython",
    "version": 3
   },
   "file_extension": ".py",
   "mimetype": "text/x-python",
   "name": "python",
   "nbconvert_exporter": "python",
   "pygments_lexer": "ipython3",
   "version": "3.11.5"
  }
 },
 "nbformat": 4,
 "nbformat_minor": 5
}
