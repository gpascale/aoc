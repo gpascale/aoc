{
 "cells": [
  {
   "cell_type": "code",
   "execution_count": 1,
   "id": "fcdd07f9-6287-4001-9bfc-0749d050f827",
   "metadata": {
    "tags": []
   },
   "outputs": [],
   "source": [
    "import numpy as np\n",
    "from tqdm import tqdm"
   ]
  },
  {
   "cell_type": "code",
   "execution_count": 2,
   "id": "782fb969-9ea5-4f85-b69c-0cb095a279a3",
   "metadata": {
    "tags": []
   },
   "outputs": [],
   "source": [
    "with open('input.txt') as fl:\n",
    "    lns = fl.readlines()"
   ]
  },
  {
   "cell_type": "code",
   "execution_count": 3,
   "id": "d516a4b5-16b2-49b7-95d6-04aeb55d77e6",
   "metadata": {
    "tags": []
   },
   "outputs": [],
   "source": [
    "grid = np.array([[v for v in ln.strip()] for ln in lns])\n",
    "init_grid = grid.copy()\n",
    "empty_grid = grid.copy()\n",
    "empty_grid[empty_grid == 'O'] = '.'"
   ]
  },
  {
   "cell_type": "code",
   "execution_count": 4,
   "id": "61a9b218-1dc4-4e10-932d-b693a4cfc1c4",
   "metadata": {
    "tags": []
   },
   "outputs": [],
   "source": [
    "def slide_to_the_left(arr):\n",
    "    new_arr = arr.copy()\n",
    "    new_arr[new_arr == 'O'] = '.'\n",
    "    inds = list(np.where(arr == '#')[0]) + [len(arr)]\n",
    "    start = 0\n",
    "    for end in inds:\n",
    "        if end-start > 0:\n",
    "            n = (arr[start:end] == 'O').sum()\n",
    "            new_arr[start:(start + n)] = 'O'\n",
    "        start = end+1\n",
    "    return new_arr"
   ]
  },
  {
   "cell_type": "code",
   "execution_count": 5,
   "id": "fff790ae-d92e-46e2-8d6e-59fd49e21339",
   "metadata": {
    "tags": []
   },
   "outputs": [],
   "source": [
    "def update_grid(grid):\n",
    "    for i in range(grid.shape[1]):\n",
    "        grid[:, i] = slide_to_the_left(grid[:, i])\n",
    "    return grid"
   ]
  },
  {
   "cell_type": "code",
   "execution_count": 6,
   "id": "6dcacafd-6f15-4017-b323-7cf6a71f73d1",
   "metadata": {
    "tags": []
   },
   "outputs": [
    {
     "data": {
      "text/plain": [
       "105784"
      ]
     },
     "execution_count": 6,
     "metadata": {},
     "output_type": "execute_result"
    }
   ],
   "source": [
    "#part1\n",
    "n = grid.shape[0]\n",
    "sum([n - v for v in  np.where(update_grid(grid.copy()) == 'O')[0]])"
   ]
  },
  {
   "cell_type": "code",
   "execution_count": 7,
   "id": "39c68638-370c-4e83-82bb-d8d3729d1761",
   "metadata": {
    "tags": []
   },
   "outputs": [],
   "source": [
    "# part2\n",
    "hashes = {}\n",
    "grid = init_grid.copy()\n",
    "i=0\n",
    "found = False\n",
    "while i < 1000000000:\n",
    "    #print(i)\n",
    "    for j in (0,3,2,1):\n",
    "        update_grid(np.rot90(grid,j))\n",
    "    hsh = hash(''.join(grid.flatten()))\n",
    "    if hsh in hashes and not found:\n",
    "        interv = i - hashes[hsh]\n",
    "        rem = 1000000000 - i\n",
    "        i += (rem // interv - 1) * interv + 1\n",
    "        found = True\n",
    "    else:\n",
    "        hashes[hsh] = i\n",
    "        i += 1"
   ]
  },
  {
   "cell_type": "code",
   "execution_count": 8,
   "id": "e01b92a3-b084-4372-a8a5-01e718adad55",
   "metadata": {
    "tags": []
   },
   "outputs": [
    {
     "data": {
      "text/plain": [
       "91286"
      ]
     },
     "execution_count": 8,
     "metadata": {},
     "output_type": "execute_result"
    }
   ],
   "source": [
    "n = grid.shape[0]\n",
    "sum([n - v for v in  np.where(grid == 'O')[0]])"
   ]
  }
 ],
 "metadata": {
  "kernelspec": {
   "display_name": "Python 3 (ipykernel)",
   "language": "python",
   "name": "python3"
  },
  "language_info": {
   "codemirror_mode": {
    "name": "ipython",
    "version": 3
   },
   "file_extension": ".py",
   "mimetype": "text/x-python",
   "name": "python",
   "nbconvert_exporter": "python",
   "pygments_lexer": "ipython3",
   "version": "3.11.5"
  }
 },
 "nbformat": 4,
 "nbformat_minor": 5
}
