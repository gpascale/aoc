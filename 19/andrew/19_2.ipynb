{
 "cells": [
  {
   "cell_type": "code",
   "execution_count": 1,
   "id": "73741bcb-2ada-49fe-b8f4-2398b19f212e",
   "metadata": {
    "tags": []
   },
   "outputs": [],
   "source": [
    "import sys\n",
    "sys.setrecursionlimit(1000000000)\n",
    "from copy import deepcopy"
   ]
  },
  {
   "cell_type": "code",
   "execution_count": 2,
   "id": "47976cab-e5c0-4b4b-a61d-581f38332bb1",
   "metadata": {
    "tags": []
   },
   "outputs": [],
   "source": [
    "with open('input.txt') as fl:\n",
    "    rules = {}\n",
    "    for ln in fl.readlines():\n",
    "        ln = ln.strip()\n",
    "        if len(ln)>0:\n",
    "            name, rule = ln.strip('}').split('{')\n",
    "            rule = rule.split(',')\n",
    "            rule = [cond.split(':') for cond in rule]\n",
    "            rules[name] = rule\n",
    "        else:\n",
    "            break"
   ]
  },
  {
   "cell_type": "code",
   "execution_count": 3,
   "id": "73dde433-37d4-4df3-ac63-d9666a853573",
   "metadata": {
    "tags": []
   },
   "outputs": [],
   "source": [
    "#rules"
   ]
  },
  {
   "cell_type": "code",
   "execution_count": 4,
   "id": "4ccbfb81-f04c-4f43-9742-db2c89743868",
   "metadata": {
    "tags": []
   },
   "outputs": [],
   "source": [
    "def flip_cond(cond):\n",
    "    return cond.replace('>','LE').replace('<','GE').replace('LE','<=').replace('GE','>=')"
   ]
  },
  {
   "cell_type": "code",
   "execution_count": 5,
   "id": "75620f81-1210-4381-879d-f5d68059952e",
   "metadata": {
    "tags": []
   },
   "outputs": [],
   "source": [
    "def update_xmas(xmas, rule):\n",
    "    xmas = deepcopy(xmas)\n",
    "    for cond in rule:\n",
    "        v = cond[0]\n",
    "        num = int(cond[1:].strip('<>='))\n",
    "        if '>' in cond:\n",
    "            if '=' in cond:\n",
    "                num -= 1\n",
    "            xmas[v][0] = max(num+1, xmas[v][0])\n",
    "        elif '<' in cond:\n",
    "            if '=' in cond:\n",
    "                num += 1\n",
    "            xmas[v][1] = min(num-1, xmas[v][1])    \n",
    "    return xmas\n",
    "\n",
    "def validate_xmas(xmas):\n",
    "    return all(v[0]<=v[1] for v in xmas.values())"
   ]
  },
  {
   "cell_type": "code",
   "execution_count": 6,
   "id": "2ad68dfa-79b6-4aa2-aba8-dd517230ad08",
   "metadata": {
    "tags": []
   },
   "outputs": [],
   "source": [
    "def solve_xmas(xmass=[('in',{'x':[1,4000], 'm':[1,4000], 'a':[1,4000], 's':[1,4000]})]):\n",
    "\n",
    "    new_xmass = []\n",
    "    for start, xmas in xmass:\n",
    "        conds = deepcopy(rules[start])\n",
    "        current_cases = []\n",
    "        for cond, target in conds[:-1]:\n",
    "            current_cases.append(cond)\n",
    "            new_xmas = update_xmas(xmas, current_cases)\n",
    "            new_xmass.append((target, new_xmas))\n",
    "            current_cases[-1] = flip_cond(current_cases[-1])\n",
    "        new_xmass.append((conds[-1][0], update_xmas(xmas, current_cases)))\n",
    "        \n",
    "    solved = [(start, xmas) for start, xmas in new_xmass if start in ('A','R')]\n",
    "    unsolved = [(start, xmas) for start, xmas in new_xmass if start not in ('A','R')]\n",
    "    \n",
    "    if len(unsolved)>0:\n",
    "        solved.extend(solve_xmas(unsolved))\n",
    "    \n",
    "    return solved\n",
    "        \n"
   ]
  },
  {
   "cell_type": "code",
   "execution_count": 7,
   "id": "ce421101-5d73-4356-8ccc-411d4fa0f043",
   "metadata": {
    "tags": []
   },
   "outputs": [
    {
     "data": {
      "text/plain": [
       "116138474394508"
      ]
     },
     "execution_count": 7,
     "metadata": {},
     "output_type": "execute_result"
    }
   ],
   "source": [
    "score = 0\n",
    "for xmas in [xmas for start, xmas in solve_xmas() if start == 'A']:\n",
    "    v = 1\n",
    "    for lb, ub in xmas.values():\n",
    "        v *= ub - lb + 1\n",
    "    score += v\n",
    "score"
   ]
  },
  {
   "cell_type": "code",
   "execution_count": null,
   "id": "8d43360e-38cf-41f1-9dcf-d43eecd46f97",
   "metadata": {},
   "outputs": [],
   "source": []
  }
 ],
 "metadata": {
  "kernelspec": {
   "display_name": "Python 3 (ipykernel)",
   "language": "python",
   "name": "python3"
  },
  "language_info": {
   "codemirror_mode": {
    "name": "ipython",
    "version": 3
   },
   "file_extension": ".py",
   "mimetype": "text/x-python",
   "name": "python",
   "nbconvert_exporter": "python",
   "pygments_lexer": "ipython3",
   "version": "3.11.5"
  }
 },
 "nbformat": 4,
 "nbformat_minor": 5
}
